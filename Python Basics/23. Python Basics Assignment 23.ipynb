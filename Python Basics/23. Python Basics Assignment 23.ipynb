{
 "cells": [
  {
   "cell_type": "markdown",
   "id": "e5af3121",
   "metadata": {},
   "source": [
    "# **Assignment 23**"
   ]
  },
  {
   "cell_type": "markdown",
   "id": "ecd5157c",
   "metadata": {},
   "source": [
    "### **1. What is the result of the code, and why?**\n",
    "`>>> def func(a, b=6, c=8):`\n",
    "\n",
    "`print(a, b, c)`\n",
    "\n",
    "`>>> func(1, 2)`\n",
    "\n",
    "### **Ans:**\n",
    "The result of the above code is `1 2 8`. The function uses the default value of c as 8 which is provided at the time of declaration."
   ]
  },
  {
   "cell_type": "code",
   "execution_count": 1,
   "id": "3547a5ab",
   "metadata": {},
   "outputs": [
    {
     "name": "stdout",
     "output_type": "stream",
     "text": [
      "1 2 8\n"
     ]
    }
   ],
   "source": [
    "def func(a,b=6,c=8):\n",
    "    print(a,b,c)\n",
    "func(1,2)"
   ]
  },
  {
   "cell_type": "markdown",
   "id": "46769d47",
   "metadata": {},
   "source": [
    "---\n",
    "---"
   ]
  },
  {
   "cell_type": "markdown",
   "id": "7ac3cfcc",
   "metadata": {},
   "source": [
    "### **2. What is the result of this code, and why?\n",
    "`>>> def func(a, b, c=5):`\n",
    "    \n",
    "`print(a, b, c)`\n",
    "\n",
    "`>>> func(1, c=3, b=2)`\n",
    "\n",
    "### **Ans:**\n",
    "The value passed to a is 1, b is 2, c is 3 irrespective of the order of values c and b passed, as long as you are using named arguments"
   ]
  },
  {
   "cell_type": "code",
   "execution_count": 2,
   "id": "15114a6e",
   "metadata": {},
   "outputs": [
    {
     "name": "stdout",
     "output_type": "stream",
     "text": [
      "1 2 3\n"
     ]
    }
   ],
   "source": [
    "def func(a,b,c=5):\n",
    "    print(a,b,c)\n",
    "func(1,c=3,b=2)"
   ]
  },
  {
   "cell_type": "markdown",
   "id": "8efd43a5",
   "metadata": {},
   "source": [
    "---\n",
    "---"
   ]
  },
  {
   "cell_type": "markdown",
   "id": "5d42cb69",
   "metadata": {},
   "source": [
    "### **3. How about this code: what is its result, and why?**\n",
    "`>>> def func(a, *pargs):`\n",
    "    \n",
    "`print(a, pargs)`\n",
    "\n",
    "`>>> func(1, 2, 3)`\n",
    "### **Ans:**\n",
    "The result of the code is 1 (2,3). `*pargs` stands for variable length arguments. this format is used when we are not sure about the no of arguments to be passed to a function. all the values under this argument will be stored in a tuple."
   ]
  },
  {
   "cell_type": "code",
   "execution_count": 3,
   "id": "c29af8ce",
   "metadata": {},
   "outputs": [
    {
     "name": "stdout",
     "output_type": "stream",
     "text": [
      "1 (2, 3)\n"
     ]
    }
   ],
   "source": [
    "def func(a, *pargs):\n",
    "    print(a,pargs)\n",
    "func(1,2,3)"
   ]
  },
  {
   "cell_type": "markdown",
   "id": "8e52d459",
   "metadata": {},
   "source": [
    "---\n",
    "---"
   ]
  },
  {
   "cell_type": "markdown",
   "id": "faa6cc62",
   "metadata": {},
   "source": [
    "### **4. What does this code print, and why?**\n",
    "`>>> def func(a, **kargs):`\n",
    "\n",
    "`print(a, kargs)`\n",
    "\n",
    "`>>> func(a=1, c=3, b=2)`\n",
    "### **Ans:**\n",
    "`**kargs` is used for variable lengh keyword arguments. this format is used when we pass key, value pairs as input on a function."
   ]
  },
  {
   "cell_type": "code",
   "execution_count": 4,
   "id": "4db541bf",
   "metadata": {},
   "outputs": [
    {
     "name": "stdout",
     "output_type": "stream",
     "text": [
      "1 {'c': 3, 'b': 2}\n"
     ]
    }
   ],
   "source": [
    "def func(a,**kargs):\n",
    "    print(a,kargs)\n",
    "func(a=1,c=3,b=2)"
   ]
  },
  {
   "cell_type": "markdown",
   "id": "93b9c756",
   "metadata": {},
   "source": [
    "---\n",
    "---"
   ]
  },
  {
   "cell_type": "markdown",
   "id": "9a1e30a5",
   "metadata": {},
   "source": [
    "### **5. What gets printed by this, and explain?**\n",
    "`>>> def func(a, b, c=8, d=5): print(a, b, c, d)`\n",
    "\n",
    "`>>> func(1, *(5, 6))`\n",
    "### **Ans:**\n",
    "func(1, (5, 6)) will print `1 5 6 5` to the console. a will take the value of 1, d will default to 5 as it is not passed. (5, 6) will be read as comma seperated values and assigned to b, c respectively"
   ]
  },
  {
   "cell_type": "code",
   "execution_count": 5,
   "id": "730a180f",
   "metadata": {},
   "outputs": [
    {
     "name": "stdout",
     "output_type": "stream",
     "text": [
      "1 5 6 5\n"
     ]
    }
   ],
   "source": [
    "def func(a,b,c=8,d=5):\n",
    "    print(a,b,c,d)\n",
    "func(1,*(5,6))"
   ]
  },
  {
   "cell_type": "markdown",
   "id": "f3cb3368",
   "metadata": {},
   "source": [
    "---\n",
    "---"
   ]
  },
  {
   "cell_type": "markdown",
   "id": "80985886",
   "metadata": {},
   "source": [
    "### **6. what is the result of this, and explain?**\n",
    "`>>> def func(a, b, c): a = 2; b[0] = 'x'; c['a'] = 'y'`\n",
    "\n",
    "`>>> l=1; m=[1]; n={'a':0}`\n",
    "\n",
    "`>>> func(l, m, n)`\n",
    "\n",
    "`>>> l, m, n`\n",
    "### **Ans:**\n",
    "The output of above code is `1, ['x'], {'a': 'y'}`.\n",
    "\n",
    "1. Eventhough Python gives importance to indentation. its provides a facility to declare an entire function in one single line. where statements in a function body are sepereated by `;`\n",
    "2. When l,m,n are provided as inputs to the function. its modifies the values of l,m,n and sets the value of `l=2` ,`m=['x']` and `n={'a':'y'}`"
   ]
  },
  {
   "cell_type": "code",
   "execution_count": 6,
   "id": "46106b9a",
   "metadata": {},
   "outputs": [
    {
     "data": {
      "text/plain": [
       "(1, ['x'], {'a': 'y'})"
      ]
     },
     "execution_count": 6,
     "metadata": {},
     "output_type": "execute_result"
    }
   ],
   "source": [
    "def func(a, b, c): a = 2; b[0] = 'x'; c['a'] = 'y'\n",
    "l=1; m=[1]; n={'a':0}\n",
    "func(l, m, n)\n",
    "l,m,n"
   ]
  },
  {
   "cell_type": "markdown",
   "id": "40fd5849",
   "metadata": {},
   "source": [
    "---\n",
    "---"
   ]
  }
 ],
 "metadata": {
  "kernelspec": {
   "display_name": "Python 3 (ipykernel)",
   "language": "python",
   "name": "python3"
  },
  "language_info": {
   "codemirror_mode": {
    "name": "ipython",
    "version": 3
   },
   "file_extension": ".py",
   "mimetype": "text/x-python",
   "name": "python",
   "nbconvert_exporter": "python",
   "pygments_lexer": "ipython3",
   "version": "3.11.3"
  }
 },
 "nbformat": 4,
 "nbformat_minor": 5
}
