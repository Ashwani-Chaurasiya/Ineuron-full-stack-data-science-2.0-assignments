{
 "cells": [
  {
   "cell_type": "markdown",
   "id": "cb61f41c",
   "metadata": {},
   "source": [
    "# **Assignment 21**"
   ]
  },
  {
   "cell_type": "markdown",
   "id": "819e396f",
   "metadata": {},
   "source": [
    "### **1. Add the current date to the text file today.txt as a string.**\n",
    "### **Ans:**"
   ]
  },
  {
   "cell_type": "code",
   "execution_count": 1,
   "id": "1f3be630",
   "metadata": {},
   "outputs": [
    {
     "name": "stdout",
     "output_type": "stream",
     "text": [
      "2023-08-09\n"
     ]
    }
   ],
   "source": [
    "from datetime import date\n",
    "\n",
    "with open('today.txt', 'w') as txt:\n",
    "    txt.write(date.today().isoformat())\n",
    "print(date.today().isoformat())"
   ]
  },
  {
   "cell_type": "markdown",
   "id": "ba4b8ed4",
   "metadata": {},
   "source": [
    "---\n",
    "---"
   ]
  },
  {
   "cell_type": "markdown",
   "id": "d28ed8af",
   "metadata": {},
   "source": [
    "### **2. Read the text file today.txt into the string today_string**\n",
    "### **Ans:**"
   ]
  },
  {
   "cell_type": "code",
   "execution_count": 2,
   "id": "d8d3a109",
   "metadata": {},
   "outputs": [
    {
     "name": "stdout",
     "output_type": "stream",
     "text": [
      "Reading text: 2023-08-09\n"
     ]
    }
   ],
   "source": [
    "today_string = \"\"\n",
    "with open('today.txt', 'r') as txt:\n",
    "    today_string = txt.readline()\n",
    "print(f\"Reading text: {today_string}\")"
   ]
  },
  {
   "cell_type": "markdown",
   "id": "00e6c095",
   "metadata": {},
   "source": [
    "---\n",
    "---"
   ]
  },
  {
   "cell_type": "markdown",
   "id": "035e2c25",
   "metadata": {},
   "source": [
    "### **3. Parse the date from today_string**\n",
    "### **Ans:**"
   ]
  },
  {
   "cell_type": "code",
   "execution_count": 3,
   "id": "6459dec2",
   "metadata": {},
   "outputs": [
    {
     "name": "stdout",
     "output_type": "stream",
     "text": [
      "2023-08-09 00:00:00\n"
     ]
    }
   ],
   "source": [
    "from datetime import datetime\n",
    "print(datetime.strptime(today_string, '%Y-%m-%d'))"
   ]
  },
  {
   "cell_type": "markdown",
   "id": "fd29a2f4",
   "metadata": {},
   "source": [
    "---\n",
    "---"
   ]
  },
  {
   "cell_type": "markdown",
   "id": "cc5af8f1",
   "metadata": {},
   "source": [
    "### **4. List the files in your current directory**\n",
    "### **Ans:**"
   ]
  },
  {
   "cell_type": "code",
   "execution_count": 5,
   "id": "41f62973",
   "metadata": {},
   "outputs": [
    {
     "name": "stdout",
     "output_type": "stream",
     "text": [
      "01. Python Basics Assignment 1.ipynb\n",
      "02. Python Basics Assignment 2.ipynb\n",
      "03. Python Basics Assignment 3.ipynb\n",
      "04. Python Basics Assignment 4.ipynb\n",
      "05. Python Basics Assignment 5.ipynb\n",
      "06. Python Basics Assignment 6.ipynb\n",
      "07. Python Basics Assignment 7.ipynb\n",
      "08. Python Basics Assignment 8.ipynb\n",
      "09. Python Basics Assignment 9.ipynb\n",
      "10. Python Basics Assignment 10.ipynb\n",
      "11. Python Basics Assignment 11.ipynb\n",
      "12. Python Basics Assignment 12.ipynb\n",
      "13. Python Basics Assignment 13.ipynb\n",
      "14. Python Basics Assignment 14.ipynb\n",
      "15. Python Basics Assignment 15.ipynb\n",
      "16. Python Basics Assignment 16.ipynb\n",
      "17. Python Basics Assignment 17.ipynb\n",
      "18. Python Basics Assignment 18.ipynb\n",
      "19. Python Basics Assignment 19.ipynb\n",
      "20. Python Basics Assignment 20.ipynb\n",
      "21. Python Basics Assignment 21.ipynb\n",
      "Assignment_1.docx\n",
      "Assignment_10.docx\n",
      "Assignment_11.docx\n",
      "Assignment_12.docx\n",
      "Assignment_13.docx\n",
      "Assignment_14.docx\n",
      "Assignment_15.docx\n",
      "Assignment_16.docx\n",
      "Assignment_17.docx\n",
      "Assignment_18.docx\n",
      "Assignment_19.docx\n",
      "Assignment_2.docx\n",
      "Assignment_20.docx\n",
      "Assignment_21.docx\n",
      "Assignment_22.docx\n",
      "Assignment_23.docx\n",
      "Assignment_24.docx\n",
      "Assignment_25.docx\n",
      "Assignment_3.docx\n",
      "Assignment_4.docx\n",
      "Assignment_5.docx\n",
      "Assignment_6.docx\n",
      "Assignment_7.docx\n",
      "Assignment_8.docx\n",
      "Assignment_9.docx\n",
      "books.csv\n",
      "books.db\n",
      "hello.docx\n",
      "image.jpg\n",
      "my_document.docx\n",
      "my_file.csv\n",
      "pic2.jpg\n",
      "programLog.txt\n",
      "Programming_Assingment1.docx\n",
      "Programming_Assingment2.docx\n",
      "Programming_Assingment3.docx\n",
      "Programming_Assingment4.docx\n",
      "Programming_Assingment5.docx\n",
      "Programming_Assingment6.docx\n",
      "Programming_Assingment7.docx\n",
      "Programming_Assingment8.docx\n",
      "test.txt\n",
      "today.txt\n",
      "zoo.py\n",
      "01. Programming Assignment 1-checkpoint.ipynb\n",
      "01. Python Basics Assignment 1-checkpoint.ipynb\n",
      "02. Python Basics Assignment 2-checkpoint.ipynb\n",
      "05. Python Basics Assignment 5-checkpoint.ipynb\n",
      "06. Python Basics Assignment 6-checkpoint.ipynb\n",
      "07. Python Basics Assignment 7-checkpoint.ipynb\n",
      "17. Python Basics Assignment 17-checkpoint.ipynb\n",
      "18. Python Basics Assignment 18-checkpoint.ipynb\n",
      "19. Python Basics Assignment 19-checkpoint.ipynb\n",
      "20. Python Basics Assignment 20-checkpoint.ipynb\n",
      "21. Python Basics Assignment 21-checkpoint.ipynb\n",
      "01. Programming Assignment 1.ipynb\n",
      "02. Programming Assignment 2.ipynb\n",
      "03. Programming Assignment 3.ipynb\n",
      "04. Programming Assignment 4.ipynb\n",
      "05. Programming Assignment 5.ipynb\n",
      "05. Programming Assignment 5-checkpoint.ipynb\n",
      "zoo.cpython-311.pyc\n"
     ]
    }
   ],
   "source": [
    "import os\n",
    "for folders, subfolders, files in os.walk(os.getcwd()):\n",
    "    for file in files:\n",
    "        print(file)"
   ]
  },
  {
   "cell_type": "markdown",
   "id": "23c30680",
   "metadata": {},
   "source": [
    "---\n",
    "---"
   ]
  },
  {
   "cell_type": "markdown",
   "id": "2535d7e1",
   "metadata": {},
   "source": [
    "### **5. Create a list of all of the files in your parent directory (minimum five files should be available).**\n",
    "### **Ans:**"
   ]
  },
  {
   "cell_type": "code",
   "execution_count": 6,
   "id": "5aa457cb",
   "metadata": {},
   "outputs": [
    {
     "data": {
      "text/plain": [
       "['.ipynb_checkpoints',\n",
       " '01. Python Basics Assignment 1.ipynb',\n",
       " '02. Python Basics Assignment 2.ipynb',\n",
       " '03. Python Basics Assignment 3.ipynb',\n",
       " '04. Python Basics Assignment 4.ipynb',\n",
       " '05. Python Basics Assignment 5.ipynb',\n",
       " '06. Python Basics Assignment 6.ipynb',\n",
       " '07. Python Basics Assignment 7.ipynb',\n",
       " '08. Python Basics Assignment 8.ipynb',\n",
       " '09. Python Basics Assignment 9.ipynb',\n",
       " '10. Python Basics Assignment 10.ipynb',\n",
       " '11. Python Basics Assignment 11.ipynb',\n",
       " '12. Python Basics Assignment 12.ipynb',\n",
       " '13. Python Basics Assignment 13.ipynb',\n",
       " '14. Python Basics Assignment 14.ipynb',\n",
       " '15. Python Basics Assignment 15.ipynb',\n",
       " '16. Python Basics Assignment 16.ipynb',\n",
       " '17. Python Basics Assignment 17.ipynb',\n",
       " '18. Python Basics Assignment 18.ipynb',\n",
       " '19. Python Basics Assignment 19.ipynb',\n",
       " '20. Python Basics Assignment 20.ipynb',\n",
       " '21. Python Basics Assignment 21.ipynb',\n",
       " 'Assignment_1.docx',\n",
       " 'Assignment_10.docx',\n",
       " 'Assignment_11.docx',\n",
       " 'Assignment_12.docx',\n",
       " 'Assignment_13.docx',\n",
       " 'Assignment_14.docx',\n",
       " 'Assignment_15.docx',\n",
       " 'Assignment_16.docx',\n",
       " 'Assignment_17.docx',\n",
       " 'Assignment_18.docx',\n",
       " 'Assignment_19.docx',\n",
       " 'Assignment_2.docx',\n",
       " 'Assignment_20.docx',\n",
       " 'Assignment_21.docx',\n",
       " 'Assignment_22.docx',\n",
       " 'Assignment_23.docx',\n",
       " 'Assignment_24.docx',\n",
       " 'Assignment_25.docx',\n",
       " 'Assignment_3.docx',\n",
       " 'Assignment_4.docx',\n",
       " 'Assignment_5.docx',\n",
       " 'Assignment_6.docx',\n",
       " 'Assignment_7.docx',\n",
       " 'Assignment_8.docx',\n",
       " 'Assignment_9.docx',\n",
       " 'books.csv',\n",
       " 'books.db',\n",
       " 'hello.docx',\n",
       " 'image.jpg',\n",
       " 'my_document.docx',\n",
       " 'my_file.csv',\n",
       " 'pic2.jpg',\n",
       " 'programLog.txt',\n",
       " 'Programming_Assingment1.docx',\n",
       " 'Programming_Assingment2.docx',\n",
       " 'Programming_Assingment3.docx',\n",
       " 'Programming_Assingment4.docx',\n",
       " 'Programming_Assingment5.docx',\n",
       " 'Programming_Assingment6.docx',\n",
       " 'Programming_Assingment7.docx',\n",
       " 'Programming_Assingment8.docx',\n",
       " 'Python basics Programming Assignments',\n",
       " 'test.txt',\n",
       " 'today.txt',\n",
       " 'zoo.py',\n",
       " '__pycache__']"
      ]
     },
     "execution_count": 6,
     "metadata": {},
     "output_type": "execute_result"
    }
   ],
   "source": [
    "import os \n",
    "os.listdir()"
   ]
  },
  {
   "cell_type": "markdown",
   "id": "2eab21e3",
   "metadata": {},
   "source": [
    "---\n",
    "---"
   ]
  },
  {
   "cell_type": "markdown",
   "id": "8f585f1f",
   "metadata": {},
   "source": [
    "### **6. Use multiprocessing to create three separate processes. Make each one wait a random number of seconds between one and five, print the current time, and then exit.**\n",
    "### **Ans:**"
   ]
  },
  {
   "cell_type": "code",
   "execution_count": 7,
   "id": "b5147332",
   "metadata": {},
   "outputs": [
    {
     "name": "stdout",
     "output_type": "stream",
     "text": [
      "starting processes\n",
      "Process 0 will sleep for 7\n",
      "starting processes\n",
      "Process 1 will sleep for 9\n",
      "starting processes\n",
      "Process 2 will sleep for 1\n"
     ]
    }
   ],
   "source": [
    "import multiprocessing\n",
    "from datetime import datetime \n",
    "from time import sleep \n",
    "import random\n",
    "\n",
    "def now_sleep(seconds): \n",
    "    print('wait', seconds, 'seconds, time is', datetime.utcnow())\n",
    "    sleep(seconds) \n",
    "    print(\"Finished Process!\")\n",
    "\n",
    "if __name__ == '__main__':\n",
    "    for n in range(3): \n",
    "        print(\"starting processes\")\n",
    "        seconds = random.randint(1, 10) \n",
    "        print(f\"Process {n} will sleep for {seconds}\")\n",
    "        proc = multiprocessing.Process(target=now_sleep, args=(seconds,)) \n",
    "        proc.start()\n",
    "        \n",
    "# Note: this file is saved as multiprocessing.py in local file system"
   ]
  },
  {
   "cell_type": "markdown",
   "id": "2ce9f6e9",
   "metadata": {},
   "source": [
    "---\n",
    "---"
   ]
  },
  {
   "cell_type": "markdown",
   "id": "892f2daf",
   "metadata": {},
   "source": [
    "### **7. Create a date object of your day of birth.**\n",
    "### **Ans:**"
   ]
  },
  {
   "cell_type": "code",
   "execution_count": 9,
   "id": "3e8420ec",
   "metadata": {},
   "outputs": [
    {
     "name": "stdout",
     "output_type": "stream",
     "text": [
      "2002-05-11 00:00:00 <class 'datetime.datetime'>\n"
     ]
    }
   ],
   "source": [
    "from datetime import datetime\n",
    "my_dob = datetime.strptime('11/05/2002','%d/%m/%Y')\n",
    "print(my_dob, type(my_dob))"
   ]
  },
  {
   "cell_type": "markdown",
   "id": "b1512cec",
   "metadata": {},
   "source": [
    "---\n",
    "---"
   ]
  },
  {
   "cell_type": "markdown",
   "id": "4c85ef66",
   "metadata": {},
   "source": [
    "### **8. What day of the week was your day of birth?**\n",
    "### **Ans:**"
   ]
  },
  {
   "cell_type": "code",
   "execution_count": 10,
   "id": "9b739634",
   "metadata": {},
   "outputs": [
    {
     "data": {
      "text/plain": [
       "'Saturday'"
      ]
     },
     "execution_count": 10,
     "metadata": {},
     "output_type": "execute_result"
    }
   ],
   "source": [
    "from datetime import datetime\n",
    "my_dob = datetime(2002,5,11)\n",
    "my_dob.strftime(\"%A\")"
   ]
  },
  {
   "cell_type": "markdown",
   "id": "6b63b4e1",
   "metadata": {},
   "source": [
    "---\n",
    "---"
   ]
  },
  {
   "cell_type": "markdown",
   "id": "9998ba92",
   "metadata": {},
   "source": [
    "### **9. When will you be (or when were you) 10,000 days old?**\n",
    "### **Ans:**"
   ]
  },
  {
   "cell_type": "code",
   "execution_count": 11,
   "id": "a400b214",
   "metadata": {},
   "outputs": [
    {
     "name": "stdout",
     "output_type": "stream",
     "text": [
      "2029-09-26\n"
     ]
    }
   ],
   "source": [
    "\n",
    "from datetime import timedelta\n",
    "\n",
    "thousand_days = my_birthday + timedelta(days=10000)\n",
    "print(thousand_days)"
   ]
  },
  {
   "cell_type": "markdown",
   "id": "83ca6a6c",
   "metadata": {},
   "source": [
    "---\n",
    "---"
   ]
  }
 ],
 "metadata": {
  "kernelspec": {
   "display_name": "Python 3 (ipykernel)",
   "language": "python",
   "name": "python3"
  },
  "language_info": {
   "codemirror_mode": {
    "name": "ipython",
    "version": 3
   },
   "file_extension": ".py",
   "mimetype": "text/x-python",
   "name": "python",
   "nbconvert_exporter": "python",
   "pygments_lexer": "ipython3",
   "version": "3.11.3"
  }
 },
 "nbformat": 4,
 "nbformat_minor": 5
}
