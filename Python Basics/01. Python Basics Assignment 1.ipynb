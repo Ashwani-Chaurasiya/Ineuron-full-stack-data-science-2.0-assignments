{
 "cells": [
  {
   "cell_type": "markdown",
   "id": "75b07c41",
   "metadata": {},
   "source": [
    "# **Assignment 1**"
   ]
  },
  {
   "cell_type": "markdown",
   "id": "e2952fe8",
   "metadata": {},
   "source": [
    "#### **1. In the below elements which of them are values or an expression? eg:- values can be integer or string and expressions will be mathematical operators.**\n",
    " `*` , `'hello'` , `-87.8` , `-` , `/` , `+` , `6`  "
   ]
  },
  {
   "cell_type": "markdown",
   "id": "aa9e1ea1",
   "metadata": {},
   "source": [
    "**Ans**: There are 3 values and 4 expressions in above element -\n",
    "- **Values** - \n",
    "\n",
    "> `'hello'` ->(string value)\n",
    "\n",
    "> `87.8` ----->(floating-point value)\n",
    "\n",
    "> `6` --------->(integer value)\n",
    "\n",
    "- **Expressions** -\n",
    "\n",
    "> `*` ------->(multiplication operator)\n",
    "\n",
    "> `-` ------->(subtraction operator)\n",
    "\n",
    "> `/` ------->(division operator)\n",
    "\n",
    "> `+` ------->(addition operator)\n"
   ]
  },
  {
   "cell_type": "markdown",
   "id": "c3d05ba0",
   "metadata": {},
   "source": [
    "---\n",
    "---"
   ]
  },
  {
   "cell_type": "markdown",
   "id": "5433a9b9",
   "metadata": {},
   "source": [
    "#### **2. What is the difference between string and variable?**\n",
    "**Ans :** \n",
    "- `String` is a data type used to represent a sequence of characters, such as letters, digits or symbols. Strings are enclosed under quotation mark(single or double quote) to differentiate from other data type. Example -- \"Hello\"\n",
    "- `Variable` is a symbolic name or identifier used to represent memory location of the data. Variable can hold different types of data such as string, integer, boolean, etc. Variables provide a way to store and manipulate data in a more flexible and dynamic manner, `=` equal to sign is used to assign variable to any data type. Example -- x = 2"
   ]
  },
  {
   "cell_type": "markdown",
   "id": "fa3fd634",
   "metadata": {},
   "source": [
    "---\n",
    "---"
   ]
  },
  {
   "cell_type": "markdown",
   "id": "715edce5",
   "metadata": {},
   "source": [
    "#### **3. Describe three different data types.**\n",
    "**Ans :**\n",
    ">**1. Integer (int):** The integer data type represents whole numbers without any fractional or decimal part. It can be either positive or negative. \n",
    "\n",
    ">**2. Float (float):** The float data type represents fractional or decimal values. This is used to represent real numbers, float can be negative and positive.\n",
    "\n",
    ">**2. Boolean:** The boolean data type represents a logical value that can be either `true` or `false`. Booleans are used in conditional statements and decision-making processes in programming."
   ]
  },
  {
   "cell_type": "markdown",
   "id": "9092d8ef",
   "metadata": {},
   "source": [
    "##### **Example**"
   ]
  },
  {
   "cell_type": "code",
   "execution_count": 21,
   "id": "338f305e",
   "metadata": {},
   "outputs": [
    {
     "name": "stdout",
     "output_type": "stream",
     "text": [
      "10 <class 'int'>\n",
      "<class 'float'> <class 'type'>\n",
      "True <class 'bool'>\n"
     ]
    }
   ],
   "source": [
    "# Create an integer\n",
    "integer = 10\n",
    "print(integer, type(integer))\n",
    "\n",
    "# Create a float\n",
    "Float = 3.14159\n",
    "print(float, type(float))\n",
    "\n",
    "# Create a Boolean\n",
    "is_raining = True\n",
    "\n",
    "# Conditional statement based on the boolean value\n",
    "if is_raining:\n",
    "    print(\"True\", type(is_raining))\n",
    "else:\n",
    "    print(\"False\", type(is_raining))"
   ]
  },
  {
   "cell_type": "markdown",
   "id": "36eb3d43",
   "metadata": {},
   "source": [
    "---\n",
    "---"
   ]
  },
  {
   "cell_type": "markdown",
   "id": "5bf080ce",
   "metadata": {},
   "source": [
    "#### **4. What is an expression made up of? What do all expressions do?**\n",
    "**Ans:** An expression is made up of one or more elements that can include values, variables, operators, and function calls. It combines these elements in a structured way to produce a new value or result. All expressions evaluate to a single value. The value of an expression is the result of combining the values and variables in the expression according to the operators."
   ]
  },
  {
   "cell_type": "code",
   "execution_count": 22,
   "id": "aa4bf629",
   "metadata": {},
   "outputs": [
    {
     "name": "stdout",
     "output_type": "stream",
     "text": [
      "20\n"
     ]
    }
   ],
   "source": [
    "# Define a variable\n",
    "x = 10\n",
    "\n",
    "# Add 10 to the variable x\n",
    "y = x + 10\n",
    "\n",
    "# Print the value of y\n",
    "print(y)"
   ]
  },
  {
   "cell_type": "markdown",
   "id": "6845ce9b",
   "metadata": {},
   "source": [
    "---\n",
    "---"
   ]
  },
  {
   "cell_type": "markdown",
   "id": "60fc71e7",
   "metadata": {},
   "source": [
    "#### **5. This assignment statements, like spam = 10. What is the difference between an expression and a statement?**\n",
    "**Ans:**\n",
    "\n",
    "**Expression:**\n",
    "\n",
    "An expression is a combination of values, variables, operators, and function calls that produces a value. It can be as simple as a single value or as complex as a combination of multiple elements. Expressions are evaluated to produce a result.\n",
    "Expressions can be used as part of larger expressions, assigned to variables, or used as function arguments. They are often used to perform calculations, make comparisons, or manipulate data.\n",
    "- Examples of expressions: 2 + 3, x * y, len(\"Hello\"), etc.\n",
    "\n",
    "**Statement:**\n",
    "\n",
    "A statement, on the other hand, is a complete line of code that performs an action or controls the flow of a program. Statements can include expressions, but they can also include keywords, control structures, function calls, and more.\n",
    "Statements are executed sequentially, one after another, and they may have side effects or change the state of a program.\n",
    "- Examples of statements: assignment statements (spam = 10), conditional statements (if, else, elif), loop statements (for, while), function definitions, etc.\n",
    "In the example you provided, spam = 10 is an assignment statement. It assigns the value 10 to the variable spam. The right side of the assignment (10) is an expression that evaluates to the value 10, and the assignment statement changes the value associated with the variable spam.\n",
    "\n",
    "In summary, expressions produce values, while statements perform actions or control the flow of a program. Expressions can be part of statements, but not all statements include expressions"
   ]
  },
  {
   "cell_type": "markdown",
   "id": "c8c1f3c0",
   "metadata": {},
   "source": [
    "---\n",
    "---"
   ]
  },
  {
   "cell_type": "markdown",
   "id": "19dc4e6a",
   "metadata": {},
   "source": [
    "#### **6. After running the following code, what does the variable bacon contain?**\n",
    "- bacon = 22\n",
    "- bacon + 1"
   ]
  },
  {
   "cell_type": "code",
   "execution_count": 23,
   "id": "b684aa3a",
   "metadata": {},
   "outputs": [
    {
     "name": "stdout",
     "output_type": "stream",
     "text": [
      "22\n",
      "23\n"
     ]
    }
   ],
   "source": [
    "#bacon as variables\n",
    "bacon = 22\n",
    "bacon + 1\n",
    "print(bacon)\n",
    "\n",
    "# bacon as expression\n",
    "\n",
    "bacon = 22\n",
    "bacon = bacon + 1\n",
    "print(bacon)"
   ]
  },
  {
   "cell_type": "markdown",
   "id": "1102c646",
   "metadata": {},
   "source": [
    "**Ans:**  The variable bacon will still contain the value 22.\n",
    "\n",
    "- The code `bacon = 22` defines the variable bacon and sets it to the value 22.\n",
    "- The code `bacon + 1` is an expression that evaluates to the value 23.\n",
    "- The value of the variable bacon is not changed by the expression `bacon + 1`.\n",
    "\n",
    "In this code, the first line assigns the value 22 to the variable bacon. However, the second line bacon + 1 performs the addition operation bacon + 1, which results in 23. However, the result of this expression is not stored or assigned to any variable. It is simply evaluated but not used or stored anywhere.\n",
    "We can create expression with bacon to get result 23."
   ]
  },
  {
   "cell_type": "markdown",
   "id": "d1b241e7",
   "metadata": {},
   "source": [
    "---\n",
    "---"
   ]
  },
  {
   "cell_type": "markdown",
   "id": "5ddb18d8",
   "metadata": {},
   "source": [
    "#### **7. What should the values of the following two terms be?**\n",
    "- 'spam' + 'spamspam'\n",
    "- 'spam' * 3\n"
   ]
  },
  {
   "cell_type": "code",
   "execution_count": 24,
   "id": "a06b14ee",
   "metadata": {},
   "outputs": [
    {
     "name": "stdout",
     "output_type": "stream",
     "text": [
      "spamspamspam\n",
      "spamspamspam\n"
     ]
    }
   ],
   "source": [
    "print('spam'+'spamspam') # String Concatentation\n",
    "print('spam'*3)          # String Multiplication"
   ]
  },
  {
   "cell_type": "markdown",
   "id": "745e996e",
   "metadata": {},
   "source": [
    "**Ans:**  Both expressions evaluate to the string 'spamspamspam' Where as the first expression follows `String Concatentation` and the second expression follows `String Multiplication`."
   ]
  },
  {
   "cell_type": "markdown",
   "id": "29cb31a0",
   "metadata": {},
   "source": [
    "---\n",
    "---"
   ]
  },
  {
   "cell_type": "markdown",
   "id": "d1b21d7a",
   "metadata": {},
   "source": [
    "#### **8. Why is eggs a valid variable name while 100 is invalid?**\n",
    "\n",
    "**Ans:** The variable name eggs is valid because it follows the following rules for variable names in Python:\n",
    "\n",
    "- Variable names must start with a letter or an underscore.\n",
    "- Variable names can contain letters, numbers, and underscores.\n",
    "- Variable names cannot be keywords.\n",
    "- Variable names cannot be reserved words.\n",
    "\n",
    "The variable name 100 is invalid because it does not start with a letter or an underscore. In Python, variable names cannot start with numbers."
   ]
  },
  {
   "cell_type": "code",
   "execution_count": 25,
   "id": "7409cfa8",
   "metadata": {},
   "outputs": [
    {
     "ename": "SyntaxError",
     "evalue": "cannot assign to literal here. Maybe you meant '==' instead of '='? (1036120052.py, line 2)",
     "output_type": "error",
     "traceback": [
      "\u001b[1;36m  Cell \u001b[1;32mIn[25], line 2\u001b[1;36m\u001b[0m\n\u001b[1;33m    100 = \"Hello\"     # Invalid variable name\u001b[0m\n\u001b[1;37m    ^\u001b[0m\n\u001b[1;31mSyntaxError\u001b[0m\u001b[1;31m:\u001b[0m cannot assign to literal here. Maybe you meant '==' instead of '='?\n"
     ]
    }
   ],
   "source": [
    "eggs = \"Hello\"    # Valid variable name\n",
    "100 = \"Hello\"     # Invalid variable name\n",
    "\n",
    "print(eggs)\n",
    "print(100)"
   ]
  },
  {
   "cell_type": "markdown",
   "id": "df21a965",
   "metadata": {},
   "source": [
    "---\n",
    "---"
   ]
  },
  {
   "cell_type": "markdown",
   "id": "4cbf692d",
   "metadata": {},
   "source": [
    "#### **9. What three functions can be used to get the integer, floating-point number, or string version of a value?**"
   ]
  },
  {
   "cell_type": "code",
   "execution_count": 26,
   "id": "18f4c394",
   "metadata": {},
   "outputs": [
    {
     "name": "stdout",
     "output_type": "stream",
     "text": [
      "10\n",
      "(3.3+0j)\n",
      "42\n"
     ]
    }
   ],
   "source": [
    "num1 = int(\"10\")  # Converts the string \"10\" to an integer\n",
    "num2 = complex(\"3.3\")  # Converts the string \"3.3\" to a complex\n",
    "text = str(42)  # Converts the integer 42 to a string\n",
    "\n",
    "print(num1)\n",
    "print(num2)\n",
    "print(text)"
   ]
  },
  {
   "cell_type": "markdown",
   "id": "10efe32b",
   "metadata": {},
   "source": [
    "---\n",
    "---"
   ]
  },
  {
   "cell_type": "markdown",
   "id": "7b9844b5",
   "metadata": {},
   "source": [
    "#### **10. Why does this expression cause an error? How can you fix it?**\n",
    "\n",
    "- 'I have eaten ' + 99 + ' burritos.'\n"
   ]
  },
  {
   "cell_type": "code",
   "execution_count": 27,
   "id": "7b434086",
   "metadata": {},
   "outputs": [
    {
     "ename": "TypeError",
     "evalue": "can only concatenate str (not \"int\") to str",
     "output_type": "error",
     "traceback": [
      "\u001b[1;31m---------------------------------------------------------------------------\u001b[0m",
      "\u001b[1;31mTypeError\u001b[0m                                 Traceback (most recent call last)",
      "Cell \u001b[1;32mIn[27], line 1\u001b[0m\n\u001b[1;32m----> 1\u001b[0m \u001b[39m'\u001b[39;49m\u001b[39mI have eaten \u001b[39;49m\u001b[39m'\u001b[39;49m \u001b[39m+\u001b[39;49m \u001b[39m99\u001b[39;49m \u001b[39m+\u001b[39m \u001b[39m'\u001b[39m\u001b[39m burritos.\u001b[39m\u001b[39m'\u001b[39m\n",
      "\u001b[1;31mTypeError\u001b[0m: can only concatenate str (not \"int\") to str"
     ]
    }
   ],
   "source": [
    " 'I have eaten ' + 99 + ' burritos.'"
   ]
  },
  {
   "cell_type": "markdown",
   "id": "87ff9726",
   "metadata": {},
   "source": [
    "**Ans:** The error in this code is 99. Contacatinaton can not be applied in two or more different data types the data types should be same to apply concatination. Here we will convert 99 integer into String."
   ]
  },
  {
   "cell_type": "code",
   "execution_count": 28,
   "id": "45be2476",
   "metadata": {},
   "outputs": [
    {
     "data": {
      "text/plain": [
       "'I have eaten 99 burritos.'"
      ]
     },
     "execution_count": 28,
     "metadata": {},
     "output_type": "execute_result"
    }
   ],
   "source": [
    " 'I have eaten ' + str(99) + ' burritos.'"
   ]
  },
  {
   "cell_type": "markdown",
   "id": "f8f1f480",
   "metadata": {},
   "source": [
    "---\n",
    "---"
   ]
  }
 ],
 "metadata": {
  "kernelspec": {
   "display_name": "Python 3 (ipykernel)",
   "language": "python",
   "name": "python3"
  },
  "language_info": {
   "codemirror_mode": {
    "name": "ipython",
    "version": 3
   },
   "file_extension": ".py",
   "mimetype": "text/x-python",
   "name": "python",
   "nbconvert_exporter": "python",
   "pygments_lexer": "ipython3",
   "version": "3.11.4"
  }
 },
 "nbformat": 4,
 "nbformat_minor": 5
}
