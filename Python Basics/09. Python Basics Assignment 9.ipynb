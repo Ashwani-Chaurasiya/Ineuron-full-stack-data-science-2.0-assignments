{
 "cells": [
  {
   "cell_type": "markdown",
   "metadata": {},
   "source": [
    "# **Assignment 9**"
   ]
  },
  {
   "cell_type": "markdown",
   "metadata": {},
   "source": [
    "### **1. To what does a relative path refer?**\n",
    "### **Ans:**\n",
    "Relative path is relative to the current working directory. When we use relative path, we need to provide complete path of the root directory, instead we can provide partial path to indicate the file location"
   ]
  },
  {
   "cell_type": "markdown",
   "metadata": {},
   "source": [
    "---\n",
    "---"
   ]
  },
  {
   "cell_type": "markdown",
   "metadata": {},
   "source": [
    "### **2. What does an absolute path start with your operating system?**\n",
    "### **Ans:**\n",
    "os.getcwd() method tells us the location of current working directory (CWD). Whereas os.chdir() method in Python used to change the current working directory to specified path. These functions are similar to linux commands pwd and cd"
   ]
  },
  {
   "cell_type": "markdown",
   "metadata": {},
   "source": [
    "---\n",
    "---"
   ]
  },
  {
   "cell_type": "markdown",
   "metadata": {},
   "source": [
    "### **3. What do the functions os.getcwd() and os.chdir() do?**\n",
    "### **Ans:**\n",
    "- `os.getcwd()`: returns the current working directory\n",
    "- `os.chdir()` : is used to change the current working directory"
   ]
  },
  {
   "cell_type": "markdown",
   "metadata": {},
   "source": [
    "---\n",
    "---"
   ]
  },
  {
   "cell_type": "markdown",
   "metadata": {},
   "source": [
    "### **4. What are the . and .. folders?**\n",
    "### **Ans:**\n",
    "- `.` Represents the Current Directory Whereas \n",
    "- `..` Represents the Parent Directory of the Current Directory"
   ]
  },
  {
   "cell_type": "markdown",
   "metadata": {},
   "source": [
    "---\n",
    "---"
   ]
  },
  {
   "cell_type": "markdown",
   "metadata": {},
   "source": [
    "### **5. In C:\\bacon\\eggs\\spam.txt, which part is the dir name, and which part is the base name?**\n",
    "### **Ans:**\n",
    "- `C:\\bacon\\eggs` is the dir name\n",
    "- `spam.txt` is the base name"
   ]
  },
  {
   "cell_type": "markdown",
   "metadata": {},
   "source": [
    "---\n",
    "---"
   ]
  },
  {
   "cell_type": "markdown",
   "metadata": {},
   "source": [
    "### **6. What are the three “mode” arguments that can be passed to the open() function?**\n",
    "### **Ans:**\n",
    "The Three mode arguments that can be passed to `open(filename, mode)` are:\n",
    "\n",
    "- `'r'` - Read Mode: This is default mode for open().\n",
    "- `'w'` - Write Mode: This mode is used to overwrite the content in the file.\n",
    "- `'a'` - Append Mode: Used to append the data without overwriting."
   ]
  },
  {
   "cell_type": "markdown",
   "metadata": {},
   "source": [
    "---\n",
    "---"
   ]
  },
  {
   "cell_type": "markdown",
   "metadata": {},
   "source": [
    "### **7. What happens if an existing file is opened in write mode?**\n",
    "### **Ans:**\n",
    " Using this mode will overwrite any existing content in a file. If the given file does not exist, a new one will be created."
   ]
  },
  {
   "cell_type": "markdown",
   "metadata": {},
   "source": [
    "---\n",
    "---"
   ]
  },
  {
   "cell_type": "markdown",
   "metadata": {},
   "source": [
    "### **8.How do you tell the difference between read() and readlines() ?**\n",
    "### **Ans:**\n",
    "- `read()`: read will read the whole file at once and the print out the first characters taht thake up as many bytes as you specify in the parenthesis.\n",
    "\n",
    "- `readline()`: readline will read and print out only first characters that take up as many bytes as you specify."
   ]
  },
  {
   "cell_type": "markdown",
   "metadata": {},
   "source": [
    "---\n",
    "---"
   ]
  },
  {
   "cell_type": "markdown",
   "metadata": {},
   "source": [
    "### **9. What data structure does a shelf value resemble?**\n",
    "### **Ans:**\n",
    "A shelf value resembles a dictionary value; it has keys and values, along with `keys()` and `values()` methods that work similarly to the dictionary methods of the same names."
   ]
  },
  {
   "cell_type": "markdown",
   "metadata": {},
   "source": [
    "---\n",
    "---"
   ]
  }
 ],
 "metadata": {
  "language_info": {
   "name": "python"
  },
  "orig_nbformat": 4
 },
 "nbformat": 4,
 "nbformat_minor": 2
}
