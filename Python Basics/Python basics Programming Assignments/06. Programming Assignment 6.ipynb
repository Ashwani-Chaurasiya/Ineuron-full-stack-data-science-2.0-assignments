{
 "cells": [
  {
   "cell_type": "markdown",
   "id": "4c548798",
   "metadata": {},
   "source": [
    "# **Assignment 6**"
   ]
  },
  {
   "cell_type": "markdown",
   "id": "f8906e58",
   "metadata": {},
   "source": [
    "### **1. Write a Python Program to Display Fibonacci Sequence Using Recursion?**\n",
    "### **Ans:**"
   ]
  },
  {
   "cell_type": "code",
   "execution_count": 6,
   "id": "51a59c10",
   "metadata": {},
   "outputs": [
    {
     "name": "stdout",
     "output_type": "stream",
     "text": [
      "Enter the number of terms in the Fibonacci sequence: 20\n",
      "Fibonacci Sequence: [0, 1, 1, 2, 3, 5, 8, 13, 21, 34, 55, 89, 144, 233, 377, 610, 987, 1597, 2584, 4181]\n"
     ]
    }
   ],
   "source": [
    "def fibonacci_recursive(n):\n",
    "    if n <= 0:\n",
    "        return []\n",
    "    elif n == 1:\n",
    "        return [0]\n",
    "    elif n == 2:\n",
    "        return [0, 1]\n",
    "    else:\n",
    "        fib_sequence = fibonacci_recursive(n - 1)\n",
    "        fib_sequence.append(fib_sequence[-1] + fib_sequence[-2])\n",
    "        return fib_sequence\n",
    "\n",
    "# Get the input from the user\n",
    "num_terms = int(input(\"Enter the number of terms in the Fibonacci sequence: \"))\n",
    "\n",
    "# Display the Fibonacci sequence\n",
    "fib_sequence = fibonacci_recursive(num_terms)\n",
    "print(\"Fibonacci Sequence:\", fib_sequence)"
   ]
  },
  {
   "cell_type": "markdown",
   "id": "97761b24",
   "metadata": {},
   "source": [
    "---\n",
    "---"
   ]
  },
  {
   "cell_type": "markdown",
   "id": "51225f72",
   "metadata": {},
   "source": [
    "### **2. Write a Python Program to Find Factorial of Number Using Recursion?**\n",
    "### **Ans:**"
   ]
  },
  {
   "cell_type": "code",
   "execution_count": 8,
   "id": "ef95f0d0",
   "metadata": {},
   "outputs": [
    {
     "name": "stdout",
     "output_type": "stream",
     "text": [
      "Enter a number: 7\n",
      "The factorial of 7 is 5040\n"
     ]
    }
   ],
   "source": [
    "def factorial_recursive(n):\n",
    "    if n == 0 or n == 1:\n",
    "        return 1\n",
    "    else:\n",
    "        return n * factorial_recursive(n - 1)\n",
    "\n",
    "# Get the input from the user\n",
    "num = int(input(\"Enter a number: \"))\n",
    "\n",
    "# Calculate and display the factorial\n",
    "factorial = factorial_recursive(num)\n",
    "print(f\"The factorial of {num} is {factorial}\")"
   ]
  },
  {
   "cell_type": "markdown",
   "id": "439ddd99",
   "metadata": {},
   "source": [
    "---\n",
    "---"
   ]
  },
  {
   "cell_type": "markdown",
   "id": "4cf8650a",
   "metadata": {},
   "source": [
    "### **3. Write a Python Program to calculate your Body Mass Index?**\n",
    "### **Ans:**"
   ]
  },
  {
   "cell_type": "code",
   "execution_count": 11,
   "id": "d5024d4c",
   "metadata": {},
   "outputs": [
    {
     "name": "stdout",
     "output_type": "stream",
     "text": [
      "Enter your weight in kilograms: 70\n",
      "Enter your height in meters: 1.65\n",
      "Your BMI is: 25.71\n"
     ]
    }
   ],
   "source": [
    "def calculate_bmi(weight, height):\n",
    "    bmi = weight / (height ** 2)\n",
    "    return bmi\n",
    "\n",
    "# Get input from the user\n",
    "weight_kg = float(input(\"Enter your weight in kilograms: \"))\n",
    "height_m = float(input(\"Enter your height in meters: \"))\n",
    "\n",
    "# Calculate BMI\n",
    "bmi_result = calculate_bmi(weight_kg, height_m)\n",
    "\n",
    "# Display the BMI\n",
    "print(f\"Your BMI is: {bmi_result:.2f}\")"
   ]
  },
  {
   "cell_type": "markdown",
   "id": "10cb74b0",
   "metadata": {},
   "source": [
    "---\n",
    "---"
   ]
  },
  {
   "cell_type": "markdown",
   "id": "bc21835f",
   "metadata": {},
   "source": [
    "### **4. Write a Python Program to calculate the natural logarithm of any number?**\n",
    "### **Ans:**"
   ]
  },
  {
   "cell_type": "code",
   "execution_count": 13,
   "id": "e83a6a47",
   "metadata": {},
   "outputs": [
    {
     "name": "stdout",
     "output_type": "stream",
     "text": [
      "Enter a number: 25\n",
      "The natural logarithm of 25.0 is 3.2189\n"
     ]
    }
   ],
   "source": [
    "import math\n",
    "\n",
    "# Calculate the natural logarithm\n",
    "number = float(input(\"Enter a number: \"))\n",
    "natural_log = math.log(number)\n",
    "\n",
    "# Display the result\n",
    "print(f\"The natural logarithm of {number} is {natural_log:.4f}\")"
   ]
  },
  {
   "cell_type": "markdown",
   "id": "355a6c0c",
   "metadata": {},
   "source": [
    "---\n",
    "---"
   ]
  },
  {
   "cell_type": "markdown",
   "id": "216836b1",
   "metadata": {},
   "source": [
    "### **5. Write a Python Program for cube sum of first n natural numbers?**\n",
    "### **Ans:**"
   ]
  },
  {
   "cell_type": "code",
   "execution_count": 16,
   "id": "d9d39fd4",
   "metadata": {},
   "outputs": [
    {
     "name": "stdout",
     "output_type": "stream",
     "text": [
      "Enter the value of n: 5\n",
      "The sum of cubes of the first 5 natural numbers is: 225\n"
     ]
    }
   ],
   "source": [
    "def sum(n):\n",
    "    sum_of_cubes = 0\n",
    "    for i in range(1, n + 1):\n",
    "        sum_of_cubes += i ** 3\n",
    "    return sum_of_cubes\n",
    "\n",
    "# Get input from the user\n",
    "n = int(input(\"Enter the value of n: \"))\n",
    "\n",
    "# Calculate the sum of cubes\n",
    "result = sum(n)\n",
    "\n",
    "# Display the result\n",
    "print(f\"The sum of cubes of the first {n} natural numbers is: {result}\")"
   ]
  },
  {
   "cell_type": "markdown",
   "id": "1116f0cd",
   "metadata": {},
   "source": [
    "---\n",
    "---"
   ]
  }
 ],
 "metadata": {
  "kernelspec": {
   "display_name": "Python 3 (ipykernel)",
   "language": "python",
   "name": "python3"
  },
  "language_info": {
   "codemirror_mode": {
    "name": "ipython",
    "version": 3
   },
   "file_extension": ".py",
   "mimetype": "text/x-python",
   "name": "python",
   "nbconvert_exporter": "python",
   "pygments_lexer": "ipython3",
   "version": "3.11.3"
  }
 },
 "nbformat": 4,
 "nbformat_minor": 5
}
