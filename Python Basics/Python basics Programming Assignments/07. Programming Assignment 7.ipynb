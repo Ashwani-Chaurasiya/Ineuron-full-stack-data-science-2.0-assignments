{
 "cells": [
  {
   "cell_type": "markdown",
   "id": "97932127",
   "metadata": {},
   "source": [
    "# **Assignment 7**"
   ]
  },
  {
   "cell_type": "markdown",
   "id": "996d999d",
   "metadata": {},
   "source": [
    "### **1. Write a Python Program to find sum of array?**\n",
    "### **Ans:**"
   ]
  },
  {
   "cell_type": "code",
   "execution_count": 6,
   "id": "2fc785d7",
   "metadata": {},
   "outputs": [
    {
     "name": "stdout",
     "output_type": "stream",
     "text": [
      "Enter the Array: 4,5,6,7,8,9\n",
      "The sum of Array is :39\n"
     ]
    }
   ],
   "source": [
    "\n",
    "def sum_Array():\n",
    "    input_array = eval(input(\"Enter the Array: \"))\n",
    "    print(f'The sum of Array is :{sum(input_array)}')\n",
    "\n",
    "sum_Array()"
   ]
  },
  {
   "cell_type": "markdown",
   "id": "ba138717",
   "metadata": {},
   "source": [
    "---\n",
    "---"
   ]
  },
  {
   "cell_type": "markdown",
   "id": "37a61082",
   "metadata": {},
   "source": [
    "### **2. Write a Python Program to find largest element in an array?**\n",
    "### **Ans:**"
   ]
  },
  {
   "cell_type": "code",
   "execution_count": 8,
   "id": "b47adf36",
   "metadata": {},
   "outputs": [
    {
     "name": "stdout",
     "output_type": "stream",
     "text": [
      "Enter the Array: 1,2,3,4,5,6,7,8\n",
      "The Largest Element in (1, 2, 3, 4, 5, 6, 7, 8) is 8\n"
     ]
    }
   ],
   "source": [
    "def largestElement():\n",
    "    in_arr = eval(input(\"Enter the Array: \"))\n",
    "    print(f\"The Largest Element in {in_arr} is {sorted(in_arr, reverse=True)[0]}\")\n",
    "    \n",
    "largestElement()"
   ]
  },
  {
   "cell_type": "markdown",
   "id": "8991400f",
   "metadata": {},
   "source": [
    "---\n",
    "---"
   ]
  },
  {
   "cell_type": "markdown",
   "id": "5a1fcdce",
   "metadata": {},
   "source": [
    "### **3. Write a Python Program for array rotation ?**\n",
    "### **Ans:**"
   ]
  },
  {
   "cell_type": "code",
   "execution_count": 12,
   "id": "39e8afe9",
   "metadata": {},
   "outputs": [
    {
     "name": "stdout",
     "output_type": "stream",
     "text": [
      "Enter the Array :12,545,7,8,7,5,44\n",
      "The reverse array is : (44, 5, 7, 8, 7, 545, 12)\n"
     ]
    }
   ],
   "source": [
    "def rev_array():\n",
    "    input_array = eval(input(\"Enter the Array :\"))\n",
    "    print(f\"The reverse array is :\", input_array[::-1])\n",
    "    \n",
    "rev_array()"
   ]
  },
  {
   "cell_type": "markdown",
   "id": "34795a0b",
   "metadata": {},
   "source": [
    "---\n",
    "---"
   ]
  },
  {
   "cell_type": "markdown",
   "id": "69f58b1c",
   "metadata": {},
   "source": [
    "### **4. Write a Python Program to Split the array and add the first part to the end?**\n",
    "### **Ans:**"
   ]
  },
  {
   "cell_type": "code",
   "execution_count": 14,
   "id": "77d24e55",
   "metadata": {},
   "outputs": [
    {
     "name": "stdout",
     "output_type": "stream",
     "text": [
      "Original Array: [1, 2, 3, 4, 5]\n",
      "Array after split and add operation: [3, 4, 5, 1, 2]\n"
     ]
    }
   ],
   "source": [
    "def split_and_add(arr, k):\n",
    "    return arr[k:] + arr[:k]\n",
    "\n",
    "array = [1, 2, 3, 4, 5]\n",
    "split_index = 2\n",
    "result = split_and_add(array, split_index)\n",
    "\n",
    "print(\"Original Array:\", array)\n",
    "print(\"Array after split and add operation:\", result)"
   ]
  },
  {
   "cell_type": "markdown",
   "id": "81249fe1",
   "metadata": {},
   "source": [
    "---\n",
    "---"
   ]
  },
  {
   "cell_type": "markdown",
   "id": "cb089316",
   "metadata": {},
   "source": [
    "### **5. Write a Python Program to check if given array is Monotonic?**\n",
    "### **Ans:**"
   ]
  },
  {
   "cell_type": "code",
   "execution_count": 15,
   "id": "9eec03c2",
   "metadata": {},
   "outputs": [
    {
     "data": {
      "text/plain": [
       "True"
      ]
     },
     "execution_count": 15,
     "metadata": {},
     "output_type": "execute_result"
    }
   ],
   "source": [
    "def monotonicCheck(array):\n",
    "    flag = True\n",
    "    \n",
    "    if array[0] >= array[len(array)-1]:\n",
    "        for i in range(len(array)-2):\n",
    "            if array[i] < array[i+1]:\n",
    "                flag = False\n",
    "    else:\n",
    "        for i in range(len(array)-2):\n",
    "            if array[i] > array[i+1]:\n",
    "                flag = False\n",
    "                \n",
    "    return flag\n",
    "\n",
    "array = [1,2,3,56, 124, 369]\n",
    "\n",
    "monotonicCheck(array)"
   ]
  },
  {
   "cell_type": "markdown",
   "id": "ff962f9d",
   "metadata": {},
   "source": [
    "---\n",
    "---"
   ]
  }
 ],
 "metadata": {
  "kernelspec": {
   "display_name": "Python 3 (ipykernel)",
   "language": "python",
   "name": "python3"
  },
  "language_info": {
   "codemirror_mode": {
    "name": "ipython",
    "version": 3
   },
   "file_extension": ".py",
   "mimetype": "text/x-python",
   "name": "python",
   "nbconvert_exporter": "python",
   "pygments_lexer": "ipython3",
   "version": "3.11.3"
  }
 },
 "nbformat": 4,
 "nbformat_minor": 5
}
