{
 "cells": [
  {
   "cell_type": "markdown",
   "id": "e3b115c1",
   "metadata": {},
   "source": [
    "# Programming Assignment 5"
   ]
  },
  {
   "cell_type": "markdown",
   "id": "c1152e37",
   "metadata": {},
   "source": [
    "### **1. Write a Python Program to find LCM ?**\n",
    "### **Ans:**"
   ]
  },
  {
   "cell_type": "code",
   "execution_count": 12,
   "id": "4ab33167",
   "metadata": {},
   "outputs": [
    {
     "name": "stdout",
     "output_type": "stream",
     "text": [
      "The LCM of 3 and 6 is 6\n",
      "The LCM of 25 and 100 is 100\n"
     ]
    }
   ],
   "source": [
    "def FindLCM(a,b):\n",
    "    '''\n",
    "    Function Which can find LCM of two numbers.\n",
    "    '''\n",
    "    maxnum = max(a,b)\n",
    "\n",
    "    while(True):\n",
    "        if(maxnum%a == 0 and maxnum%b == 0):\n",
    "            break\n",
    "        else:\n",
    "            maxnum = maxnum + 1\n",
    "    print(f\"The LCM of {a} and {b} is {maxnum}\")\n",
    "\n",
    "FindLCM(3,6)\n",
    "FindLCM(25,100)"
   ]
  },
  {
   "cell_type": "markdown",
   "id": "611d4f7b",
   "metadata": {},
   "source": [
    "---\n",
    "---"
   ]
  },
  {
   "cell_type": "markdown",
   "id": "ff9dd2fa",
   "metadata": {},
   "source": [
    "### **2. Write a Python Program to find HCF ?**\n",
    "### **Ans:**"
   ]
  },
  {
   "cell_type": "code",
   "execution_count": 25,
   "id": "659ea79b",
   "metadata": {},
   "outputs": [
    {
     "name": "stdout",
     "output_type": "stream",
     "text": [
      "The HCF of 4 and 28 is 4\n",
      "The HCF of 50 and 100 is 50\n"
     ]
    }
   ],
   "source": [
    "def FindHCF(a,b):\n",
    "    '''\n",
    "    Function which can find HCF of two numbers.\n",
    "    '''\n",
    "    minNum = min(a,b)\n",
    "    for i in range(1,minNum + 1):\n",
    "        if a % i == 0 and b % i == 0:\n",
    "            hcf = i\n",
    "    \n",
    "    print(f\"The HCF of {a} and {b} is {hcf}\")\n",
    "    \n",
    "FindHCF(4,28)  \n",
    "FindHCF(50,100)"
   ]
  },
  {
   "cell_type": "markdown",
   "id": "31a9e0da",
   "metadata": {},
   "source": [
    "---\n",
    "---"
   ]
  },
  {
   "cell_type": "markdown",
   "id": "f278f12f",
   "metadata": {},
   "source": [
    "### **3. Write a Python Program to Convert Decimal to Binary, Octal and Hexadecimal ?**\n",
    "### **Ans:**"
   ]
  },
  {
   "cell_type": "code",
   "execution_count": 5,
   "id": "09f3c59e",
   "metadata": {},
   "outputs": [
    {
     "name": "stdout",
     "output_type": "stream",
     "text": [
      "Enter a number :40\n",
      "Binary Number : 101000\n",
      "Octal Number : 50\n",
      "Hexadecimal Number : 28\n"
     ]
    }
   ],
   "source": [
    "def decimal_to_other():\n",
    "    num = int(input(\"Enter a number :\"))\n",
    "    print(f'Binary Number : {bin(num)[2:]}')        # The '0b' prefix is removed by slicing [2:]\n",
    "    print(f'Octal Number : {oct(num)[2:]}')         # The '0o' prefix is removed by slicing [2:]\n",
    "    print(f'Hexadecimal Number : {hex(num)[2:]}')   # The '0x' prefix is removed by slicing [2:]\n",
    "        \n",
    "decimal_to_other()"
   ]
  },
  {
   "cell_type": "markdown",
   "id": "255eee69",
   "metadata": {},
   "source": [
    "---\n",
    "---"
   ]
  },
  {
   "cell_type": "markdown",
   "id": "580e05f4",
   "metadata": {},
   "source": [
    "### **4. Write a Python Program to Find the ASCII value of a Character ?**\n",
    "### **Ans:**"
   ]
  },
  {
   "cell_type": "code",
   "execution_count": 20,
   "id": "6c27ab62",
   "metadata": {},
   "outputs": [
    {
     "name": "stdout",
     "output_type": "stream",
     "text": [
      "Enter a character :a\n",
      "The ASCII value of a is : 97\n"
     ]
    }
   ],
   "source": [
    "try:\n",
    "    char_input = input(\"Enter a character :\")\n",
    "\n",
    "    # Find the ASCII value of the character using the ord() function\n",
    "    ascii_value = ord(char_input)\n",
    "    \n",
    "    print(f\"The ASCII value of {char_input} is : {ascii_value}\")\n",
    "          \n",
    "except Exception as e:\n",
    "     print('Please Enter single character', e)"
   ]
  },
  {
   "cell_type": "markdown",
   "id": "f67cf544",
   "metadata": {},
   "source": [
    "---\n",
    "---"
   ]
  },
  {
   "cell_type": "markdown",
   "id": "42d7d455",
   "metadata": {},
   "source": [
    "### **5. Write a Python Program to Make a Simple Calculator with 4 Basic Mathematical operations ?**\n",
    "### **Ans:**"
   ]
  },
  {
   "cell_type": "code",
   "execution_count": 56,
   "id": "3ba1a62d",
   "metadata": {
    "scrolled": true
   },
   "outputs": [
    {
     "name": "stdout",
     "output_type": "stream",
     "text": [
      "Select Operation :\n",
      "1. Add\n",
      "2. Subtract\n",
      "3. Multiply\n",
      "4. Divide\n",
      "0. To Stop\n",
      "\n",
      "Enter choice (1/2/3/4/0): \n",
      "1\n",
      "Enter first Number :45\n",
      "Enter Second Number :5\n",
      "Result :45.0 + 5.0 = 50.0\n",
      "\n",
      "Select Operation :\n",
      "1. Add\n",
      "2. Subtract\n",
      "3. Multiply\n",
      "4. Divide\n",
      "0. To Stop\n",
      "\n",
      "Enter choice (1/2/3/4/0): \n",
      "2\n",
      "Enter first Number :45\n",
      "Enter Second Number :5\n",
      "Result :45.0 - 5.0 = 40.0\n",
      "\n",
      "Select Operation :\n",
      "1. Add\n",
      "2. Subtract\n",
      "3. Multiply\n",
      "4. Divide\n",
      "0. To Stop\n",
      "\n",
      "Enter choice (1/2/3/4/0): \n",
      "3\n",
      "Enter first Number :45\n",
      "Enter Second Number :5\n",
      "Result :45.0 * 5.0 = 225.0\n",
      "\n",
      "Select Operation :\n",
      "1. Add\n",
      "2. Subtract\n",
      "3. Multiply\n",
      "4. Divide\n",
      "0. To Stop\n",
      "\n",
      "Enter choice (1/2/3/4/0): \n",
      "4\n",
      "Enter first Number :45\n",
      "Enter Second Number :5\n",
      "Result :45.0 / 5.0 = 9.0\n",
      "\n",
      "Select Operation :\n",
      "1. Add\n",
      "2. Subtract\n",
      "3. Multiply\n",
      "4. Divide\n",
      "0. To Stop\n",
      "\n",
      "Enter choice (1/2/3/4/0): \n",
      "4\n",
      "Enter first Number :45\n",
      "Enter Second Number :0\n",
      "Error Cannot divide by zero\n"
     ]
    }
   ],
   "source": [
    "def add(a,b):\n",
    "    return a+b\n",
    "def subtract(a,b):\n",
    "    return a-b\n",
    "def multiply(a,b):\n",
    "    return a*b\n",
    "def divide(a,b):\n",
    "    if b == 0:\n",
    "        raise ValueError(\"Cannot divide by zero\")\n",
    "        \n",
    "    else:\n",
    "        return a/b\n",
    "    \n",
    "try:\n",
    "    while True:\n",
    "        print(\"Select Operation :\")\n",
    "        print(\"1. Add\")\n",
    "        print(\"2. Subtract\")\n",
    "        print(\"3. Multiply\")\n",
    "        print(\"4. Divide\")\n",
    "        print(\"0. To Stop\\n\")\n",
    "\n",
    "        choice = int(input(\"Enter choice (1/2/3/4/0): \\n\"))\n",
    "\n",
    "        if choice not in [1,2,3,4,0]:\n",
    "            raise ValueError(\"Invalid choice. Please enter valid choice.\")\n",
    "            \n",
    "        if choice == 0:\n",
    "            break\n",
    "\n",
    "        else:\n",
    "            num1 = float(input(\"Enter first Number :\"))\n",
    "            num2 = float(input(\"Enter Second Number :\"))\n",
    "\n",
    "        if choice == 1:\n",
    "            result = add(num1, num2)\n",
    "            operator = \"+\"\n",
    "\n",
    "        if choice == 2:\n",
    "            result = subtract(num1, num2)\n",
    "            operator = \"-\"\n",
    "\n",
    "        if choice == 3:\n",
    "            result = multiply(num1, num2)\n",
    "            operator = \"*\"\n",
    "            \n",
    "        if choice == 4:\n",
    "            result = divide(num1, num2)\n",
    "            operator = \"/\"\n",
    "\n",
    "        print(f\"Result :{num1} {operator} {num2} = {result}\\n\")\n",
    "\n",
    "except Exception as e:\n",
    "          print(\"Error\", e)"
   ]
  },
  {
   "cell_type": "markdown",
   "id": "44ce3f86",
   "metadata": {},
   "source": [
    "---\n",
    "---"
   ]
  }
 ],
 "metadata": {
  "kernelspec": {
   "display_name": "Python 3 (ipykernel)",
   "language": "python",
   "name": "python3"
  },
  "language_info": {
   "codemirror_mode": {
    "name": "ipython",
    "version": 3
   },
   "file_extension": ".py",
   "mimetype": "text/x-python",
   "name": "python",
   "nbconvert_exporter": "python",
   "pygments_lexer": "ipython3",
   "version": "3.11.3"
  }
 },
 "nbformat": 4,
 "nbformat_minor": 5
}
