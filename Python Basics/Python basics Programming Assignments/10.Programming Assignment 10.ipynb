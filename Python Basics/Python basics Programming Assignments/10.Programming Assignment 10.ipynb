{
 "cells": [
  {
   "cell_type": "markdown",
   "id": "0753e292",
   "metadata": {},
   "source": [
    "# **Assignment 10**"
   ]
  },
  {
   "cell_type": "markdown",
   "id": "d6f96d38",
   "metadata": {},
   "source": [
    "### **1.Write a Python Program to find sum of elements in a list ?**\n",
    "**Ans:**"
   ]
  },
  {
   "cell_type": "code",
   "execution_count": 16,
   "id": "1fbea5b2",
   "metadata": {},
   "outputs": [
    {
     "name": "stdout",
     "output_type": "stream",
     "text": [
      "Sum of Elements: 15\n"
     ]
    }
   ],
   "source": [
    "def sumofList():\n",
    "    in_ele = int(input('Enter the No of Entries in a List: '))\n",
    "    in_list = []\n",
    "    \n",
    "    for itr in range(in_ele):\n",
    "        in_list.append(int(input('Enter a element: ')))\n",
    "    print(f'Sum of Elements: {sum(in_list)}')\n",
    "\n",
    "sumofList()"
   ]
  },
  {
   "cell_type": "markdown",
   "id": "46f87e87",
   "metadata": {},
   "source": [
    "---\n",
    "---"
   ]
  },
  {
   "cell_type": "markdown",
   "id": "35ff9c7c",
   "metadata": {},
   "source": [
    "### **2.Write a Python Program to multiply all numbers in the list ?**\n",
    "**Ans:**"
   ]
  },
  {
   "cell_type": "code",
   "execution_count": 17,
   "id": "d77e77e6",
   "metadata": {},
   "outputs": [
    {
     "name": "stdout",
     "output_type": "stream",
     "text": [
      "120\n"
     ]
    }
   ],
   "source": [
    "def mulofList():\n",
    "    in_ele = int(input('Enter the No of Entries in a List: '))\n",
    "    in_list = []\n",
    "    mul = 1\n",
    "    for itr in range(in_ele):\n",
    "        in_list.append(int(input('Enter a element: ')))\n",
    "    for ele in in_list:\n",
    "        mul = mul * ele\n",
    "    print(mul)\n",
    "\n",
    "mulofList()"
   ]
  },
  {
   "cell_type": "markdown",
   "id": "e6fd2cd4",
   "metadata": {},
   "source": [
    "---\n",
    "---"
   ]
  },
  {
   "cell_type": "markdown",
   "id": "0561967b",
   "metadata": {},
   "source": [
    "### **3.Write a Python Program to find smallest number in the list ?**\n",
    "**Ans:**"
   ]
  },
  {
   "cell_type": "code",
   "execution_count": 18,
   "id": "3e9863eb",
   "metadata": {},
   "outputs": [
    {
     "name": "stdout",
     "output_type": "stream",
     "text": [
      "The Smallest Element in [45, 24, 24, 48, 75] is 24\n"
     ]
    }
   ],
   "source": [
    "def smallEleInList():\n",
    "    in_ele = int(input('Enter the No of elements in a list: '))\n",
    "    in_list = []\n",
    "    for ele in range(in_ele):\n",
    "        in_list.append(int(input('Enter a Element: ')))\n",
    "    print(f'The Smallest Element in {in_list} is {sorted(in_list)[0]}')\n",
    "smallEleInList()"
   ]
  },
  {
   "cell_type": "markdown",
   "id": "925ffbb3",
   "metadata": {},
   "source": [
    "----\n",
    "---"
   ]
  },
  {
   "cell_type": "markdown",
   "id": "0684d2e6",
   "metadata": {},
   "source": [
    "### **4.Write a Python Program to find largest number in the list ?**\n",
    "**Ans:**"
   ]
  },
  {
   "cell_type": "code",
   "execution_count": 20,
   "id": "c1984a1c",
   "metadata": {},
   "outputs": [
    {
     "name": "stdout",
     "output_type": "stream",
     "text": [
      "The Largest Element in [45, 45, 778, 12] is 778\n"
     ]
    }
   ],
   "source": [
    "def largestEleInList():\n",
    "    in_ele = int(input('Enter the No of elements in a list: '))\n",
    "    in_list = []\n",
    "    for ele in range(in_ele):\n",
    "        in_list.append(int(input('Enter a Element: ')))\n",
    "    print(f'The Largest Element in {in_list} is {sorted(in_list, reverse=True)[0]}')\n",
    "\n",
    "largestEleInList()"
   ]
  },
  {
   "cell_type": "markdown",
   "id": "0e29d0b5",
   "metadata": {},
   "source": [
    "---\n",
    "---"
   ]
  },
  {
   "cell_type": "markdown",
   "id": "ef882ac4",
   "metadata": {},
   "source": [
    "### **5.Write a Python Program to find second largest number in the list ?**\n",
    "**Ans:**"
   ]
  },
  {
   "cell_type": "code",
   "execution_count": 21,
   "id": "ca2c5e29",
   "metadata": {},
   "outputs": [
    {
     "name": "stdout",
     "output_type": "stream",
     "text": [
      "The Second Largest Element in [45, 785, 12] is 45\n"
     ]
    }
   ],
   "source": [
    "def secondLargestEleInList():\n",
    "    in_ele = int(input('Enter the No of elements in a list: '))\n",
    "    in_list = []\n",
    "    for ele in range(in_ele):\n",
    "        in_list.append(int(input('Enter a Element: ')))\n",
    "    print(f'The Second Largest Element in {in_list} is {sorted(in_list, reverse=True)[1]}')\n",
    "\n",
    "secondLargestEleInList()"
   ]
  },
  {
   "cell_type": "markdown",
   "id": "67ddeed6",
   "metadata": {},
   "source": [
    "---\n",
    "----"
   ]
  },
  {
   "cell_type": "markdown",
   "id": "ee185d52",
   "metadata": {},
   "source": [
    "### **6.Write a Python Program to find N largest elements in the list ?**\n",
    "**Ans:**"
   ]
  },
  {
   "cell_type": "code",
   "execution_count": 22,
   "id": "e2c518fa",
   "metadata": {},
   "outputs": [
    {
     "name": "stdout",
     "output_type": "stream",
     "text": [
      "The 4 Largest Element in [55, 78] is [78, 55]\n"
     ]
    }
   ],
   "source": [
    "def nLargestEleInList(k):\n",
    "    in_ele = int(input('Enter the No of elements in a list: '))\n",
    "    in_list = []\n",
    "    for ele in range(in_ele):\n",
    "        in_list.append(int(input('Enter a Element: ')))\n",
    "    print(f'The {k} Largest Element in {in_list} is {sorted(in_list, reverse=True)[0:k]}')\n",
    "\n",
    "nLargestEleInList(4)"
   ]
  },
  {
   "cell_type": "markdown",
   "id": "db983a28",
   "metadata": {},
   "source": [
    "---\n",
    "---"
   ]
  },
  {
   "cell_type": "markdown",
   "id": "7f5a2b91",
   "metadata": {},
   "source": [
    "### **7.Write a Python Program to find even numbers in the list ?**\n",
    "**Ans:**"
   ]
  },
  {
   "cell_type": "code",
   "execution_count": 23,
   "id": "e9b0d19a",
   "metadata": {},
   "outputs": [
    {
     "name": "stdout",
     "output_type": "stream",
     "text": [
      "The Even Elements in [457, 421, 126, 121, 878] are [126, 878]\n"
     ]
    }
   ],
   "source": [
    "def evenNoInList():\n",
    "    in_ele = int(input('Enter the No of elements in a list: '))\n",
    "    in_list = []\n",
    "    even_list = []\n",
    "    for ele in range(in_ele):\n",
    "        in_list.append(int(input('Enter a Element: ')))\n",
    "    for ele in in_list:\n",
    "        if ele%2 == 0:\n",
    "            even_list.append(ele)\n",
    "    print(f'The Even Elements in {in_list} are {even_list}')\n",
    "\n",
    "evenNoInList()"
   ]
  },
  {
   "cell_type": "markdown",
   "id": "af4e94bc",
   "metadata": {},
   "source": [
    "---\n",
    "---"
   ]
  },
  {
   "cell_type": "markdown",
   "id": "a5d3f862",
   "metadata": {},
   "source": [
    "### **8.Write a Python Program to find odd numbers in the list ?**\n",
    "**Ans:**"
   ]
  },
  {
   "cell_type": "code",
   "execution_count": 24,
   "id": "101d0718",
   "metadata": {},
   "outputs": [
    {
     "name": "stdout",
     "output_type": "stream",
     "text": [
      "The Even Elements in [4572, 124, 457, 312] are [457]\n"
     ]
    }
   ],
   "source": [
    "def oddNoInList():\n",
    "    in_ele = int(input('Enter the No of elements in a list: '))\n",
    "    in_list = []\n",
    "    odd_list = []\n",
    "    for ele in range(in_ele):\n",
    "        in_list.append(int(input('Enter a Element: ')))\n",
    "    for ele in in_list:\n",
    "        if ele%2 != 0:\n",
    "            odd_list.append(ele)\n",
    "    print(f'The Even Elements in {in_list} are {odd_list}')\n",
    "\n",
    "oddNoInList()"
   ]
  },
  {
   "cell_type": "markdown",
   "id": "463ec43c",
   "metadata": {},
   "source": [
    "---\n",
    "---"
   ]
  },
  {
   "cell_type": "markdown",
   "id": "f97fa7ea",
   "metadata": {},
   "source": [
    "### **9.Write a Python Program to remove empty list from list ?**\n",
    "**Ans:**"
   ]
  },
  {
   "cell_type": "code",
   "execution_count": 26,
   "id": "193a2ef1",
   "metadata": {},
   "outputs": [
    {
     "name": "stdout",
     "output_type": "stream",
     "text": [
      "There is an Empty list in [1, 22, 3, 4, 5, 6, [], 4, 5, 45, 7, 5, 4] at Position 6\n",
      "The List after removing [] is [1, 22, 3, 4, 5, 6, 4, 5, 45, 7, 5, 4]\n"
     ]
    }
   ],
   "source": [
    "def checkEmptyList():\n",
    "    in_list = eval(input('Enter all elements of the list: '))\n",
    "    if [] in in_list:\n",
    "        print(f'There is an Empty list in {in_list} at Position {in_list.index([])}')\n",
    "        in_list.remove([])\n",
    "        print(f'The List after removing [] is {in_list}')\n",
    "    else:\n",
    "        print(f'There is no [] List in the list {in_list}')\n",
    "        \n",
    "checkEmptyList()"
   ]
  },
  {
   "cell_type": "markdown",
   "id": "1a5b1f91",
   "metadata": {},
   "source": [
    "### **10.Write a Python Program to Cloning or Copying a list ?**\n",
    "**Ans:**"
   ]
  },
  {
   "cell_type": "code",
   "execution_count": 27,
   "id": "55882ca5",
   "metadata": {},
   "outputs": [
    {
     "name": "stdout",
     "output_type": "stream",
     "text": [
      "[1, 2, 3, 4, 5, 6, 7, 8, 9] 2557632033408\n",
      "[1, 2, 3, 4, 5, 6, 7, 8, 9] 2557632196672\n"
     ]
    }
   ],
   "source": [
    "import copy\n",
    "\n",
    "def cloneList():\n",
    "    in_list = eval(input('Enter a list'))\n",
    "    print(in_list, id(in_list))\n",
    "    cloned_list = in_list.copy()\n",
    "    print(cloned_list, id(cloned_list))\n",
    "\n",
    "cloneList()"
   ]
  },
  {
   "cell_type": "markdown",
   "id": "f38f9565",
   "metadata": {},
   "source": [
    "---\n",
    "---"
   ]
  },
  {
   "cell_type": "markdown",
   "id": "37e5e6bd",
   "metadata": {},
   "source": [
    "### **11.Write a Python Program to count occurences of an element in a list ?**\n",
    "**Ans:**"
   ]
  },
  {
   "cell_type": "code",
   "execution_count": 28,
   "id": "8a5e7b52",
   "metadata": {},
   "outputs": [
    {
     "name": "stdout",
     "output_type": "stream",
     "text": [
      "There are 3 occurences of 5 in [12, 32, 12, 4, 5, 5, 6, 7, 8, 9, 4, 5, 6]\n"
     ]
    }
   ],
   "source": [
    "def checkOccurence():\n",
    "    in_list = eval(input('Enter the elements of the list: '))\n",
    "    in_num = eval(input('Enter the element to find: '))\n",
    "    count = 0\n",
    "    if in_num in in_list:\n",
    "        for ele in in_list:\n",
    "            if ele == in_num:\n",
    "                count = count+1\n",
    "    print(f'There are {count} occurences of {in_num} in {in_list}')\n",
    "    \n",
    "checkOccurence()"
   ]
  },
  {
   "cell_type": "markdown",
   "id": "9cb230fb",
   "metadata": {},
   "source": [
    "---\n",
    "---"
   ]
  }
 ],
 "metadata": {
  "kernelspec": {
   "display_name": "Python 3",
   "language": "python",
   "name": "python3"
  },
  "language_info": {
   "codemirror_mode": {
    "name": "ipython",
    "version": 3
   },
   "file_extension": ".py",
   "mimetype": "text/x-python",
   "name": "python",
   "nbconvert_exporter": "python",
   "pygments_lexer": "ipython3",
   "version": "3.11.3"
  }
 },
 "nbformat": 4,
 "nbformat_minor": 5
}
