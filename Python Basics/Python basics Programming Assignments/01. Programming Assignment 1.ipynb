{
 "cells": [
  {
   "cell_type": "markdown",
   "metadata": {},
   "source": [
    "# Programming Assignment 1"
   ]
  },
  {
   "cell_type": "markdown",
   "metadata": {},
   "source": [
    "#### **1.\tWrite a Python program to print \"Hello Python\"?**\n",
    "#### **Ans:**"
   ]
  },
  {
   "cell_type": "code",
   "execution_count": 1,
   "metadata": {},
   "outputs": [
    {
     "name": "stdout",
     "output_type": "stream",
     "text": [
      "Hello Python\n"
     ]
    }
   ],
   "source": [
    "print(\"Hello Python\")"
   ]
  },
  {
   "cell_type": "markdown",
   "metadata": {},
   "source": [
    "---\n",
    "---"
   ]
  },
  {
   "cell_type": "markdown",
   "metadata": {},
   "source": [
    "#### **2. Write a Python program to do arithmetical operations addition and division.?**\n",
    "#### **Ans:**"
   ]
  },
  {
   "cell_type": "code",
   "execution_count": 2,
   "metadata": {},
   "outputs": [
    {
     "name": "stdout",
     "output_type": "stream",
     "text": [
      "52\n",
      "25.0\n"
     ]
    }
   ],
   "source": [
    "a = 50\n",
    "b = 2\n",
    "\n",
    "# Addition\n",
    "add = a+b\n",
    "# Division\n",
    "div = a/b\n",
    "\n",
    "print(add)\n",
    "print(div)"
   ]
  },
  {
   "cell_type": "markdown",
   "metadata": {},
   "source": [
    "---\n",
    "---"
   ]
  },
  {
   "cell_type": "markdown",
   "metadata": {},
   "source": [
    "#### **3.\tWrite a Python program to find the area of a triangle?**\n",
    "#### **Ans:**"
   ]
  },
  {
   "cell_type": "code",
   "execution_count": 6,
   "metadata": {},
   "outputs": [
    {
     "name": "stdout",
     "output_type": "stream",
     "text": [
      "Enter Height of the Triangle :100\n",
      "Enter Base of the Triangle :50\n"
     ]
    },
    {
     "data": {
      "text/plain": [
       "('Area of Triangle :', 2500.0)"
      ]
     },
     "execution_count": 6,
     "metadata": {},
     "output_type": "execute_result"
    }
   ],
   "source": [
    "height = int(input(\"Enter Height of the Triangle :\"))\n",
    "base = int(input(\"Enter Base of the Triangle :\"))\n",
    "\n",
    "def area_of_triangle(height, base):\n",
    "    return 'Area of Triangle :', height*base/2\n",
    "\n",
    "area_of_triangle(height, base)"
   ]
  },
  {
   "cell_type": "markdown",
   "metadata": {},
   "source": [
    "---\n",
    "---"
   ]
  },
  {
   "cell_type": "markdown",
   "metadata": {},
   "source": [
    "#### **4.\tWrite a Python program to swap two variables?**\n",
    "#### **Ans:**"
   ]
  },
  {
   "cell_type": "code",
   "execution_count": 10,
   "metadata": {},
   "outputs": [
    {
     "name": "stdout",
     "output_type": "stream",
     "text": [
      "Enter any Value :100\n",
      "Enter any value :50\n",
      "Before swap :\n",
      "Variable 1 = 100 \n",
      "Variable 2 = 50\n",
      "\n",
      "After swap :\n",
      "Variable 1 = 50 \n",
      "Variable 2 = 100\n"
     ]
    }
   ],
   "source": [
    "variable1 = input(\"Enter any Value :\")\n",
    "variable2 = input(\"Enter any value :\")\n",
    "\n",
    "print(f\"Before swap :\\nVariable 1 = {variable1} \\nVariable 2 = {variable2}\\n\")\n",
    "\n",
    "temp = variable1\n",
    "variable1 = variable2\n",
    "variable2 = temp\n",
    "\n",
    "print(f\"After swap :\\nVariable 1 = {variable1} \\nVariable 2 = {variable2}\")"
   ]
  },
  {
   "cell_type": "markdown",
   "metadata": {},
   "source": [
    "---\n",
    "---"
   ]
  },
  {
   "cell_type": "markdown",
   "metadata": {},
   "source": [
    "#### **5. Write a Python program to generate a random number?**\n",
    "#### **Ans:**"
   ]
  },
  {
   "cell_type": "code",
   "execution_count": 13,
   "metadata": {},
   "outputs": [
    {
     "name": "stdout",
     "output_type": "stream",
     "text": [
      "0.80591559920973\n",
      "36854\n"
     ]
    }
   ],
   "source": [
    "import random\n",
    "print(random.random())\n",
    "print(random.randint(1,100000))"
   ]
  }
 ],
 "metadata": {
  "kernelspec": {
   "display_name": "Python 3 (ipykernel)",
   "language": "python",
   "name": "python3"
  },
  "language_info": {
   "codemirror_mode": {
    "name": "ipython",
    "version": 3
   },
   "file_extension": ".py",
   "mimetype": "text/x-python",
   "name": "python",
   "nbconvert_exporter": "python",
   "pygments_lexer": "ipython3",
   "version": "3.11.3"
  }
 },
 "nbformat": 4,
 "nbformat_minor": 2
}
