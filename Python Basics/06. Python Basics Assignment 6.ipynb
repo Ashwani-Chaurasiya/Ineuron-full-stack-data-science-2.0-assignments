{
 "cells": [
  {
   "cell_type": "markdown",
   "id": "72d69d60",
   "metadata": {},
   "source": [
    "# **Assignment 6**"
   ]
  },
  {
   "cell_type": "markdown",
   "id": "407b6d91",
   "metadata": {},
   "source": [
    "### **1.What are Escape characters ? and how do you use them ?**\n",
    "### **Ans:**\n",
    "\n",
    "Escape characters are special characters used in strings to represent certain non-printable or reserved characters or to include characters that are not easy to print directly. Escape characters are represented by a `backslash \\` followed by a specific character.\n",
    "\n",
    "#### **Here are some common escape characters :**\n",
    "\n",
    "1. `\\n`: Newline - Insert newline character, which moves cursor to next line.\n",
    "2. `\\t`: Tab - Insert a tab character, which add horizontal spacing.\n",
    "3. `\\\\`: Backslash - Insert a single backslash character.\n",
    "4. `\\'`: Single Quote - INsert single quote character within a single-quote string.\n",
    "5. `\\\"`: Double Quote - Insert double quote character within a double-quote string.\n",
    "6. `\\r`: Carriage Return - Inserts a carriage return, which moves cursor to the beginning of the current line.\n",
    "7. `\\b`: Backspace - Inserts a backspace character, which moves the cursor one position backward.\n",
    "8. `\\f`: Form Feed - Insert a form feed, which advances teh printer to the next page or form."
   ]
  },
  {
   "cell_type": "markdown",
   "id": "ecd888c1",
   "metadata": {},
   "source": [
    "---\n",
    "---"
   ]
  },
  {
   "cell_type": "markdown",
   "id": "73fd9840",
   "metadata": {},
   "source": [
    "### **2.What do the escape characters n and t stand for ?**\n",
    "### **Ans:**\n",
    "1. `\\n`: Newline - Insert newline character, which moves cursor to next line.\n",
    "2. `\\t`: Tab - Insert a tab character, which add horizontal spacing."
   ]
  },
  {
   "cell_type": "markdown",
   "id": "407a02c1",
   "metadata": {},
   "source": [
    "---\n",
    "---"
   ]
  },
  {
   "cell_type": "markdown",
   "id": "3a5e9c45",
   "metadata": {},
   "source": [
    "### **3.What is the way to include backslash character in a string?**\n",
    "### **Ans:**\n",
    "> `\\\\`: Backslash - Insert a single backslash character in a string."
   ]
  },
  {
   "cell_type": "markdown",
   "id": "a68e5d0e",
   "metadata": {},
   "source": [
    "---\n",
    "---"
   ]
  },
  {
   "cell_type": "markdown",
   "id": "b4d869a1",
   "metadata": {},
   "source": [
    "### **4.The string \"Howl's Moving Castle\" is a correct value. Why isn't the single quote character in the word Howl's not escaped a problem ?**\n",
    "### **Ans:**\n",
    "In Python, When we use double quote to define a string, we can inclue single quote inside the string without any issue. Similarly, when we use single quote to define string we can use double quote inside string without any issue. "
   ]
  },
  {
   "cell_type": "markdown",
   "id": "ba265bef",
   "metadata": {},
   "source": [
    "---\n",
    "---"
   ]
  },
  {
   "cell_type": "markdown",
   "id": "411476ad",
   "metadata": {},
   "source": [
    "### **5.How do you write a string of newlines if you don't want to use the n character?**\n",
    "### **Ans:**\n",
    "We can use multiline string to perform new line without use of n character."
   ]
  },
  {
   "cell_type": "code",
   "execution_count": 2,
   "id": "22620e2a",
   "metadata": {},
   "outputs": [
    {
     "name": "stdout",
     "output_type": "stream",
     "text": [
      "\n",
      "This is a multiline string\n",
      "without use of n character using\n",
      "triple quote\n",
      "\n"
     ]
    }
   ],
   "source": [
    "# Example\n",
    "string = '''\n",
    "This is a multiline string\n",
    "without use of n character using\n",
    "triple quote\n",
    "'''\n",
    "print(string)"
   ]
  },
  {
   "cell_type": "markdown",
   "id": "2d5ed67f",
   "metadata": {},
   "source": [
    "---\n",
    "---"
   ]
  },
  {
   "cell_type": "markdown",
   "id": "7d2fd855",
   "metadata": {},
   "source": [
    "### **6.What are the values of the given expressions ?**\n",
    "- 'Hello, world!'[1]\n",
    "- 'Hello, world!'[0:5]\n",
    "- 'Hello, world!'[:5]\n",
    "- 'Hello, world!'[3:]\n",
    "\n",
    "### **Ans:**\n"
   ]
  },
  {
   "cell_type": "code",
   "execution_count": 4,
   "id": "25ba09e4",
   "metadata": {},
   "outputs": [
    {
     "name": "stdout",
     "output_type": "stream",
     "text": [
      "e\n",
      "Hello\n",
      "Hello\n",
      "lo, world!\n"
     ]
    }
   ],
   "source": [
    "print('Hello, world!'[1])\n",
    "print('Hello, world!'[0:5])\n",
    "print('Hello, world!'[:5])\n",
    "print('Hello, world!'[3:])"
   ]
  },
  {
   "cell_type": "markdown",
   "id": "763f337c",
   "metadata": {},
   "source": [
    "---\n",
    "---"
   ]
  },
  {
   "cell_type": "markdown",
   "id": "621bcacf",
   "metadata": {},
   "source": [
    "### **7.What are the values of the following expressions ?**\n",
    "- 'Hello'.upper()\n",
    "- 'Hello'.upper().isupper()\n",
    "- 'Hello'.upper().lower()\n",
    "### **Ans:**"
   ]
  },
  {
   "cell_type": "code",
   "execution_count": 6,
   "id": "ca0805ff",
   "metadata": {},
   "outputs": [
    {
     "name": "stdout",
     "output_type": "stream",
     "text": [
      "HELLO\n",
      "True\n",
      "hello\n"
     ]
    }
   ],
   "source": [
    "print('Hello'.upper())\n",
    "print('Hello'.upper().isupper())\n",
    "print('Hello'.upper().lower())"
   ]
  },
  {
   "cell_type": "markdown",
   "id": "05d8ac98",
   "metadata": {},
   "source": [
    "---\n",
    "---"
   ]
  },
  {
   "cell_type": "markdown",
   "id": "a047ed34",
   "metadata": {},
   "source": [
    "### **8. What are the values of the following expressions?**\n",
    "- 'Remember, remember, the fifth of July.'.split()\n",
    "- '-'.join('There can only one.'.split())\n"
   ]
  },
  {
   "cell_type": "code",
   "execution_count": 9,
   "id": "888e07bb",
   "metadata": {},
   "outputs": [
    {
     "name": "stdout",
     "output_type": "stream",
     "text": [
      "['Remember,', 'remember,', 'the', 'fifth', 'of', 'July.']\n",
      "There-can-only-one.\n"
     ]
    }
   ],
   "source": [
    "print('Remember, remember, the fifth of July.'.split())\n",
    "print('-'.join('There can only one.'.split()))"
   ]
  },
  {
   "cell_type": "markdown",
   "id": "c9ab8835",
   "metadata": {},
   "source": [
    "---\n",
    "---"
   ]
  },
  {
   "cell_type": "markdown",
   "id": "b48816b2",
   "metadata": {},
   "source": [
    "### **9. What are the methods for right-justifying, left-justifying, and centering a string?**\n",
    "### **Ans:**"
   ]
  },
  {
   "cell_type": "code",
   "execution_count": 11,
   "id": "e53fe6ef",
   "metadata": {},
   "outputs": [
    {
     "data": {
      "text/plain": [
       "'-----Hello'"
      ]
     },
     "execution_count": 11,
     "metadata": {},
     "output_type": "execute_result"
    }
   ],
   "source": [
    "# Right-justifying\n",
    "text = \"Hello\"\n",
    "text.rjust(10, '-')"
   ]
  },
  {
   "cell_type": "code",
   "execution_count": 12,
   "id": "77854a9f",
   "metadata": {},
   "outputs": [
    {
     "data": {
      "text/plain": [
       "'Hello-----'"
      ]
     },
     "execution_count": 12,
     "metadata": {},
     "output_type": "execute_result"
    }
   ],
   "source": [
    "# Left-justifying\n",
    "text = \"Hello\"\n",
    "text.ljust(10, '-')"
   ]
  },
  {
   "cell_type": "code",
   "execution_count": 13,
   "id": "2747b899",
   "metadata": {},
   "outputs": [
    {
     "data": {
      "text/plain": [
       "'--Hello---'"
      ]
     },
     "execution_count": 13,
     "metadata": {},
     "output_type": "execute_result"
    }
   ],
   "source": [
    "# Centering\n",
    "text = \"Hello\"\n",
    "text.center(10, '-')"
   ]
  },
  {
   "cell_type": "markdown",
   "id": "6efb9eaf",
   "metadata": {},
   "source": [
    "---\n",
    "---"
   ]
  },
  {
   "cell_type": "markdown",
   "id": "b259dd84",
   "metadata": {},
   "source": [
    "### **10.What is the best way to remove whitespace characters from the start or end ?**\n",
    "### **Ans:**\n",
    " The `lstrip()` and `rstrip()` methods remove whitesapce characters from the left and right ends of a string respectively"
   ]
  },
  {
   "cell_type": "markdown",
   "id": "5dce42ed",
   "metadata": {},
   "source": [
    "---\n",
    "---"
   ]
  }
 ],
 "metadata": {
  "kernelspec": {
   "display_name": "Python 3 (ipykernel)",
   "language": "python",
   "name": "python3"
  },
  "language_info": {
   "codemirror_mode": {
    "name": "ipython",
    "version": 3
   },
   "file_extension": ".py",
   "mimetype": "text/x-python",
   "name": "python",
   "nbconvert_exporter": "python",
   "pygments_lexer": "ipython3",
   "version": "3.11.3"
  }
 },
 "nbformat": 4,
 "nbformat_minor": 5
}
