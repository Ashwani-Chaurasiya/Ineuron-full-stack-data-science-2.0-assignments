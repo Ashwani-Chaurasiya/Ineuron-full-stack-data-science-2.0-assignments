{
 "cells": [
  {
   "cell_type": "markdown",
   "metadata": {},
   "source": [
    "# **Assignment 13**"
   ]
  },
  {
   "cell_type": "markdown",
   "metadata": {},
   "source": [
    "### **1.What advantages do Excel spreadsheets have over CSV spreadsheets?**\n",
    "### **Ans:**\n",
    "- Data Sorting and Filtering: Flexible sorting and filtering options for better data organization and analysis.\n",
    "\n",
    "- Macros and Automation: Customization and automation using macros and VBA programming.\n",
    "\n",
    "- CSV file are plain text files, it does not contain formatting, macros etc."
   ]
  },
  {
   "cell_type": "markdown",
   "metadata": {},
   "source": [
    "---\n",
    "---"
   ]
  },
  {
   "cell_type": "markdown",
   "metadata": {},
   "source": [
    "### **2.What do you pass to csv.reader() and csv.writer() to create reader and writer objects?**\n",
    "### **Ans:**"
   ]
  },
  {
   "cell_type": "code",
   "execution_count": 4,
   "metadata": {},
   "outputs": [],
   "source": [
    "import csv\n",
    "\n",
    "with open(\"my_file.csv\", \"r\") as f:\n",
    "    reader = csv.reader(f, dialect=\"excel\")"
   ]
  },
  {
   "cell_type": "code",
   "execution_count": 3,
   "metadata": {},
   "outputs": [],
   "source": [
    "import csv\n",
    "\n",
    "with open(\"my_file.csv\", \"w\") as f:\n",
    "    writer = csv.writer(f, dialect=\"excel\")"
   ]
  },
  {
   "cell_type": "markdown",
   "metadata": {},
   "source": [
    "---\n",
    "---"
   ]
  },
  {
   "cell_type": "markdown",
   "metadata": {},
   "source": [
    "### **3. What modes do File objects for reader and writer objects need to be opened in?**\n",
    "### **Ans:**\n",
    "`mode = 'r'` can be opened for reader objects and `mode = 'w'` for writer objects.\n"
   ]
  },
  {
   "cell_type": "markdown",
   "metadata": {},
   "source": [
    "---\n",
    "---"
   ]
  },
  {
   "cell_type": "markdown",
   "metadata": {},
   "source": [
    "### **4.What method takes a list argument and writes it to a CSV file?**\n",
    "### **Ans:**\n",
    "The method that takes a list argument and writes it to a CSV file is `csv.writer.writerow()`."
   ]
  },
  {
   "cell_type": "markdown",
   "metadata": {},
   "source": [
    "---\n",
    "---"
   ]
  },
  {
   "cell_type": "markdown",
   "metadata": {},
   "source": [
    "### **5. What do the keyword arguments delimiter and line terminator do?**\n",
    "### **Ans:**\n",
    "- **Delimiter**: The delimiter keyword argument specifies the character used to separate fields in a CSV file. It determines how the values in a row are separated from each other. By default, a comma `(,)` is used as the delimiter.\n",
    "- **Line Terminator**: The line_terminator keyword argument specifies the character sequence used to terminate lines in the CSV file. It defines how rows are separated from each other. The default line terminator is the newline character `(\\n)`."
   ]
  },
  {
   "cell_type": "markdown",
   "metadata": {},
   "source": [
    "---\n",
    "---"
   ]
  },
  {
   "cell_type": "markdown",
   "metadata": {},
   "source": [
    "### **6. What function takes a string of JSON data and returns a Python data structure?**\n",
    "### **Ans:**\n",
    "`json.loads()` method takes string of JSON data and returns a Python data structure."
   ]
  },
  {
   "cell_type": "markdown",
   "metadata": {},
   "source": [
    "---\n",
    "---"
   ]
  },
  {
   "cell_type": "markdown",
   "metadata": {},
   "source": [
    "### **7. What function takes a Python data structure and returns a string of JSON data?**\n",
    "### **Ans:**\n",
    "`json.dumps()` method takes a python data structure and returns a string of JSON data."
   ]
  },
  {
   "cell_type": "markdown",
   "metadata": {},
   "source": [
    "---\n",
    "---"
   ]
  }
 ],
 "metadata": {
  "kernelspec": {
   "display_name": "Python 3",
   "language": "python",
   "name": "python3"
  },
  "language_info": {
   "codemirror_mode": {
    "name": "ipython",
    "version": 3
   },
   "file_extension": ".py",
   "mimetype": "text/x-python",
   "name": "python",
   "nbconvert_exporter": "python",
   "pygments_lexer": "ipython3",
   "version": "3.11.4"
  },
  "orig_nbformat": 4
 },
 "nbformat": 4,
 "nbformat_minor": 2
}
