{
 "cells": [
  {
   "cell_type": "markdown",
   "metadata": {},
   "source": [
    "# **Assignment 3**"
   ]
  },
  {
   "cell_type": "markdown",
   "metadata": {},
   "source": [
    "#### **1. Why are functions advantageous to have in your programs?**\n",
    "#### **Ans:**\n",
    "Functions enhance code organization, maintainability, and reusability, leading to more efficient and effective software development. They are fundamental building blocks in modern programming and essential for creating robust and scalable applications."
   ]
  },
  {
   "cell_type": "markdown",
   "metadata": {},
   "source": [
    "---\n",
    "---"
   ]
  },
  {
   "cell_type": "markdown",
   "metadata": {},
   "source": [
    "#### **2. When does the code in a function run: when it's specified or when it's called?**\n",
    "#### **Ans:**\n",
    "The codes in a user defined functions execute only when they are called, first we have to specify the code."
   ]
  },
  {
   "cell_type": "markdown",
   "metadata": {},
   "source": [
    "---\n",
    "---"
   ]
  },
  {
   "cell_type": "markdown",
   "metadata": {},
   "source": [
    "#### **3. What statement create a function in python?**\n",
    "#### **Ans:**\n",
    "The `def` statement is used to create a function. The `def` keyword stands for \"define,\" and it is the primary way to define user-defined functions in Python."
   ]
  },
  {
   "cell_type": "markdown",
   "metadata": {},
   "source": [
    "---\n",
    "---"
   ]
  },
  {
   "cell_type": "markdown",
   "metadata": {},
   "source": [
    "#### **4. What is the difference between a function and a function call?**\n",
    "#### **Ans:**\n",
    " A function is a block of code that defines a specific task, while a function call is the action of executing that task by providing necessary data as arguments. Functions and function calls work together to make programs more organized, modular, and efficient."
   ]
  },
  {
   "cell_type": "markdown",
   "metadata": {},
   "source": [
    "---\n",
    "---"
   ]
  },
  {
   "cell_type": "markdown",
   "metadata": {},
   "source": [
    "#### **5. How many global scopes are there in a Python program? How many local scopes?**\n",
    "#### **Ans:**\n",
    "Python program has one global scope, which is accessible throughout the program, and multiple local scopes, which are specific to each function or block statement and accessible only within their respective scopes."
   ]
  },
  {
   "cell_type": "markdown",
   "metadata": {},
   "source": [
    "---\n",
    "---"
   ]
  },
  {
   "cell_type": "markdown",
   "metadata": {},
   "source": [
    "#### **6. What happens to variables in a local scope when the function call returns?**\n",
    "#### **Ans:**\n",
    "When a function call returns  the variables that were defined within the local scope of the function are destroyed. This process is called as \"variable cleanup\" or \"variable destruction.\""
   ]
  },
  {
   "cell_type": "markdown",
   "metadata": {},
   "source": [
    "---\n",
    "---"
   ]
  },
  {
   "cell_type": "markdown",
   "metadata": {},
   "source": [
    "#### **7. What is the concept of a return value? Is it possible to have a return value in an expression?**\n",
    "#### **Ans:**\n",
    "The `return` statement is used to specify the return value of a function. It is used  in a function to send back to the caller after it has executed.\n",
    "Yes, it is Possible to have a return value in an expression."
   ]
  },
  {
   "cell_type": "markdown",
   "metadata": {},
   "source": [
    "---\n",
    "---"
   ]
  },
  {
   "cell_type": "markdown",
   "metadata": {},
   "source": [
    "#### **8. If a function does not have a return statement, what is the return value of a call to that function?**\n",
    "#### **Ans:**\n",
    "If a function does not have return value it will implicitly return as `None`."
   ]
  },
  {
   "cell_type": "markdown",
   "metadata": {},
   "source": [
    "---\n",
    "---"
   ]
  },
  {
   "cell_type": "markdown",
   "metadata": {},
   "source": [
    "#### **9. How do you make a function variable refer to the global variable?**\n",
    "#### **Ans:**\n",
    "We can access and modify a global variable from within a function, we can do so by using the `global` keyword. The `global` keyword allow to indicate the variable that it should refer to global variable."
   ]
  },
  {
   "cell_type": "markdown",
   "metadata": {},
   "source": [
    "---\n",
    "---"
   ]
  },
  {
   "cell_type": "markdown",
   "metadata": {},
   "source": [
    "#### **10. What is the data type of None?**\n",
    "#### **Ans:**\n",
    "`None` is a special constant and represents the absence of a value or a null value. The data type of `None` is `NoneType`."
   ]
  },
  {
   "cell_type": "markdown",
   "metadata": {},
   "source": [
    "---\n",
    "---"
   ]
  },
  {
   "cell_type": "markdown",
   "metadata": {},
   "source": [
    "#### **11. What does the sentence import areallyourpetsnamederic do?**\n",
    "#### **Ans:**\n",
    "It is a valid Python import statement. However, it does not import any standard Python module or library. Instead, it suggests that we have a custom module named areallyourpetsnamederic.py, and we are attempting to import it into our current Python script or environment."
   ]
  },
  {
   "cell_type": "markdown",
   "metadata": {},
   "source": [
    "---\n",
    "---"
   ]
  },
  {
   "cell_type": "markdown",
   "metadata": {},
   "source": [
    "#### **12. If you had a bacon() feature in a spam module, what would you call it after importing spam?**\n",
    "#### **Ans:**\n",
    " The function we can call is `spam.bacon()`"
   ]
  },
  {
   "cell_type": "markdown",
   "metadata": {},
   "source": [
    "---\n",
    "---"
   ]
  },
  {
   "cell_type": "markdown",
   "metadata": {},
   "source": [
    "#### **13. What can you do to save a programme from crashing if it encounters an error?**\n",
    "#### **Ans:**\n",
    "We can use `try` and `except` blocks to save programme from crashing."
   ]
  },
  {
   "cell_type": "markdown",
   "metadata": {},
   "source": [
    "---\n",
    "---"
   ]
  },
  {
   "cell_type": "markdown",
   "metadata": {},
   "source": [
    "#### **14. What is the purpose of the try clause? What is the purpose of the except clause?**\n",
    "#### **Ans:**\n",
    "The code which may have chances for any type of errors goes to `try` clause. If any type of error happens it goes it `except` clause to show error exceptions."
   ]
  },
  {
   "cell_type": "markdown",
   "metadata": {},
   "source": [
    "---\n",
    "---"
   ]
  }
 ],
 "metadata": {
  "language_info": {
   "name": "python"
  },
  "orig_nbformat": 4
 },
 "nbformat": 4,
 "nbformat_minor": 2
}
