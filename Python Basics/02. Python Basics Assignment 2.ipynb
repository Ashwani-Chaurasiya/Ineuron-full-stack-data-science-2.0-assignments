{
 "cells": [
  {
   "cell_type": "markdown",
   "id": "ae3421bb",
   "metadata": {},
   "source": [
    "# Assignment 2"
   ]
  },
  {
   "cell_type": "markdown",
   "id": "be4c025b",
   "metadata": {},
   "source": [
    "#### **1.What are the two values of the Boolean data type? How do you write them?**\n",
    "#### **Ans:**\n",
    "`True` and `False` are the two values of the Boolean data type."
   ]
  },
  {
   "cell_type": "code",
   "execution_count": 1,
   "id": "5f00febb",
   "metadata": {},
   "outputs": [
    {
     "name": "stdout",
     "output_type": "stream",
     "text": [
      "It's raining, better stay indoors or find some shelter.\n"
     ]
    }
   ],
   "source": [
    "# Define some variables with boolean values\n",
    "is_raining = True\n",
    "has_umbrella = False\n",
    "\n",
    "# Check if it's raining and the person has an umbrella\n",
    "if is_raining and has_umbrella:\n",
    "    print(\"You can go outside. Don't forget your umbrella!\")\n",
    "elif is_raining and not has_umbrella:\n",
    "    print(\"It's raining, better stay indoors or find some shelter.\")\n",
    "else:\n",
    "    print(\"Enjoy the weather, it's not raining!\")"
   ]
  },
  {
   "cell_type": "markdown",
   "id": "372957b2",
   "metadata": {},
   "source": [
    "---\n",
    "---\n"
   ]
  },
  {
   "cell_type": "markdown",
   "id": "250a6c33",
   "metadata": {},
   "source": [
    "#### **2. What are the three different types of Boolean operators?**\n",
    "#### **Ans:**\n",
    "The Three types of Boolean operators are: `AND`, `OR`, `NOT` -\n",
    ">**AND:** This operator returns True if both operands are True, otherwise, it returns False. In Python, the and keyword is used for the logical AND operation.\n",
    "\n",
    ">**OR:** This operator returns True if at least one of the operands is True, otherwise, it returns False. In Python, the or keyword is used for the logical OR operation.\n",
    "\n",
    ">**NOT:** This operator returns the opposite of the operand's Boolean value. If the operand is True, not will return False, and if the operand is False, not will return True. In Python, the not keyword is used for the logical NOT operation."
   ]
  },
  {
   "cell_type": "markdown",
   "id": "7a6e6c43",
   "metadata": {},
   "source": [
    "#### **3. Make a list of each Boolean operator's truth tables (i.e. every possible combination of Boolean values for the operator and what it evaluate ).**\n",
    "#### **Ans**\n",
    "1. `AND` Operator ('and'):\n",
    "\n",
    "| Operand 1 | Operand 2 | Result |\n",
    "| --- | --- | --- |\n",
    "| True | True | True |\n",
    "| True | False | False |\n",
    "| False | True | False | \n",
    "| False | False | False |\n",
    "\n",
    "The `and` operator returns `True` only if both operands are `True`. Otherwise, it returns `False`.\n",
    "\n",
    "2. OR operator (`or`):\n",
    "\n",
    "| Operand 1 | Operand 2 | Result |\n",
    "| --- | --- | --- |\n",
    "| True | True | True |\n",
    "| True | False | True |\n",
    "| False | True | True | \n",
    "| False | False | False |\n",
    "\n",
    "The `or` operator returns `True` if at least one of the operands is `True`. It returns `False` only if both operands are `False`.\n",
    "\n",
    "3. NOT Operator (`not`):\n",
    "\n",
    "| Operand | Result |\n",
    "| --- | --- |\n",
    "| True | False |\n",
    "| False | True |\n",
    "\n",
    "The `not` operator returns the opposite of the operand's Boolean value. If the operand is `True`, `not` will return `False`, and if the operand is `False`, not will return `True`."
   ]
  },
  {
   "cell_type": "markdown",
   "id": "41d18a96",
   "metadata": {},
   "source": [
    "---\n",
    "---"
   ]
  },
  {
   "cell_type": "markdown",
   "id": "62795d68",
   "metadata": {},
   "source": [
    "#### **4. What are the values of the following expressions?**\n",
    ">(5 > 4) and (3 == 5)\n",
    "\n",
    ">not (5 > 4)\n",
    "\n",
    ">(5 > 4) or (3 == 5)\n",
    "\n",
    ">not ((5 > 4) or (3 == 5))\n",
    "\n",
    ">(True and True) and (True == False)\n",
    "\n",
    ">(not False) or (not True)\n",
    "\n",
    "#### **Ans:**"
   ]
  },
  {
   "cell_type": "code",
   "execution_count": 3,
   "id": "13a96868",
   "metadata": {},
   "outputs": [
    {
     "name": "stdout",
     "output_type": "stream",
     "text": [
      "False\n",
      "False\n",
      "True\n",
      "False\n",
      "False\n",
      "True\n"
     ]
    }
   ],
   "source": [
    "print((5 > 4) and (3 == 5))                    #False \n",
    "print(not (5 > 4))                             #False\n",
    "print((5 > 4) or (3 == 5))                     #False\n",
    "print(not ((5 > 4) or (3 == 5)))               #False\n",
    "print((True and True) and (True == False))     #False \n",
    "print((not False) or (not True))               #False\n"
   ]
  },
  {
   "cell_type": "markdown",
   "id": "07019934",
   "metadata": {},
   "source": [
    "---\n",
    "---"
   ]
  },
  {
   "cell_type": "markdown",
   "id": "b759a0dc",
   "metadata": {},
   "source": [
    "#### **5. What are the six comparison operators?**\n",
    "#### **Ans**\n",
    "1. `Equal to (==):` This operator checks if the left operand is equal to the right operand.\n",
    "\n",
    "2. `Not equal to (!=):` This operator checks if the left operand is not equal to the right operand.\n",
    "\n",
    "3. `Greater than (>):` This operator checks if the left operand is greater than the right operand.\n",
    "\n",
    "4. `Less than (<):` This operator checks if the left operand is less than the right operand.\n",
    "\n",
    "5. `Greater than or equal to (>=):` This operator checks if the left operand is greater than or equal to the right operand.\n",
    "\n",
    "6. `Less than or equal to (<=):` This operator checks if the left operand is less than or equal to the right operand."
   ]
  },
  {
   "cell_type": "markdown",
   "id": "112e09a7",
   "metadata": {},
   "source": [
    "---\n",
    "---"
   ]
  },
  {
   "cell_type": "markdown",
   "id": "2d46b1ad",
   "metadata": {},
   "source": [
    "#### **6. How do you tell the difference between the equal to and assignment operators?Describe a condition and when you would use one.**\n",
    "#### **Ans:**\n",
    "1. `Equal To Operator (==):`\n",
    "The equal to operator == is used to compare two values and checks if they are equal. It returns True if the values are not equal it will return False.\n",
    "\n",
    "2. `Assignment Operator (=):`\n",
    "The assignment operator = is used to assign a value to a variable. It takes the value on the right side and assigns it to the variable on the left side."
   ]
  },
  {
   "cell_type": "code",
   "execution_count": 4,
   "id": "75cd0325",
   "metadata": {},
   "outputs": [],
   "source": [
    "x = 5              # Here x is assigned to the value 5\n",
    "y = 10\n",
    "result = (x == y)  # This will evaluate to False since x is not equal to y."
   ]
  },
  {
   "cell_type": "markdown",
   "id": "d630db6b",
   "metadata": {},
   "source": [
    "---\n",
    "---"
   ]
  },
  {
   "cell_type": "markdown",
   "id": "dedaafcd",
   "metadata": {},
   "source": [
    "#### **7. Identify the three blocks in this code:**\n",
    "- spam = 0\n",
    "- if spam == 10:\n",
    "- print('eggs')\n",
    "- if spam > 5:\n",
    "- print('bacon')\n",
    "- else:\n",
    "- print('ham')\n",
    "- print('spam')\n",
    "- print('spam')\n"
   ]
  },
  {
   "cell_type": "markdown",
   "id": "0f013669",
   "metadata": {},
   "source": [
    "The lines inside each of these blocks are indented with four spaces, which is the standard indentation in Python."
   ]
  },
  {
   "cell_type": "code",
   "execution_count": 6,
   "id": "a07eec31",
   "metadata": {},
   "outputs": [
    {
     "name": "stdout",
     "output_type": "stream",
     "text": [
      "ham\n",
      "spam\n",
      "spam\n"
     ]
    }
   ],
   "source": [
    "spam = 0\n",
    "\n",
    "if spam == 10:\n",
    "    print('eggs')  # First block (Block 1)\n",
    "\n",
    "if spam > 5:\n",
    "    print('bacon')  # Second block (Block 2)\n",
    "else:\n",
    "    print('ham')    # Third block (Block 3)\n",
    "\n",
    "print('spam')      # This line is not indented, it's outside all the blocks\n",
    "print('spam')      # This line is also not indented, it's also outside all the blocks"
   ]
  },
  {
   "cell_type": "markdown",
   "id": "222f5bcc",
   "metadata": {},
   "source": [
    "---\n",
    "---"
   ]
  },
  {
   "cell_type": "markdown",
   "id": "d17b6253",
   "metadata": {},
   "source": [
    "#### **8. Write code that prints Hello if 1 is stored in spam, prints Howdy if 2 is stored in spam, and prints Greetings! if anything else is stored in spam.**\n",
    "#### **Ans:**"
   ]
  },
  {
   "cell_type": "code",
   "execution_count": 7,
   "id": "3674ab95",
   "metadata": {},
   "outputs": [
    {
     "name": "stdout",
     "output_type": "stream",
     "text": [
      "Hello\n"
     ]
    }
   ],
   "source": [
    "spam =  int(input(\"Enter 1, 2 or any other value :\"))\n",
    "\n",
    "if spam == 1:\n",
    "    print(\"Hello\")\n",
    "elif spam == 2:\n",
    "    print(\"Howdy\")\n",
    "else:\n",
    "    print(\"Greetings!\")"
   ]
  },
  {
   "cell_type": "markdown",
   "id": "f71f589f",
   "metadata": {},
   "source": [
    "---\n",
    "---"
   ]
  },
  {
   "cell_type": "markdown",
   "id": "a3fb7195",
   "metadata": {},
   "source": [
    "#### **9.If your programme is stuck in an endless loop, what keys you’ll press?**\n",
    "#### **Ans:**\n",
    " Press `Ctrl+c` to stop a program stuck in endless loop."
   ]
  },
  {
   "cell_type": "markdown",
   "id": "09d34d22",
   "metadata": {},
   "source": [
    "---\n",
    "---"
   ]
  },
  {
   "cell_type": "markdown",
   "id": "6cc657ff",
   "metadata": {},
   "source": [
    "#### **10. How can you tell the difference between break and continue?**\n",
    "#### **Ans:**\n",
    "- `break:` Terminates the loop and continues with the first statement after the loop.\n",
    "- `continue:` Skips the rest of the current iteration and proceeds with the next iteration of the loop."
   ]
  },
  {
   "cell_type": "markdown",
   "id": "c1df5aa8",
   "metadata": {},
   "source": [
    "---\n",
    "---"
   ]
  },
  {
   "cell_type": "markdown",
   "id": "a6612682",
   "metadata": {},
   "source": [
    "#### **11. In a for loop, what is the difference between range(10), range(0, 10), and range(0, 10, 1)?**\n",
    "#### **Ans**\n",
    "In a for loop, `range(10)`, `range(0, 10)`, and `range(0, 10, 1)` produce the same result because they all generate the same sequence of numbers from 0 to 9.\n",
    "\n",
    ">1. `range(10)` : It takes default start value, This specifies stop value as 10.\n",
    ">2. `range(0, 10)`: Both Starting value and stop values are specified.\n",
    ">3. `range(0, 10, 1)`: It has specified start and stop value with step value as 1."
   ]
  },
  {
   "cell_type": "code",
   "execution_count": 11,
   "id": "8ff2d3c5",
   "metadata": {},
   "outputs": [
    {
     "name": "stdout",
     "output_type": "stream",
     "text": [
      "0\n",
      "1\n",
      "2\n",
      "3\n",
      "4\n",
      "5\n",
      "6\n",
      "7\n",
      "8\n",
      "9\n"
     ]
    }
   ],
   "source": [
    "for i in range(10):\n",
    "    print(i)"
   ]
  },
  {
   "cell_type": "code",
   "execution_count": 12,
   "id": "b9a7beb8",
   "metadata": {},
   "outputs": [
    {
     "name": "stdout",
     "output_type": "stream",
     "text": [
      "0\n",
      "1\n",
      "2\n",
      "3\n",
      "4\n",
      "5\n",
      "6\n",
      "7\n",
      "8\n",
      "9\n"
     ]
    }
   ],
   "source": [
    "for i in range(0, 10):\n",
    "    print(i)"
   ]
  },
  {
   "cell_type": "code",
   "execution_count": 13,
   "id": "88ad6bf7",
   "metadata": {},
   "outputs": [
    {
     "name": "stdout",
     "output_type": "stream",
     "text": [
      "0\n",
      "1\n",
      "2\n",
      "3\n",
      "4\n",
      "5\n",
      "6\n",
      "7\n",
      "8\n",
      "9\n"
     ]
    }
   ],
   "source": [
    "for i in range(0, 10, 1):\n",
    "    print(i)"
   ]
  },
  {
   "cell_type": "markdown",
   "id": "aacc92ab",
   "metadata": {},
   "source": [
    "---\n",
    "---"
   ]
  },
  {
   "cell_type": "markdown",
   "id": "f0127bf6",
   "metadata": {},
   "source": [
    "#### **12. Write a short program that prints the numbers 1 to 10 using a for loop. Then write an equivalent program that prints the numbers 1 to 10 using a while loop.**\n",
    "#### **Ans:**"
   ]
  },
  {
   "cell_type": "code",
   "execution_count": 14,
   "id": "5666f703",
   "metadata": {},
   "outputs": [
    {
     "name": "stdout",
     "output_type": "stream",
     "text": [
      "1\n",
      "2\n",
      "3\n",
      "4\n",
      "5\n",
      "6\n",
      "7\n",
      "8\n",
      "9\n",
      "10\n"
     ]
    }
   ],
   "source": [
    "# Program using for loop\n",
    "for i in range(1, 11):\n",
    "    print(i)"
   ]
  },
  {
   "cell_type": "code",
   "execution_count": 15,
   "id": "de76136b",
   "metadata": {},
   "outputs": [
    {
     "name": "stdout",
     "output_type": "stream",
     "text": [
      "1\n",
      "2\n",
      "3\n",
      "4\n",
      "5\n",
      "6\n",
      "7\n",
      "8\n",
      "9\n",
      "10\n"
     ]
    }
   ],
   "source": [
    "# Program using while loop\n",
    "i = 1\n",
    "while i <= 10:\n",
    "    print(i)\n",
    "    i += 1"
   ]
  },
  {
   "cell_type": "markdown",
   "id": "36fdab47",
   "metadata": {},
   "source": [
    "---\n",
    "---"
   ]
  },
  {
   "cell_type": "markdown",
   "id": "4ffe1276",
   "metadata": {},
   "source": [
    "#### **13. If you had a function named bacon() inside a module named spam, how would you call it after importing spam?**\n",
    "#### **Ans:**\n",
    "If you have a function named bacon() inside a module named spam, you can call it after importing the spam module using the dot notation."
   ]
  },
  {
   "cell_type": "markdown",
   "id": "591b1cf8",
   "metadata": {},
   "source": [
    "---\n",
    "---"
   ]
  }
 ],
 "metadata": {
  "kernelspec": {
   "display_name": "Python 3 (ipykernel)",
   "language": "python",
   "name": "python3"
  },
  "language_info": {
   "codemirror_mode": {
    "name": "ipython",
    "version": 3
   },
   "file_extension": ".py",
   "mimetype": "text/x-python",
   "name": "python",
   "nbconvert_exporter": "python",
   "pygments_lexer": "ipython3",
   "version": "3.11.4"
  }
 },
 "nbformat": 4,
 "nbformat_minor": 5
}
