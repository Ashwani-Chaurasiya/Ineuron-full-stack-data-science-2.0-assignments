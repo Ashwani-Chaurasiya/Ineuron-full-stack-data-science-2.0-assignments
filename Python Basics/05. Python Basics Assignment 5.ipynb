{
 "cells": [
  {
   "cell_type": "markdown",
   "metadata": {},
   "source": [
    "# Assignment 5"
   ]
  },
  {
   "cell_type": "markdown",
   "metadata": {},
   "source": [
    "#### **1. What does an empty dictionary's code look like?**\n",
    "#### **Ans:**\n",
    "An empty dictionary in Python is represented by a pair of curly braces `{}` with nothing inside them. "
   ]
  },
  {
   "cell_type": "code",
   "execution_count": null,
   "metadata": {},
   "outputs": [],
   "source": [
    "empty_dict = {}"
   ]
  },
  {
   "cell_type": "markdown",
   "metadata": {},
   "source": [
    "---\n",
    "---"
   ]
  },
  {
   "cell_type": "markdown",
   "metadata": {},
   "source": [
    "#### **2. What is the value of a dictionary value with the key 'foo' and the value 42?**\n",
    "#### **Ans:**\n"
   ]
  },
  {
   "cell_type": "code",
   "execution_count": 1,
   "metadata": {},
   "outputs": [
    {
     "name": "stdout",
     "output_type": "stream",
     "text": [
      "42\n"
     ]
    }
   ],
   "source": [
    "my_dict = {'foo': 42}\n",
    "\n",
    "# Accessing the value associated with the key 'foo'\n",
    "value_of_foo = my_dict['foo']\n",
    "print(value_of_foo)  # Output: 42"
   ]
  },
  {
   "cell_type": "markdown",
   "metadata": {},
   "source": [
    "---\n",
    "---"
   ]
  },
  {
   "cell_type": "markdown",
   "metadata": {},
   "source": [
    "#### **3. What is the most significant distinction between a dictionary and a list?**\n",
    "#### **Ans:**\n",
    "The most significant distinction between a dictionary and a list is that lists store elements in a sequential manner and are accessed using integer indices and list are represented by `[]`, while dictionaries store elements as key-value pairs and are accessed using their unique keys, dictionary is represented as `{}` ."
   ]
  },
  {
   "cell_type": "markdown",
   "metadata": {},
   "source": [
    "---\n",
    "---"
   ]
  },
  {
   "cell_type": "markdown",
   "metadata": {},
   "source": [
    "#### **4. What happens if you try to access spam['foo'] if spam is {'bar': 100}?**\n",
    "#### **Ans:**\n",
    "We get a keyError `KeyError: 'foo'`"
   ]
  },
  {
   "cell_type": "code",
   "execution_count": 2,
   "metadata": {},
   "outputs": [
    {
     "ename": "KeyError",
     "evalue": "'foo'",
     "output_type": "error",
     "traceback": [
      "\u001b[1;31m---------------------------------------------------------------------------\u001b[0m",
      "\u001b[1;31mKeyError\u001b[0m                                  Traceback (most recent call last)",
      "Cell \u001b[1;32mIn[2], line 2\u001b[0m\n\u001b[0;32m      1\u001b[0m spam \u001b[39m=\u001b[39m {\u001b[39m'\u001b[39m\u001b[39mbar\u001b[39m\u001b[39m'\u001b[39m: \u001b[39m100\u001b[39m}\n\u001b[1;32m----> 2\u001b[0m \u001b[39mprint\u001b[39m(spam[\u001b[39m'\u001b[39;49m\u001b[39mfoo\u001b[39;49m\u001b[39m'\u001b[39;49m])\n",
      "\u001b[1;31mKeyError\u001b[0m: 'foo'"
     ]
    }
   ],
   "source": [
    "spam = {'bar': 100}\n",
    "print(spam['foo'])"
   ]
  },
  {
   "cell_type": "markdown",
   "metadata": {},
   "source": [
    "---\n",
    "---"
   ]
  },
  {
   "cell_type": "markdown",
   "metadata": {},
   "source": [
    "#### **5. If a dictionary is stored in spam, what is the difference between the expressions 'cat' in spam and 'cat' in spam.keys()?**\n",
    "#### **Ans:**\n",
    "Both 'cat' in spam and 'cat' in spam.keys() are used to check if the key 'cat' is present in the dictionary spam. Their will be no difference."
   ]
  },
  {
   "cell_type": "markdown",
   "metadata": {},
   "source": [
    "---\n",
    "---"
   ]
  },
  {
   "cell_type": "markdown",
   "metadata": {},
   "source": [
    "#### **6. If a dictionary is stored in spam, what is the difference between the expressions 'cat' in spam and 'cat' in spam.values()?**\n",
    "#### **Ans:**\n",
    "> `'cat' in spam` expression checks if 'cat' exist in spam dictionary\n",
    "> `'cat' in spam.values()` expression checks if `'cat'` exist in values of spam dictionary.\n"
   ]
  },
  {
   "cell_type": "code",
   "execution_count": 3,
   "metadata": {},
   "outputs": [
    {
     "name": "stdout",
     "output_type": "stream",
     "text": [
      "True\n",
      "False\n"
     ]
    }
   ],
   "source": [
    "spam = {'cat': 5, 'dog': 2, 'bird': 1}\n",
    "\n",
    "print('cat' in spam)   # Output: True\n",
    "print('fish' in spam)  # Output: False"
   ]
  },
  {
   "cell_type": "code",
   "execution_count": 4,
   "metadata": {},
   "outputs": [
    {
     "name": "stdout",
     "output_type": "stream",
     "text": [
      "False\n",
      "True\n"
     ]
    }
   ],
   "source": [
    "spam = {'cat': 5, 'dog': 2, 'bird': 1}\n",
    "\n",
    "print('cat' in spam.values())  # Output: False\n",
    "print(5 in spam.values())      # Output: True"
   ]
  },
  {
   "cell_type": "markdown",
   "metadata": {},
   "source": [
    "---\n",
    "---"
   ]
  },
  {
   "cell_type": "markdown",
   "metadata": {},
   "source": [
    "#### **7. What is a shortcut for the following code?**\n",
    ">if 'color' not in spam:\n",
    "\n",
    ">spam['color'] = 'black'\n",
    "\n",
    "#### **Ans:**\n"
   ]
  },
  {
   "cell_type": "code",
   "execution_count": 5,
   "metadata": {},
   "outputs": [],
   "source": [
    "spam['color'] = spam.get('color', 'black')"
   ]
  },
  {
   "cell_type": "markdown",
   "metadata": {},
   "source": [
    "---\n",
    "---"
   ]
  },
  {
   "cell_type": "markdown",
   "metadata": {},
   "source": [
    "#### **8. How do you \"pretty print\" dictionary values using which module and function?**\n",
    "#### **Ans:**\n",
    "To \"pretty print\" dictionary values in Python, we can use the pprint module, specifically the `pprint()` function from that module. \"Pretty printing\" means displaying the dictionary in a more human-readable and organized format, making it easier to read, especially when dealing with complex nested dictionaries."
   ]
  },
  {
   "cell_type": "code",
   "execution_count": 6,
   "metadata": {},
   "outputs": [
    {
     "name": "stdout",
     "output_type": "stream",
     "text": [
      "{'address': {'city': 'Satna', 'zipcode': '485001'},\n",
      " 'age': 20,\n",
      " 'name': 'Ashwani'}\n"
     ]
    }
   ],
   "source": [
    "import pprint\n",
    "\n",
    "my_dict = {\n",
    "    'name': 'Ashwani',\n",
    "    'age': 20,\n",
    "    'address': {\n",
    "        'city': 'Satna',\n",
    "        'zipcode': '485001'\n",
    "    }\n",
    "}\n",
    "\n",
    "pprint.pprint(my_dict)"
   ]
  },
  {
   "cell_type": "markdown",
   "metadata": {},
   "source": [
    "---\n",
    "---"
   ]
  }
 ],
 "metadata": {
  "kernelspec": {
   "display_name": "Python 3",
   "language": "python",
   "name": "python3"
  },
  "language_info": {
   "codemirror_mode": {
    "name": "ipython",
    "version": 3
   },
   "file_extension": ".py",
   "mimetype": "text/x-python",
   "name": "python",
   "nbconvert_exporter": "python",
   "pygments_lexer": "ipython3",
   "version": "3.11.4"
  },
  "orig_nbformat": 4
 },
 "nbformat": 4,
 "nbformat_minor": 2
}
