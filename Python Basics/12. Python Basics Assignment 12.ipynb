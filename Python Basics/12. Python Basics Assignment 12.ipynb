{
 "cells": [
  {
   "cell_type": "markdown",
   "metadata": {},
   "source": [
    "# **Assignment 12**"
   ]
  },
  {
   "cell_type": "markdown",
   "metadata": {},
   "source": [
    "### **1.In what modes should the PdfFileReader() and PdfFileWriter() File objects will be opened?**\n",
    "### **Ans:**\n",
    "- `PdfFileReader()` file objects should be opened in `rb` -> read binary mode.\n",
    "- `PdfFileWriter()` file objects should be opened in `eb` -> write binary mode."
   ]
  },
  {
   "cell_type": "markdown",
   "metadata": {},
   "source": [
    "---\n",
    "---"
   ]
  },
  {
   "cell_type": "markdown",
   "metadata": {},
   "source": [
    "### **2. From a PdfFileReader object, how do you get a Page object for page 5?**\n",
    "### **Ans:**\n",
    "`PdfFileReader` class provides method called `getPage(page_no)`."
   ]
  },
  {
   "cell_type": "markdown",
   "metadata": {},
   "source": [
    "---\n",
    "---"
   ]
  },
  {
   "cell_type": "markdown",
   "metadata": {},
   "source": [
    "### **3. What PdfFileReader variable stores the number of pages in the PDF document?**\n",
    "### **Ans:**\n",
    "> `getNumPages()`"
   ]
  },
  {
   "cell_type": "markdown",
   "metadata": {},
   "source": [
    "---\n",
    "---"
   ]
  },
  {
   "cell_type": "markdown",
   "metadata": {},
   "source": [
    "### **4. If a PdfFileReader object’s PDF is encrypted with the password swordfish, what must you do before you can obtain Page objects from it?**\n",
    "### **Ans:**\n",
    "> `object.decrypt('swordfish')`"
   ]
  },
  {
   "cell_type": "markdown",
   "metadata": {},
   "source": [
    "---\n",
    "---"
   ]
  },
  {
   "cell_type": "markdown",
   "metadata": {},
   "source": [
    "### **5.What methods do you use to rotate a page?**\n",
    "### **Ans:**\n",
    "There are two methods to rotate a page:\n",
    "\n",
    "1. `rotateClockWise()` -> For Clockwise rotation.\n",
    "2. `rotateCounterClockWise` -> For anticlockwise rotation."
   ]
  },
  {
   "cell_type": "markdown",
   "metadata": {},
   "source": [
    "---\n",
    "---"
   ]
  },
  {
   "cell_type": "markdown",
   "metadata": {},
   "source": [
    "### **6. What is the difference between a Run object and a Paragraph object?**\n",
    "### **Ans:**\n",
    "A `paragraph` is a higher-level container for text content, and a `run` is a lower-level element that defines the formatting of a portion of that text within a paragraph."
   ]
  },
  {
   "cell_type": "markdown",
   "metadata": {},
   "source": [
    "---\n",
    "---"
   ]
  },
  {
   "cell_type": "markdown",
   "metadata": {},
   "source": [
    "### **7.How do you obtain a list of Paragraph objects for a Document object that’s stored in a variable named doc?**\n",
    "### **Ans:**\n"
   ]
  },
  {
   "cell_type": "markdown",
   "metadata": {},
   "source": [
    ">  `doc.paragraphs`"
   ]
  },
  {
   "cell_type": "markdown",
   "metadata": {},
   "source": [
    "\n",
    "---\n",
    "---"
   ]
  },
  {
   "cell_type": "markdown",
   "metadata": {},
   "source": [
    "### **8.What type of object has bold, underline, italic, strike, and outline variables?**\n",
    "### **Ans:**\n",
    "`Run` object has bold, underline, italic, strike, and outline variables. The text in a Word document is more than just a string. It has font, size, color, and other styling information associated with it."
   ]
  },
  {
   "cell_type": "markdown",
   "metadata": {},
   "source": [
    "---\n",
    "---"
   ]
  },
  {
   "cell_type": "markdown",
   "metadata": {},
   "source": [
    "### **9. What is the difference between False, True, and None for the bold variable?**\n",
    "### **Ans:**\n",
    "- `False` means that the text in the Run object should not be bold.\n",
    "- `True` means that the text in the Run object should be bold.\n",
    "- `None` means that the text in the Run object should inherit the bold setting from the style that is applied to the paragraph."
   ]
  },
  {
   "cell_type": "markdown",
   "metadata": {},
   "source": [
    "---\n",
    "---"
   ]
  },
  {
   "cell_type": "markdown",
   "metadata": {},
   "source": [
    "### **10.How do you create a Document object for a new Word document?**\n",
    "### **Ans:**"
   ]
  },
  {
   "cell_type": "code",
   "execution_count": 8,
   "metadata": {},
   "outputs": [],
   "source": [
    "from docx import Document\n",
    "\n",
    "# Create a new Document object\n",
    "doc = Document()\n",
    "\n",
    "# Add content to the document\n",
    "doc.add_heading('My Document Title', level=1)\n",
    "doc.add_paragraph('This is the first paragraph of my document.')\n",
    "doc.add_paragraph('This is the second paragraph of my document.')\n",
    "\n",
    "# Save the document\n",
    "doc.save('my_document.docx')"
   ]
  },
  {
   "cell_type": "markdown",
   "metadata": {},
   "source": [
    "---\n",
    "---"
   ]
  },
  {
   "cell_type": "markdown",
   "metadata": {},
   "source": [
    "### **11.How do you add a paragraph with the text 'Hello, there!' to a Document object stored in a variable named doc?**\n",
    "### **Ans:**"
   ]
  },
  {
   "cell_type": "code",
   "execution_count": 10,
   "metadata": {},
   "outputs": [],
   "source": [
    "from docx import Document\n",
    "\n",
    "doc = Document()\n",
    "doc.add_paragraph(\"Hell, there!\")\n",
    "doc.save('hello.docx')"
   ]
  },
  {
   "cell_type": "markdown",
   "metadata": {},
   "source": [
    "---\n",
    "---"
   ]
  },
  {
   "cell_type": "markdown",
   "metadata": {},
   "source": [
    "### **12.What integers represent the levels of headings available in Word documents?**\n",
    "### **Ans:**\n",
    "\n",
    "\n",
    "The integers that represent the levels of headings available in Word documents are 0 to 9.\n",
    "\n",
    "- 0 represents the Title style, which is used for the top of the document.\n",
    "- 1 to 4 represent various heading levels, with 1 being the main heading and 4 the lowest subheading.\n",
    "- 5 to 9 are reserved for future use."
   ]
  },
  {
   "cell_type": "markdown",
   "metadata": {},
   "source": [
    "---\n",
    "---"
   ]
  }
 ],
 "metadata": {
  "kernelspec": {
   "display_name": "Python 3",
   "language": "python",
   "name": "python3"
  },
  "language_info": {
   "codemirror_mode": {
    "name": "ipython",
    "version": 3
   },
   "file_extension": ".py",
   "mimetype": "text/x-python",
   "name": "python",
   "nbconvert_exporter": "python",
   "pygments_lexer": "ipython3",
   "version": "3.11.4"
  },
  "orig_nbformat": 4
 },
 "nbformat": 4,
 "nbformat_minor": 2
}
