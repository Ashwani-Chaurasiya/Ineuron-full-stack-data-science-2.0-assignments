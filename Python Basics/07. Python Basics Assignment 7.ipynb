{
 "cells": [
  {
   "cell_type": "markdown",
   "id": "28bce569",
   "metadata": {},
   "source": [
    "# **Assignment 7**"
   ]
  },
  {
   "cell_type": "markdown",
   "id": "4db056c2",
   "metadata": {},
   "source": [
    "### **1. What is the name of the feature responsible for generating Regex objects?**\n",
    "### **Ans:**\n",
    "`re.compile()` is the feature responsible for for generating Regex objects."
   ]
  },
  {
   "cell_type": "markdown",
   "id": "500892b2",
   "metadata": {},
   "source": [
    "---\n",
    "---"
   ]
  },
  {
   "cell_type": "markdown",
   "id": "a8ea3b20",
   "metadata": {},
   "source": [
    "### **2. Why do raw strings often appear in Regex objects?**\n",
    "### **Ans:**\n",
    "Raw strings are commonly used in Regex objects to ensure that backslashes are treated as literal characters and to simplify the expression's readability and maintenance.\n"
   ]
  },
  {
   "cell_type": "markdown",
   "id": "05919e4d",
   "metadata": {},
   "source": [
    "---\n",
    "---"
   ]
  },
  {
   "cell_type": "markdown",
   "id": "a4b7f68c",
   "metadata": {},
   "source": [
    "### **3. What is the return value of the search() method?**\n",
    "### **Ans:**\n",
    "the `search()` method returns a match object if a match is found, and `None` if no match is found, allowing you to handle the results of the pattern search accordingly in your code."
   ]
  },
  {
   "cell_type": "markdown",
   "id": "87d8082d",
   "metadata": {},
   "source": [
    "---\n",
    "---"
   ]
  },
  {
   "cell_type": "markdown",
   "id": "e0732ca2",
   "metadata": {},
   "source": [
    "### **4. From a Match item, how do you get the actual strings that match the pattern?**\n",
    "### **Ans:**\n",
    "`group()` methods returns actual strings that match the pattern."
   ]
  },
  {
   "cell_type": "code",
   "execution_count": 9,
   "id": "0ab6b577",
   "metadata": {},
   "outputs": [
    {
     "name": "stdout",
     "output_type": "stream",
     "text": [
      "Match found: apples\n"
     ]
    }
   ],
   "source": [
    "import re\n",
    "\n",
    "match_object = re.search(\"Apples\",\"I have 123 apples and 456 bananas.\", flags = re.IGNORECASE)\n",
    "\n",
    "print(\"Match found:\", match_object.group())"
   ]
  },
  {
   "cell_type": "markdown",
   "id": "3603d584",
   "metadata": {},
   "source": [
    "---\n",
    "---"
   ]
  },
  {
   "cell_type": "markdown",
   "id": "2a8e57ef",
   "metadata": {},
   "source": [
    "### **5. In the regex which created from the r'(\\d\\d\\d)-(\\d\\d\\d-\\d\\d\\d\\d)', what does group zero cover? Group 2? Group 1?**\n",
    "### **Ans:**\n",
    "- group 0 covers (\\d\\d\\d)-(\\d\\d\\d-\\d\\d\\d\\d)\n",
    "- group 1 covers (\\d\\d\\d)\n",
    "- group 2 covers (\\d\\d\\d-\\d\\d\\d\\d)"
   ]
  },
  {
   "cell_type": "markdown",
   "id": "e02b0c31",
   "metadata": {},
   "source": [
    "---\n",
    "---"
   ]
  },
  {
   "cell_type": "markdown",
   "id": "ecae5b73",
   "metadata": {},
   "source": [
    "### **6. In standard expression syntax, parentheses and intervals have distinct meanings. How can you tell a regex that you want it to fit real parentheses and periods?**\n",
    "### **Ans:**\n",
    "The `\\.` `\\(` and `\\)` escape characters in the raw string passed to re.compile() will match actual parenthesis characters."
   ]
  },
  {
   "cell_type": "markdown",
   "id": "5cff2171",
   "metadata": {},
   "source": [
    "---\n",
    "---"
   ]
  },
  {
   "cell_type": "markdown",
   "id": "065f6bc9",
   "metadata": {},
   "source": [
    "### **7. The findall() method returns a string list or a list of string tuples. What causes it to return one of the two options?**\n",
    "### **Ans:**"
   ]
  },
  {
   "cell_type": "code",
   "execution_count": null,
   "id": "24b09701",
   "metadata": {},
   "outputs": [],
   "source": []
  }
 ],
 "metadata": {
  "kernelspec": {
   "display_name": "Python 3 (ipykernel)",
   "language": "python",
   "name": "python3"
  },
  "language_info": {
   "codemirror_mode": {
    "name": "ipython",
    "version": 3
   },
   "file_extension": ".py",
   "mimetype": "text/x-python",
   "name": "python",
   "nbconvert_exporter": "python",
   "pygments_lexer": "ipython3",
   "version": "3.11.3"
  }
 },
 "nbformat": 4,
 "nbformat_minor": 5
}
