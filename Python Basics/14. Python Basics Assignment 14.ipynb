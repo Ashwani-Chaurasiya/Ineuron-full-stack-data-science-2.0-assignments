{
 "cells": [
  {
   "cell_type": "markdown",
   "metadata": {},
   "source": [
    "# **Assignment 14**"
   ]
  },
  {
   "cell_type": "markdown",
   "metadata": {},
   "source": [
    "### **1. What does RGBA stand for?**\n",
    "### **Ans:**\n",
    "**RGBA** is a four channel format containing data for `Red`, `Green`, `Blue`, and `Alpha`."
   ]
  },
  {
   "cell_type": "markdown",
   "metadata": {},
   "source": [
    "---\n",
    "---"
   ]
  },
  {
   "cell_type": "markdown",
   "metadata": {},
   "source": [
    "### **2. From the Pillow module, how do you get the RGBA value of any images?**\n",
    "### **Ans:** **`ImageColor.getcolor()`** gives RGBA value of any image."
   ]
  },
  {
   "cell_type": "markdown",
   "metadata": {},
   "source": [
    "---\n",
    "---"
   ]
  },
  {
   "cell_type": "markdown",
   "metadata": {},
   "source": [
    "### **3. What is a box tuple, and how does it work?**\n",
    "### **Ans:**\n",
    "Many Pillow's function take box tuple argument. This means pillow is taking a tuple of four integer coordinates that expecting a rectangular region in image. The four integers are in order left, top, right, bottom."
   ]
  },
  {
   "cell_type": "markdown",
   "metadata": {},
   "source": [
    "---\n",
    "---"
   ]
  },
  {
   "cell_type": "markdown",
   "metadata": {},
   "source": [
    "### **4. Use your image and load in notebook then, How can you find out the width and height of an Image object?**\n",
    "### **Ans:**"
   ]
  },
  {
   "cell_type": "code",
   "execution_count": 1,
   "metadata": {},
   "outputs": [
    {
     "name": "stdout",
     "output_type": "stream",
     "text": [
      "width= 1920\n",
      "height= 1080\n"
     ]
    }
   ],
   "source": [
    "from PIL import Image\n",
    "pic=Image.open(\"image.jpg\")\n",
    "width, height = pic.size\n",
    "print(\"width=\", width)\n",
    "print(\"height=\", height)"
   ]
  },
  {
   "cell_type": "markdown",
   "metadata": {},
   "source": [
    "---\n",
    "---"
   ]
  },
  {
   "cell_type": "markdown",
   "metadata": {},
   "source": [
    "### **5. What method would you call to get Image object for a 100×100 image, excluding the lower-left quarter of it?**\n",
    "### **Ans:**"
   ]
  },
  {
   "cell_type": "code",
   "execution_count": 3,
   "metadata": {},
   "outputs": [],
   "source": [
    "import PIL.Image\n",
    "\n",
    "img = PIL.Image.open('image.jpg')\n",
    "cropped_img = img.crop((0, 0, 50, 50))\n",
    "cropped_img.show()"
   ]
  },
  {
   "cell_type": "markdown",
   "metadata": {},
   "source": [
    "---\n",
    "---"
   ]
  },
  {
   "cell_type": "markdown",
   "metadata": {},
   "source": [
    "### **6. After making changes to an Image object, how could you save it as an image file?**\n",
    "### **Ans:**\n",
    "`variable.save(filename)`"
   ]
  },
  {
   "cell_type": "code",
   "execution_count": 4,
   "metadata": {},
   "outputs": [],
   "source": [
    "#Example Program\n",
    "from PIL import Image\n",
    "pic = Image.open('image.jpg')\n",
    "pic.save('pic2.jpg')"
   ]
  },
  {
   "cell_type": "markdown",
   "metadata": {},
   "source": [
    "---\n",
    "---"
   ]
  },
  {
   "cell_type": "markdown",
   "metadata": {},
   "source": [
    "### **7. What module contains Pillow’s shape-drawing code?**\n",
    "### **Ans:**\n",
    "Pillows **`ImageDraw`** module contains Shape drawing methods"
   ]
  },
  {
   "cell_type": "markdown",
   "metadata": {},
   "source": [
    "---\n",
    "---"
   ]
  },
  {
   "cell_type": "markdown",
   "metadata": {},
   "source": [
    "### **8. Image objects do not have drawing methods. What kind of object does? How do you get this kind of object?**\n",
    "### **Ans:**\n"
   ]
  },
  {
   "cell_type": "markdown",
   "metadata": {},
   "source": [
    "wand.drawing.Drawing object has drawing methods.\n",
    "\n",
    "It can be got this way:\n",
    "\n",
    "from wand.drawing import Drawing"
   ]
  },
  {
   "cell_type": "markdown",
   "metadata": {},
   "source": [
    "---\n",
    "---"
   ]
  }
 ],
 "metadata": {
  "kernelspec": {
   "display_name": "Python 3",
   "language": "python",
   "name": "python3"
  },
  "language_info": {
   "codemirror_mode": {
    "name": "ipython",
    "version": 3
   },
   "file_extension": ".py",
   "mimetype": "text/x-python",
   "name": "python",
   "nbconvert_exporter": "python",
   "pygments_lexer": "ipython3",
   "version": "3.11.4"
  },
  "orig_nbformat": 4
 },
 "nbformat": 4,
 "nbformat_minor": 2
}
