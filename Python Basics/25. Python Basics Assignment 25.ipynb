{
 "cells": [
  {
   "cell_type": "markdown",
   "id": "cbe32775",
   "metadata": {},
   "source": [
    "# **Assignment 25**"
   ]
  },
  {
   "cell_type": "markdown",
   "id": "1fbc5496",
   "metadata": {},
   "source": [
    "### **1) . What is the difference between enclosing a list comprehension in square brackets and parentheses?**\n",
    "**Ans:**  Enclosing a list comprehension in `square bracket` returns a `list`, whereas enclosing a list comprehension in `parentheses` returns a `generator` object."
   ]
  },
  {
   "cell_type": "code",
   "execution_count": 1,
   "id": "6cb8642a",
   "metadata": {},
   "outputs": [
    {
     "name": "stdout",
     "output_type": "stream",
     "text": [
      "[0, 1, 2, 3, 4, 5, 6, 7, 8, 9] <class 'list'>\n",
      "<generator object <genexpr> at 0x0000016D16280C70> <class 'generator'>\n"
     ]
    }
   ],
   "source": [
    "l = [ele for ele in range(10)]\n",
    "print(l, type(l))\n",
    "g = (ele for ele in range(10))\n",
    "print(g, type(g))"
   ]
  },
  {
   "cell_type": "markdown",
   "id": "bedb8276",
   "metadata": {},
   "source": [
    "---\n",
    "---"
   ]
  },
  {
   "cell_type": "markdown",
   "id": "0c32923a",
   "metadata": {},
   "source": [
    "### **2) What is the relationship between generators and iterators?**\n",
    "**Ans:** Generators are a specific type of iterator in Python. An iterator is an object that implements the iterator protocol, which involves methods like `__iter__()` and `__next__()`. Generators provide a convenient way to create iterators using a concise and memory-efficient syntax.\n",
    "\n",
    "`In short, all generators are iterators, but not all iterators are generators.`\n",
    "\n",
    "Generators are defined using functions with the `yield` keyword. When the function is called, it doesn't execute the whole body immediately; instead, it creates a generator object that can be iterated over using a loop or other iterator-consuming mechanisms.\n",
    "\n",
    "Iterators can be created using classes that implement the iterator protocol with the `__iter__()` and `__next__()` methods. While generators simplify the process of creating iterators, other types of iterators can be more versatile in certain situations.\n",
    "\n",
    "In summary, generators are a subset of iterators with a specific implementation using the `yield` keyword, offering a convenient way to create iterators with less boilerplate code."
   ]
  },
  {
   "cell_type": "markdown",
   "id": "b2a35ef6",
   "metadata": {},
   "source": [
    "---\n",
    "---"
   ]
  },
  {
   "cell_type": "markdown",
   "id": "21435a47",
   "metadata": {},
   "source": [
    "### **3) What are the signs that a function is a generator function?**\n",
    "**Ans:** A function is a generator function if it contains at least one `yield` statement. The `yield` statement is used to pause the execution of the function and return a value. When the function is resumed, it will continue executing from the point where it was paused."
   ]
  },
  {
   "cell_type": "markdown",
   "id": "5e526792",
   "metadata": {},
   "source": [
    "---\n",
    "---"
   ]
  },
  {
   "cell_type": "markdown",
   "id": "b64f6f16",
   "metadata": {},
   "source": [
    "### **4) What is the purpose of a yield statement?**\n",
    "**Ans:** The purpose of a `yield` statement is to temporarily pause the execution of a function and yield a value to the caller. It turns the function into a generator, allowing it to be resumed later to continue execution from where it was paused."
   ]
  },
  {
   "cell_type": "markdown",
   "id": "d3a5e7da",
   "metadata": {},
   "source": [
    "---\n",
    "---"
   ]
  },
  {
   "cell_type": "markdown",
   "id": "d0ea1cf5",
   "metadata": {},
   "source": [
    "### **5) What is the relationship between map calls and list comprehensions? Make a comparison and contrast between the two ?**\n",
    "**Ans:** The main differences between map calls and list comprehension are:\n",
    "\n",
    "1. List comprehension is more concise and easier to read as compared to map.\n",
    "2. List comprehension allows filtering. In map, we have no such facility. For example, to print all odd numbers in range of 50, we can write [n for n in range(50) if n%2 != 0]. There is no alternate for it in map.\n",
    "3. List comprehension are used when a list of results is required as final output.but map only returns a map object. it needs to be explicitly coverted to desired datatype.\n",
    "4. List comprehension is faster than map when we need to evaluate expressions that are too long or complicated to express\n",
    "5. Map is faster in case of calling an already defined function on a set of values."
   ]
  },
  {
   "cell_type": "markdown",
   "id": "63722663",
   "metadata": {},
   "source": [
    "---\n",
    "---"
   ]
  }
 ],
 "metadata": {
  "kernelspec": {
   "display_name": "Python 3 (ipykernel)",
   "language": "python",
   "name": "python3"
  },
  "language_info": {
   "codemirror_mode": {
    "name": "ipython",
    "version": 3
   },
   "file_extension": ".py",
   "mimetype": "text/x-python",
   "name": "python",
   "nbconvert_exporter": "python",
   "pygments_lexer": "ipython3",
   "version": "3.11.3"
  }
 },
 "nbformat": 4,
 "nbformat_minor": 5
}
