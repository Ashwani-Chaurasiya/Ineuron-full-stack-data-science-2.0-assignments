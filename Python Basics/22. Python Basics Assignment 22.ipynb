{
 "cells": [
  {
   "cell_type": "markdown",
   "id": "20847db0",
   "metadata": {},
   "source": [
    "# **Assignment 22**"
   ]
  },
  {
   "cell_type": "markdown",
   "id": "e72b0feb",
   "metadata": {},
   "source": [
    "### **1. What is the result of the code, and explain?**\n",
    "`>>> X = 'iNeuron'`\n",
    "\n",
    "`>>> def func():`\n",
    "\n",
    "`print(X)`\n",
    "\n",
    "`>>> func()`\n",
    "\n",
    "### **Ans:** The above program will print iNeuron to the console as there is no local variable X in the function and the global variable X will be called."
   ]
  },
  {
   "cell_type": "code",
   "execution_count": 1,
   "id": "c14bf842",
   "metadata": {},
   "outputs": [
    {
     "name": "stdout",
     "output_type": "stream",
     "text": [
      "iNeuron\n"
     ]
    }
   ],
   "source": [
    "X = 'iNeuron'\n",
    "def func():\n",
    "    print(X)\n",
    "func()"
   ]
  },
  {
   "cell_type": "markdown",
   "id": "724870b4",
   "metadata": {},
   "source": [
    "---\n",
    "---"
   ]
  },
  {
   "cell_type": "markdown",
   "id": "5775b994",
   "metadata": {},
   "source": [
    "### **2. What is the result of the code, and explain?**\n",
    "`>>> X = 'iNeuron'`\n",
    "\n",
    "`>>> def func():`\n",
    "\n",
    "`X = 'NI!'`\n",
    "\n",
    "`>>> func()`\n",
    "\n",
    "`>>> print(X)`\n",
    "\n",
    "### **Ans:** \n",
    "The above program will print iNeuron to the console\n",
    "\n",
    "As the statement X='NI!' will be updating the local value X, but the global variable X will be unchanged"
   ]
  },
  {
   "cell_type": "code",
   "execution_count": 2,
   "id": "2d2e86bb",
   "metadata": {},
   "outputs": [
    {
     "name": "stdout",
     "output_type": "stream",
     "text": [
      "NI!\n"
     ]
    }
   ],
   "source": [
    "X = 'iNeuron'\n",
    "def func():\n",
    "    X = 'NI!'\n",
    "    print(X)\n",
    "func()"
   ]
  },
  {
   "cell_type": "markdown",
   "id": "131a84b4",
   "metadata": {},
   "source": [
    "---\n",
    "---"
   ]
  },
  {
   "cell_type": "markdown",
   "id": "05cfec1a",
   "metadata": {},
   "source": [
    "### **3. What does this code print, and why?**\n",
    "`>>> X = 'iNeuron'`\n",
    "\n",
    "`>>> def func():`\n",
    "\n",
    "`X = 'NI'`\n",
    "\n",
    "`print(X)`\n",
    "\n",
    "`>>> func()`\n",
    "\n",
    "`>>> print(X)`\n",
    "\n",
    "### **Ans:**\n",
    "The output of the code is NI and iNeuron. X=NI is in the local scope of the function func() hence the function prints the x value as NI. X = 'iNeuron' is in the global scope. hence print(X) prints output as iNeuron."
   ]
  },
  {
   "cell_type": "code",
   "execution_count": 3,
   "id": "f798d9f9",
   "metadata": {},
   "outputs": [
    {
     "name": "stdout",
     "output_type": "stream",
     "text": [
      "NI\n",
      "iNeuron\n"
     ]
    }
   ],
   "source": [
    "X = 'iNeuron'\n",
    "def func():\n",
    "    X = 'NI'\n",
    "    print(X)\n",
    "func()\n",
    "print(X)"
   ]
  },
  {
   "cell_type": "markdown",
   "id": "13ee6894",
   "metadata": {},
   "source": [
    "---\n",
    "---"
   ]
  },
  {
   "cell_type": "markdown",
   "id": "a8ce2ef0",
   "metadata": {},
   "source": [
    "### **4. What output does this code produce? Why?**\n",
    "`>>> X = 'iNeuron'`\n",
    "\n",
    "`>>> def func():`\n",
    "    \n",
    "`global X`\n",
    "\n",
    "`X = 'NI'`\n",
    "\n",
    "`>>> func()`\n",
    "\n",
    "`>>> print(X)`\n",
    "\n",
    "### **Ans:**\n",
    "The output of the code is NI. the global keyword allows a variable to be accessible in the current scope. since we are using global keyword inside the function func it directly access the variable in X in global scope. and changes its value to NI. hence the output of the code is NI"
   ]
  },
  {
   "cell_type": "code",
   "execution_count": 6,
   "id": "8ef61c2d",
   "metadata": {},
   "outputs": [
    {
     "name": "stdout",
     "output_type": "stream",
     "text": [
      "NI\n"
     ]
    }
   ],
   "source": [
    "X = 'iNeuron'\n",
    "def func():\n",
    "    global X\n",
    "    X = 'NI'\n",
    "func()\n",
    "print(X)"
   ]
  },
  {
   "cell_type": "markdown",
   "id": "a5fee183",
   "metadata": {},
   "source": [
    "---\n",
    "---"
   ]
  },
  {
   "cell_type": "markdown",
   "id": "eb76e6b9",
   "metadata": {},
   "source": [
    "### **5. What about this code—what’s the output, and why?**\n",
    "\n",
    "`>>> X = 'iNeuron'`\n",
    "\n",
    "`>>> def func():`\n",
    "    \n",
    "`X = 'NI'`\n",
    "\n",
    "`def nested():`\n",
    "    \n",
    "`print(X)`\n",
    "\n",
    "`nested()`\n",
    "\n",
    "`>>> func()`\n",
    "\n",
    "`>>> X`\n",
    "### **Ans:**\n",
    "The above code will print NI followed by iNeuron, this is because the global varaible X is unchanged and the method nested has access to the X declared in its enclosing function func."
   ]
  },
  {
   "cell_type": "code",
   "execution_count": 7,
   "id": "e33fa3ac",
   "metadata": {},
   "outputs": [
    {
     "name": "stdout",
     "output_type": "stream",
     "text": [
      "NI\n"
     ]
    },
    {
     "data": {
      "text/plain": [
       "'iNeuron'"
      ]
     },
     "execution_count": 7,
     "metadata": {},
     "output_type": "execute_result"
    }
   ],
   "source": [
    "X = 'iNeuron'\n",
    "def func():\n",
    "    X = 'NI'\n",
    "    def nested():\n",
    "        print(X)\n",
    "    nested()\n",
    "func()\n",
    "X"
   ]
  },
  {
   "cell_type": "markdown",
   "id": "7568f22f",
   "metadata": {},
   "source": [
    "---\n",
    "---"
   ]
  },
  {
   "cell_type": "markdown",
   "id": "216a7bba",
   "metadata": {},
   "source": [
    "### **6. How about this code: what is its output in Python 3, and explain?**\n",
    "`>>> def func():`\n",
    "    \n",
    "`X = 'NI'`\n",
    "\n",
    "`def nested():`\n",
    "    \n",
    "`nonlocal X`\n",
    "\n",
    "`X = 'Spam'`\n",
    "\n",
    "`nested()`\n",
    "\n",
    "`print(X)`\n",
    "\n",
    "`>>> func()`\n",
    "### **Ans:**\n",
    "The above code will print Spam to the console, as they keyword nonlocal helps the function nested() to access the variable X from the function func"
   ]
  },
  {
   "cell_type": "code",
   "execution_count": 9,
   "id": "151e3b2b",
   "metadata": {},
   "outputs": [
    {
     "name": "stdout",
     "output_type": "stream",
     "text": [
      "Spam\n"
     ]
    }
   ],
   "source": [
    "\n",
    "def func():\n",
    "    X = 'NI'\n",
    "    def nested():\n",
    "        nonlocal X\n",
    "        X = 'Spam'\n",
    "    nested()\n",
    "    print(X)\n",
    "func()"
   ]
  },
  {
   "cell_type": "markdown",
   "id": "64c273b1",
   "metadata": {},
   "source": [
    "---\n",
    "---"
   ]
  }
 ],
 "metadata": {
  "kernelspec": {
   "display_name": "Python 3 (ipykernel)",
   "language": "python",
   "name": "python3"
  },
  "language_info": {
   "codemirror_mode": {
    "name": "ipython",
    "version": 3
   },
   "file_extension": ".py",
   "mimetype": "text/x-python",
   "name": "python",
   "nbconvert_exporter": "python",
   "pygments_lexer": "ipython3",
   "version": "3.11.3"
  }
 },
 "nbformat": 4,
 "nbformat_minor": 5
}
