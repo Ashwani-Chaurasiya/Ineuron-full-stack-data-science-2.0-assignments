{
 "cells": [
  {
   "cell_type": "markdown",
   "metadata": {},
   "source": [
    "# **Assignment 8**"
   ]
  },
  {
   "cell_type": "markdown",
   "metadata": {},
   "source": [
    "### **1. Is the Python Standard Library included with PyInputPlus?**\n",
    "### **Ans:**\n",
    "\n",
    "No, `PyInputPlus` is not included in the Python Standard Library. It is a third-party module that can be installed separately using Pip.\n",
    "- `pip install PyInputPlus`"
   ]
  },
  {
   "cell_type": "markdown",
   "metadata": {},
   "source": [
    "---\n",
    "---"
   ]
  },
  {
   "cell_type": "markdown",
   "metadata": {},
   "source": [
    "### **2. Why is PyInputPlus commonly imported with import pyinputplus as pypi?**\n",
    "### **Ans:**\n",
    "The line `import pyinputplus as pypi` is a common convention used to import the `pyinputplus` library with a shorter alias `(pypi)`. This is done to make the code shorter and easier to read when using the library's functions and classes throughout the codebase."
   ]
  },
  {
   "cell_type": "markdown",
   "metadata": {},
   "source": [
    "---\n",
    "---"
   ]
  },
  {
   "cell_type": "markdown",
   "metadata": {},
   "source": [
    "### **3. How do you distinguish between inputInt() and inputFloat()?**\n",
    "### **Ans:**\n",
    "- `inputInt()` : Accepts an integer value, and returns int value\n",
    "\n",
    "- `inputFloat()` : Accepts integer/floating point value and returns float value\n",
    "\n",
    "- Both takes additional parameters ‘min’, ‘max’, ‘greaterThan’ and ‘lessThan’ for bounds"
   ]
  },
  {
   "cell_type": "markdown",
   "metadata": {},
   "source": [
    "---\n",
    "---"
   ]
  },
  {
   "cell_type": "markdown",
   "metadata": {},
   "source": [
    "### **4. Using PyInputPlus, how do you ensure that the user enters a whole number between 0 and 99?**\n",
    "### **Ans:**\n",
    "In the `inputint` function we can set the min = 0 and max =99 to ensure user enters number between 0 and 99\n",
    "\n",
    "- `import pyinputplus as pyip\n",
    "wholenumber = pyip.inputInt(prompt='Enter a number: ', min=0, max=100)\n",
    "print(wholenumber)`"
   ]
  },
  {
   "cell_type": "markdown",
   "metadata": {},
   "source": [
    "---\n",
    "---"
   ]
  },
  {
   "cell_type": "markdown",
   "metadata": {},
   "source": [
    "### **5. What is transferred to the keyword arguments allowRegexes and blockRegexes?**\n",
    "### **Ans:**\n",
    "The `allowRegexes` and `blockRegexes` arguments are a powerful way to validate user input in Python. They can be used to ensure that the user's input matches a specific format or to block certain types of input."
   ]
  },
  {
   "cell_type": "markdown",
   "metadata": {},
   "source": [
    "---\n",
    "---"
   ]
  },
  {
   "cell_type": "markdown",
   "metadata": {},
   "source": [
    "### **6. If a blank input is entered three times, what does inputStr(limit=3) do?**\n",
    "### **Ans:**\n",
    "The `inputStr(limit = 3)` will throw `RetryLimitException` exception. This is because the `limit` parameter is set to 3, which means the user has up to 3 attempts to provide valid input."
   ]
  },
  {
   "cell_type": "markdown",
   "metadata": {},
   "source": [
    "---\n",
    "---"
   ]
  },
  {
   "cell_type": "markdown",
   "metadata": {},
   "source": [
    "### **7. If blank input is entered three times, what does inputStr(limit=3, default='hello') do?**\n",
    "### **Ans:**\n",
    "\n",
    "If blank input is entered three times, the `inputStr(limit=3, default='hello')` function in the PyInputPlus module will return the value `'hello'`"
   ]
  },
  {
   "cell_type": "code",
   "execution_count": 9,
   "metadata": {},
   "outputs": [
    {
     "name": "stdout",
     "output_type": "stream",
     "text": [
      "Enter something: Blank values are not allowed.\n",
      "Enter something: Blank values are not allowed.\n",
      "Enter something: Blank values are not allowed.\n",
      "hello\n"
     ]
    }
   ],
   "source": [
    "import pyinputplus as pyip\n",
    "\n",
    "result = pyip.inputStr(prompt=\"Enter something: \", limit=3, default='hello')\n",
    "print(result)"
   ]
  },
  {
   "cell_type": "markdown",
   "metadata": {},
   "source": [
    "---\n",
    "---"
   ]
  }
 ],
 "metadata": {
  "kernelspec": {
   "display_name": "Python 3",
   "language": "python",
   "name": "python3"
  },
  "language_info": {
   "codemirror_mode": {
    "name": "ipython",
    "version": 3
   },
   "file_extension": ".py",
   "mimetype": "text/x-python",
   "name": "python",
   "nbconvert_exporter": "python",
   "pygments_lexer": "ipython3",
   "version": "3.11.4"
  },
  "orig_nbformat": 4
 },
 "nbformat": 4,
 "nbformat_minor": 2
}
