{
 "cells": [
  {
   "cell_type": "markdown",
   "id": "3a4899ec",
   "metadata": {},
   "source": [
    "# **Assignment 24**"
   ]
  },
  {
   "cell_type": "markdown",
   "id": "bdd678c2",
   "metadata": {},
   "source": [
    "### **1. What is the relationship between def statements and lambda expressions ?**\n",
    "**Ans:** Both `def` statements and `lambda` expressions are used to define functions in programming, but they differ in syntax and usage. `def` statements create named functions with multiple statements, while `lambda` expressions create anonymous functions for concise, one-line operations, often used as arguments in functional programming contexts."
   ]
  },
  {
   "cell_type": "markdown",
   "id": "a744a672",
   "metadata": {},
   "source": [
    "---\n",
    "---"
   ]
  },
  {
   "cell_type": "markdown",
   "id": "9df9d6f1",
   "metadata": {},
   "source": [
    "### **2. What is the benefit of lambda?**\n",
    "**Ans:** The benefit of lambda expressions is their ability to create concise, inline anonymous functions for short, simple operations, particularly in functional programming scenarios and when passing functions as arguments to other functions."
   ]
  },
  {
   "cell_type": "markdown",
   "id": "d390f223",
   "metadata": {},
   "source": [
    "---\n",
    "---"
   ]
  },
  {
   "cell_type": "markdown",
   "id": "2bc7312a",
   "metadata": {},
   "source": [
    "### **3. Compare and contrast map, filter, and reduce.**\n",
    "**Ans:** \n",
    "- `Map`: map applies a given function to each item in an iterable and returns an iterator of the results. It transforms each element and returns a new iterable of the same length.\n",
    "\n",
    "- `Filter`: filter applies a given function to each item in an iterable and returns an iterator containing only the items for which the function returns True. It selectively keeps elements based on the given condition.\n",
    "\n",
    "- `Reduce`: reduce (in Python, from the functools module) takes a binary function and an iterable. It successively applies the function to the elements, reducing the iterable to a single value by combining elements in a cumulative manner.\n",
    "\n",
    "These functions are all used in functional programming to process and transform data, but they serve different purposes: `map` transforms all elements, `filter` selects elements based on a condition, and `reduce` aggregates elements into a single value."
   ]
  },
  {
   "cell_type": "markdown",
   "id": "e93adfc8",
   "metadata": {},
   "source": [
    "---\n",
    "---"
   ]
  },
  {
   "cell_type": "markdown",
   "id": "9bdfae85",
   "metadata": {},
   "source": [
    "### **4. What are function annotations, and how are they used?**\n",
    "**Ans:** Function annotations provide a way of associating various parts of a function with arbitrary pythoncexpressions at compile time.\n",
    "Annotations of simple parameters `def func(x: expression, y: expression = 20):`\n",
    "Whereas the annotations for excess parameters are as − `def func (**args: expression, **kwargs: expression):`"
   ]
  },
  {
   "cell_type": "markdown",
   "id": "8814ae44",
   "metadata": {},
   "source": [
    "---\n",
    "---"
   ]
  },
  {
   "cell_type": "markdown",
   "id": "70337f67",
   "metadata": {},
   "source": [
    "### **5. What are recursive functions, and how are they used?**\n",
    "**Ans:** : A recursive function is a function that calls itself during its execution. The process may repeat several times, outputting the result and the end of each iteration."
   ]
  },
  {
   "cell_type": "code",
   "execution_count": 1,
   "id": "2f0193eb",
   "metadata": {},
   "outputs": [
    {
     "data": {
      "text/plain": [
       "6"
      ]
     },
     "execution_count": 1,
     "metadata": {},
     "output_type": "execute_result"
    }
   ],
   "source": [
    "# example\n",
    "def fact(x):\n",
    "    if x == 1 :\n",
    "        return 1\n",
    "    else :\n",
    "        return x * fact(x-1) # recursion\n",
    "\n",
    "fact(3)"
   ]
  },
  {
   "cell_type": "markdown",
   "id": "a827e012",
   "metadata": {},
   "source": [
    "---\n",
    "---"
   ]
  },
  {
   "cell_type": "markdown",
   "id": "241e9872",
   "metadata": {},
   "source": [
    "### **6. What are some general design guidelines for coding functions?**\n",
    "**Ans:** Some of the general design guidelines for coding functions are:\n",
    "1. Use 4-space indentation and no tabs.\n",
    "2. Use docstrings\n",
    "3. Wrap linethat they don’t exceed 79 characters\n",
    "4. Use of regular and updated comments are valuable to both the coders and users\n",
    "5. Use of trailing commas : in case of tuple -> ('good',)\n",
    "6. Use Python’s default UTF-8 or ASCII encodings and not any fancy encodings\n",
    "7. Naming Conventions 8.Characters that should not be used for identifiers: ‘l’ (lowercase letter el), ‘O’ (uppercase letter oh), ‘I’ (uppercase letter eye) as single character variable names as these are similar to the numerals one and zero.\n",
    "8. Don’t use non-ASCII characters in identifiers\n",
    "9. Name your classes and functions consistently\n",
    "10. While naming of function of methods always use self for the first argument."
   ]
  },
  {
   "cell_type": "markdown",
   "id": "8beafe78",
   "metadata": {},
   "source": [
    "---\n",
    "---"
   ]
  },
  {
   "cell_type": "markdown",
   "id": "8db35912",
   "metadata": {},
   "source": [
    "### **7. Name three or more ways that functions can communicate results to a caller.**\n",
    "**Ans:** Some of the ways in which a function can communicate with the calling function are:\n",
    "\n",
    "1. print\n",
    "2. return\n",
    "3. yield"
   ]
  },
  {
   "cell_type": "markdown",
   "id": "8ffad097",
   "metadata": {},
   "source": [
    "---\n",
    "---"
   ]
  }
 ],
 "metadata": {
  "kernelspec": {
   "display_name": "Python 3 (ipykernel)",
   "language": "python",
   "name": "python3"
  },
  "language_info": {
   "codemirror_mode": {
    "name": "ipython",
    "version": 3
   },
   "file_extension": ".py",
   "mimetype": "text/x-python",
   "name": "python",
   "nbconvert_exporter": "python",
   "pygments_lexer": "ipython3",
   "version": "3.11.3"
  }
 },
 "nbformat": 4,
 "nbformat_minor": 5
}
