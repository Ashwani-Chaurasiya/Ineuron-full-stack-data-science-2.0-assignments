{
 "cells": [
  {
   "cell_type": "markdown",
   "id": "b9c5048a",
   "metadata": {},
   "source": [
    "# **Assignment 18**"
   ]
  },
  {
   "cell_type": "markdown",
   "id": "af9bd7b3",
   "metadata": {},
   "source": [
    "### **1. Create a zoo.py file first. Define the hours() function, which prints the string 'Open 9-5 daily'. Then, use the interactive interpreter to import the zoo module and call its hours() function**\n",
    "### **Ans:**"
   ]
  },
  {
   "cell_type": "code",
   "execution_count": 2,
   "id": "3a89f621",
   "metadata": {},
   "outputs": [
    {
     "name": "stdout",
     "output_type": "stream",
     "text": [
      "Open 9-5 daily\n"
     ]
    }
   ],
   "source": [
    "import zoo\n",
    "zoo.hours()"
   ]
  },
  {
   "cell_type": "markdown",
   "id": "137387c3",
   "metadata": {},
   "source": [
    "---\n",
    "---"
   ]
  },
  {
   "cell_type": "markdown",
   "id": "bb353b8f",
   "metadata": {},
   "source": [
    "### **2. In the interactive interpreter, import the zoo module as menagerie and call its hours() function.**\n",
    "### **Ans:**"
   ]
  },
  {
   "cell_type": "code",
   "execution_count": 3,
   "id": "55632e86",
   "metadata": {},
   "outputs": [
    {
     "name": "stdout",
     "output_type": "stream",
     "text": [
      "Open 9-5 daily\n"
     ]
    }
   ],
   "source": [
    "import zoo as menagerie\n",
    "menagerie.hours()"
   ]
  },
  {
   "cell_type": "markdown",
   "id": "fa5aa16b",
   "metadata": {},
   "source": [
    "---"
   ]
  },
  {
   "cell_type": "markdown",
   "id": "b7161224",
   "metadata": {},
   "source": [
    "### **3. Using the interpreter, explicitly import and call the hours() function from zoo.**\n",
    "### **Ans:**"
   ]
  },
  {
   "cell_type": "code",
   "execution_count": 4,
   "id": "1e8d924e",
   "metadata": {},
   "outputs": [
    {
     "name": "stdout",
     "output_type": "stream",
     "text": [
      "Open 9-5 daily\n"
     ]
    }
   ],
   "source": [
    "zoo.hours()"
   ]
  },
  {
   "cell_type": "markdown",
   "id": "42bf9382",
   "metadata": {},
   "source": [
    "---\n",
    "---"
   ]
  },
  {
   "cell_type": "markdown",
   "id": "2d4e6b02",
   "metadata": {},
   "source": [
    "### **4. Import the hours() function as info and call it.**\n",
    "### **Ans:**"
   ]
  },
  {
   "cell_type": "code",
   "execution_count": 6,
   "id": "0c1ea709",
   "metadata": {},
   "outputs": [
    {
     "name": "stdout",
     "output_type": "stream",
     "text": [
      "Open 9-5 daily\n"
     ]
    }
   ],
   "source": [
    "from zoo import hours as info\n",
    "info()"
   ]
  },
  {
   "cell_type": "markdown",
   "id": "1ecd875e",
   "metadata": {},
   "source": [
    "---\n",
    "---"
   ]
  },
  {
   "cell_type": "markdown",
   "id": "8d4b0944",
   "metadata": {},
   "source": [
    "### **5. Create a plain dictionary with the key-value pairs 'a': 1, 'b': 2, and 'c': 3, and print it out.**\n",
    "### **Ans:**"
   ]
  },
  {
   "cell_type": "code",
   "execution_count": 8,
   "id": "09bc16a0",
   "metadata": {},
   "outputs": [
    {
     "name": "stdout",
     "output_type": "stream",
     "text": [
      "{'a': 1, 'b': 2, 'c': 3}\n"
     ]
    }
   ],
   "source": [
    "my_dict = {'a':1, 'b':2, 'c':3}\n",
    "print(my_dict)"
   ]
  },
  {
   "cell_type": "markdown",
   "id": "7ae735d5",
   "metadata": {},
   "source": [
    "---\n",
    "---"
   ]
  },
  {
   "cell_type": "markdown",
   "id": "6252dd99",
   "metadata": {},
   "source": [
    "### **6.Make an OrderedDict called fancy from the same pairs listed in 5 and print it. Did it print in the same order as plain?**\n",
    "### **Ans:**"
   ]
  },
  {
   "cell_type": "code",
   "execution_count": 11,
   "id": "18676ec3",
   "metadata": {},
   "outputs": [
    {
     "name": "stdout",
     "output_type": "stream",
     "text": [
      "plain_dict -> {'a': 1, 'b': 2, 'c': 3}\n",
      "fancy -> OrderedDict([('a', 1), ('b', 2), ('c', 3)])\n"
     ]
    }
   ],
   "source": [
    "from collections import OrderedDict\n",
    "fancy = OrderedDict(my_dict)\n",
    "print(f'plain_dict -> {my_dict}')\n",
    "print(f'fancy -> {fancy}')"
   ]
  },
  {
   "cell_type": "markdown",
   "id": "c17752e8",
   "metadata": {},
   "source": [
    "---\n",
    "---"
   ]
  },
  {
   "cell_type": "markdown",
   "id": "7ff72262",
   "metadata": {},
   "source": [
    "### **7. Make a default dictionary called dict_of_lists and pass it the argument list. Make the list dict_of_lists['a'] and append the value 'something for a' to it in one assignment. Print dict_of_lists['a'].**\n",
    "### **Ans:**"
   ]
  },
  {
   "cell_type": "code",
   "execution_count": 12,
   "id": "b8224883",
   "metadata": {},
   "outputs": [
    {
     "data": {
      "text/plain": [
       "defaultdict(list, {'a': ['something for a']})"
      ]
     },
     "execution_count": 12,
     "metadata": {},
     "output_type": "execute_result"
    }
   ],
   "source": [
    "from collections import defaultdict\n",
    "dict_of_lists = defaultdict(list)\n",
    "dict_of_lists['a'].append('something for a')\n",
    "dict_of_lists"
   ]
  },
  {
   "cell_type": "markdown",
   "id": "dd80b37e",
   "metadata": {},
   "source": [
    "---\n",
    "---"
   ]
  }
 ],
 "metadata": {
  "kernelspec": {
   "display_name": "Python 3 (ipykernel)",
   "language": "python",
   "name": "python3"
  },
  "language_info": {
   "codemirror_mode": {
    "name": "ipython",
    "version": 3
   },
   "file_extension": ".py",
   "mimetype": "text/x-python",
   "name": "python",
   "nbconvert_exporter": "python",
   "pygments_lexer": "ipython3",
   "version": "3.11.3"
  }
 },
 "nbformat": 4,
 "nbformat_minor": 5
}
