{
 "cells": [
  {
   "cell_type": "markdown",
   "metadata": {},
   "source": [
    "# **Assignment 11**"
   ]
  },
  {
   "cell_type": "markdown",
   "metadata": {},
   "source": [
    "### **1. Create an assert statement that throws an AssertionError if the variable spam is a negative integer.**"
   ]
  },
  {
   "cell_type": "code",
   "execution_count": 1,
   "metadata": {},
   "outputs": [
    {
     "ename": "AssertionError",
     "evalue": "Variable 'spam' cannot be a negative integer",
     "output_type": "error",
     "traceback": [
      "\u001b[1;31m---------------------------------------------------------------------------\u001b[0m",
      "\u001b[1;31mAssertionError\u001b[0m                            Traceback (most recent call last)",
      "Cell \u001b[1;32mIn[1], line 3\u001b[0m\n\u001b[0;32m      1\u001b[0m spam \u001b[39m=\u001b[39m \u001b[39m-\u001b[39m\u001b[39m5\u001b[39m  \u001b[39m# Replace this with the value of your variable\u001b[39;00m\n\u001b[1;32m----> 3\u001b[0m \u001b[39massert\u001b[39;00m spam \u001b[39m>\u001b[39m\u001b[39m=\u001b[39m \u001b[39m0\u001b[39m, \u001b[39m\"\u001b[39m\u001b[39mVariable \u001b[39m\u001b[39m'\u001b[39m\u001b[39mspam\u001b[39m\u001b[39m'\u001b[39m\u001b[39m cannot be a negative integer\u001b[39m\u001b[39m\"\u001b[39m\n",
      "\u001b[1;31mAssertionError\u001b[0m: Variable 'spam' cannot be a negative integer"
     ]
    }
   ],
   "source": [
    "spam = -5  # Replace this with the value of your variable\n",
    "\n",
    "assert spam >= 0, \"Variable 'spam' cannot be a negative integer\""
   ]
  },
  {
   "cell_type": "markdown",
   "metadata": {},
   "source": [
    "---\n",
    "---"
   ]
  },
  {
   "cell_type": "markdown",
   "metadata": {},
   "source": [
    "### **2. Write an assert statement that triggers an AssertionError if the variables eggs and bacon contain strings that are the same as each other, even if their cases are different (that is, 'hello' and 'hello' are considered the same, and 'goodbye' and 'GOODbye' are also considered the same).**\n",
    "### **Ans:**"
   ]
  },
  {
   "cell_type": "code",
   "execution_count": 2,
   "metadata": {},
   "outputs": [
    {
     "ename": "AssertionError",
     "evalue": "Variables 'eggs' and 'bacon' cannot be the same, ignoring case",
     "output_type": "error",
     "traceback": [
      "\u001b[1;31m---------------------------------------------------------------------------\u001b[0m",
      "\u001b[1;31mAssertionError\u001b[0m                            Traceback (most recent call last)",
      "Cell \u001b[1;32mIn[2], line 4\u001b[0m\n\u001b[0;32m      1\u001b[0m eggs \u001b[39m=\u001b[39m \u001b[39m\"\u001b[39m\u001b[39mHello\u001b[39m\u001b[39m\"\u001b[39m  \u001b[39m# Replace this with the value of your 'eggs' variable\u001b[39;00m\n\u001b[0;32m      2\u001b[0m bacon \u001b[39m=\u001b[39m \u001b[39m\"\u001b[39m\u001b[39mhello\u001b[39m\u001b[39m\"\u001b[39m  \u001b[39m# Replace this with the value of your 'bacon' variable\u001b[39;00m\n\u001b[1;32m----> 4\u001b[0m \u001b[39massert\u001b[39;00m eggs\u001b[39m.\u001b[39mlower() \u001b[39m!=\u001b[39m bacon\u001b[39m.\u001b[39mlower(), \u001b[39m\"\u001b[39m\u001b[39mVariables \u001b[39m\u001b[39m'\u001b[39m\u001b[39meggs\u001b[39m\u001b[39m'\u001b[39m\u001b[39m and \u001b[39m\u001b[39m'\u001b[39m\u001b[39mbacon\u001b[39m\u001b[39m'\u001b[39m\u001b[39m cannot be the same, ignoring case\u001b[39m\u001b[39m\"\u001b[39m\n",
      "\u001b[1;31mAssertionError\u001b[0m: Variables 'eggs' and 'bacon' cannot be the same, ignoring case"
     ]
    }
   ],
   "source": [
    "eggs = \"Hello\"  # Replace this with the value of your 'eggs' variable\n",
    "bacon = \"hello\"  # Replace this with the value of your 'bacon' variable\n",
    "\n",
    "assert eggs.lower() != bacon.lower(), \"Variables 'eggs' and 'bacon' cannot be the same, ignoring case\""
   ]
  },
  {
   "cell_type": "markdown",
   "metadata": {},
   "source": [
    "---\n",
    "---"
   ]
  },
  {
   "cell_type": "markdown",
   "metadata": {},
   "source": [
    "### **3. Create an assert statement that throws an AssertionError every time.**\n",
    "### **Ans:**"
   ]
  },
  {
   "cell_type": "code",
   "execution_count": 3,
   "metadata": {},
   "outputs": [
    {
     "ename": "AssertionError",
     "evalue": "This assertion always triggers an AssertionError",
     "output_type": "error",
     "traceback": [
      "\u001b[1;31m---------------------------------------------------------------------------\u001b[0m",
      "\u001b[1;31mAssertionError\u001b[0m                            Traceback (most recent call last)",
      "Cell \u001b[1;32mIn[3], line 1\u001b[0m\n\u001b[1;32m----> 1\u001b[0m \u001b[39massert\u001b[39;00m \u001b[39mFalse\u001b[39;00m, \u001b[39m\"\u001b[39m\u001b[39mThis assertion always triggers an AssertionError\u001b[39m\u001b[39m\"\u001b[39m\n",
      "\u001b[1;31mAssertionError\u001b[0m: This assertion always triggers an AssertionError"
     ]
    }
   ],
   "source": [
    "assert False, \"This assertion always triggers an AssertionError\""
   ]
  },
  {
   "cell_type": "markdown",
   "metadata": {},
   "source": [
    "---\n",
    "---"
   ]
  },
  {
   "cell_type": "markdown",
   "metadata": {},
   "source": [
    "### **4. What are the two lines that must be present in your software in order to call logging.debug()?**\n",
    "### **Ans:**"
   ]
  },
  {
   "cell_type": "code",
   "execution_count": null,
   "metadata": {},
   "outputs": [],
   "source": [
    "import logging\n",
    "logging.basicConfig(level=logging.DEBUG)"
   ]
  },
  {
   "cell_type": "markdown",
   "metadata": {},
   "source": [
    "---\n",
    "---"
   ]
  },
  {
   "cell_type": "markdown",
   "metadata": {},
   "source": [
    "### **5.What are the two lines that your program must have in order to have logging.debug() send a logging message to a file named programLog.txt?**\n",
    "### **Ans:**"
   ]
  },
  {
   "cell_type": "code",
   "execution_count": 4,
   "metadata": {},
   "outputs": [],
   "source": [
    "import logging\n",
    "logging.basicConfig(filename='programLog.txt', level=logging.DEBUG)\n",
    "\n",
    "logging.debug(\"This is a debug message\")"
   ]
  },
  {
   "cell_type": "markdown",
   "metadata": {},
   "source": [
    "---\n",
    "---"
   ]
  },
  {
   "cell_type": "markdown",
   "metadata": {},
   "source": [
    "### **6. What are the five levels of logging?**\n",
    "### **Ans:**The five levels of logging provided by Python logging module are:\n",
    "> logging.error()\n",
    "\n",
    "> logging.warning()\n",
    "\n",
    "> logging.info()\n",
    "\n",
    "> logging.critical()\n",
    "\n",
    "> logging.debug()\n"
   ]
  },
  {
   "cell_type": "markdown",
   "metadata": {},
   "source": [
    "---\n",
    "---"
   ]
  },
  {
   "cell_type": "markdown",
   "metadata": {},
   "source": [
    "### **7. What line of code would you add to your software to disable all logging messages?**\n",
    "### **Ans:**"
   ]
  },
  {
   "cell_type": "code",
   "execution_count": 5,
   "metadata": {},
   "outputs": [],
   "source": [
    "logging.disable = True"
   ]
  },
  {
   "cell_type": "markdown",
   "metadata": {},
   "source": [
    "---\n",
    "---"
   ]
  },
  {
   "cell_type": "markdown",
   "metadata": {},
   "source": [
    "### **8.Why is using logging messages better than using print() to display the same message?**\n",
    "### **Ans:**\n",
    "Logging message are very useful for further development we can see when logging call is being made and we can differentiate logging based on severity. We can disable logging post development while we have to manually remove print() statement."
   ]
  },
  {
   "cell_type": "markdown",
   "metadata": {},
   "source": [
    "---\n",
    "---"
   ]
  },
  {
   "cell_type": "markdown",
   "metadata": {},
   "source": [
    "### **9.What are the differences between the Step Over, Step In, and Step Out buttons in the debugger?**\n",
    "### **Ans:**\n",
    "- `Step in` - Step in button will cause the debugger to execute the next line of code and then pause again.\n",
    "- `step over` - Step over button will execute the next line of the code.\n",
    "- `step out` - step out button will cause the debugger to execute lines of code at full speed until it returns from the current funcion."
   ]
  },
  {
   "cell_type": "markdown",
   "metadata": {},
   "source": [
    "---\n",
    "---"
   ]
  },
  {
   "cell_type": "markdown",
   "metadata": {},
   "source": [
    "### **10.After you click Continue, when will the debugger stop ?**\n",
    "### **Ans:** The debugger will stop when it reach the end of the program or a breakpoint."
   ]
  },
  {
   "cell_type": "markdown",
   "metadata": {},
   "source": [
    "---\n",
    "---"
   ]
  },
  {
   "cell_type": "markdown",
   "metadata": {},
   "source": [
    "### **11.What is the concept of a breakpoint?**\n",
    "### **Ans:** An intentional breaking point or pause inplemented for debugging."
   ]
  },
  {
   "cell_type": "markdown",
   "metadata": {},
   "source": [
    "---\n",
    "---"
   ]
  }
 ],
 "metadata": {
  "kernelspec": {
   "display_name": "Python 3",
   "language": "python",
   "name": "python3"
  },
  "language_info": {
   "codemirror_mode": {
    "name": "ipython",
    "version": 3
   },
   "file_extension": ".py",
   "mimetype": "text/x-python",
   "name": "python",
   "nbconvert_exporter": "python",
   "pygments_lexer": "ipython3",
   "version": "3.11.4"
  },
  "orig_nbformat": 4
 },
 "nbformat": 4,
 "nbformat_minor": 2
}
