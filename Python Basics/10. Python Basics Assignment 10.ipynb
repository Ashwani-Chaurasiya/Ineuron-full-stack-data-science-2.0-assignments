{
 "cells": [
  {
   "cell_type": "markdown",
   "metadata": {},
   "source": [
    "# **Assignment 10**"
   ]
  },
  {
   "cell_type": "markdown",
   "metadata": {},
   "source": [
    "### **1. How do you distinguish between shutil.copy() and shutil.copytree()?**\n",
    "### **Ans:**\n",
    "- `shutil.copy(src, dst)`: This function is used to copy a single file from the source (`src`) to the destination (`dst`).\n",
    "- `shutil.copytree(src, dst)`: this function is used to copy an entire directory tree form the source (`src`) to the destination (`dst`). "
   ]
  },
  {
   "cell_type": "markdown",
   "metadata": {},
   "source": [
    "---\n",
    "---"
   ]
  },
  {
   "cell_type": "markdown",
   "metadata": {},
   "source": [
    "### **2. What function is used to rename files??**\n",
    "### **Ans:**\n",
    "`os.rename()` function is used to rename files or directories using a python program."
   ]
  },
  {
   "cell_type": "markdown",
   "metadata": {},
   "source": [
    "---\n",
    "---"
   ]
  },
  {
   "cell_type": "markdown",
   "metadata": {},
   "source": [
    "### **3. What is the difference between the delete functions in the send2trash and shutil modules?**\n",
    "### **Ans:**\n",
    "- `send2trash` function is used to move a file or folder to the recycle bin.\n",
    "- `shutil` function is used to permanently delete file or folder."
   ]
  },
  {
   "cell_type": "markdown",
   "metadata": {},
   "source": [
    "---\n",
    "---"
   ]
  },
  {
   "cell_type": "markdown",
   "metadata": {},
   "source": [
    "### **4. ZipFile objects have a close() method just like File objects’ close() method. What ZipFile method is equivalent to File objects’ open() method?**\n",
    "### **Ans:**\n",
    "`zipfile.zipfile()` method used to read and write to zipfiles, it takes arguments filename and mode."
   ]
  },
  {
   "cell_type": "markdown",
   "metadata": {},
   "source": [
    "---\n",
    "---"
   ]
  },
  {
   "cell_type": "markdown",
   "metadata": {},
   "source": [
    "### **5. Create a programme that searches a folder tree for files with a certain file extension (such as .pdf or .jpg). Copy these files from whatever location they are in to a new folder.**\n",
    "### **Ans:**\n"
   ]
  },
  {
   "cell_type": "code",
   "execution_count": 1,
   "metadata": {},
   "outputs": [],
   "source": [
    "import os\n",
    "import shutil\n",
    "\n",
    "def copy_files_by_extension(source_folder, destination_folder, file_extension):\n",
    "    if not os.path.exists(destination_folder):\n",
    "        os.makedirs(destination_folder)\n",
    "\n",
    "    for root, _, files in os.walk(source_folder):\n",
    "        for file in files:\n",
    "            if file.lower().endswith(file_extension.lower()):\n",
    "                source_path = os.path.join(root, file)\n",
    "                destination_path = os.path.join(destination_folder, file)\n",
    "                shutil.copy2(source_path, destination_path)\n",
    "                print(f\"Copied: {source_path} to {destination_path}\")\n",
    "\n",
    "source_folder = '/path/to/source/folder'  # Change this to the source folder path\n",
    "destination_folder = '/path/to/destination/folder'  # Change this to the destination folder path\n",
    "file_extension = '.pdf'  # Change this to the desired file extension (e.g., '.pdf' or '.jpg')\n",
    "\n",
    "copy_files_by_extension(source_folder, destination_folder, file_extension)"
   ]
  },
  {
   "cell_type": "code",
   "execution_count": 3,
   "metadata": {},
   "outputs": [
    {
     "name": "stdout",
     "output_type": "stream",
     "text": [
      "Files have been successfully copied from C:\\Users\\ashwa\\OneDrive\\Documents\\Great Learning to C:\\Users\\ashwa\\OneDrive\\Documents\n"
     ]
    }
   ],
   "source": [
    "def copyFile(src,dst,ext):\n",
    "    try:\n",
    "        import os,shutil\n",
    "        for file in os.listdir(src):\n",
    "            if file.endswith(ext):\n",
    "                shutil.copy(os.path.join(src,file),dst)\n",
    "        print(f'Files have been successfully copied from {src} to {dst}')\n",
    "    except Exception as e:\n",
    "        print(e)\n",
    "\n",
    "copyFile(r'C:\\Users\\ashwa\\OneDrive\\Documents\\Great Learning', r'C:\\Users\\ashwa\\OneDrive\\Documents', '.pdf')"
   ]
  },
  {
   "cell_type": "markdown",
   "metadata": {},
   "source": [
    "---\n",
    "---"
   ]
  }
 ],
 "metadata": {
  "kernelspec": {
   "display_name": "Python 3",
   "language": "python",
   "name": "python3"
  },
  "language_info": {
   "codemirror_mode": {
    "name": "ipython",
    "version": 3
   },
   "file_extension": ".py",
   "mimetype": "text/x-python",
   "name": "python",
   "nbconvert_exporter": "python",
   "pygments_lexer": "ipython3",
   "version": "3.11.4"
  },
  "orig_nbformat": 4
 },
 "nbformat": 4,
 "nbformat_minor": 2
}
