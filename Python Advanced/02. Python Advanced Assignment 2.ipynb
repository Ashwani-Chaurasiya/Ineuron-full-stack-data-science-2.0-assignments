{
 "cells": [
  {
   "cell_type": "markdown",
   "metadata": {},
   "source": [
    "# **Assignment 2**"
   ]
  },
  {
   "cell_type": "markdown",
   "metadata": {},
   "source": [
    "### **1. What is the relationship between classes and modules?**\n",
    "**Ans:** Classes define blueprints for objects, while modules are containers for organizing and grouping related classes (and other code) within separate files for better code management and reuse."
   ]
  },
  {
   "cell_type": "markdown",
   "metadata": {},
   "source": [
    "---\n",
    "---"
   ]
  },
  {
   "cell_type": "markdown",
   "metadata": {},
   "source": [
    "### **Q2. How do you make instances and classes?**\n",
    "**Ans:** To create instances and classes in Python:\n",
    "\n",
    "1. **Instances**:\n",
    "   - Use the class name followed by parentheses to create an instance.\n",
    "   - Provide any required arguments specified in the class's `__init__` method.\n",
    "\n",
    "2. **Classes**:\n",
    "   - Use the `class` keyword followed by the class name to define a class.\n",
    "   - Within the class block, define attributes and methods."
   ]
  },
  {
   "cell_type": "code",
   "execution_count": 3,
   "metadata": {},
   "outputs": [
    {
     "name": "stdout",
     "output_type": "stream",
     "text": [
      "My name is Dog\n"
     ]
    }
   ],
   "source": [
    "class Animal:\n",
    "    def __init__(self, name):\n",
    "        self.name = name\n",
    "\n",
    "    def speak(self):\n",
    "        print(\"My name is\", self.name)\n",
    "\n",
    "animal = Animal(\"Dog\")\n",
    "\n",
    "animal.speak()"
   ]
  },
  {
   "cell_type": "markdown",
   "metadata": {},
   "source": [
    "---\n",
    "---"
   ]
  },
  {
   "cell_type": "markdown",
   "metadata": {},
   "source": [
    "### **Q3. Where and how should be class attributes created?**\n",
    "**Ans:** Class attributes are created within the class definition, outside of any methods, by assigning values to them directly. They are shared by all instances of the class and are accessed using the class name."
   ]
  },
  {
   "cell_type": "code",
   "execution_count": 4,
   "metadata": {},
   "outputs": [
    {
     "name": "stdout",
     "output_type": "stream",
     "text": [
      "This is a class attribute\n"
     ]
    }
   ],
   "source": [
    "class MyClass:\n",
    "    class_attribute = \"This is a class attribute\"\n",
    "    \n",
    "    def __init__(self, instance_attribute):\n",
    "        self.instance_attribute = instance_attribute\n",
    "\n",
    "# Accessing class attribute\n",
    "print(MyClass.class_attribute)  # Output: This is a class attribute"
   ]
  },
  {
   "cell_type": "markdown",
   "metadata": {},
   "source": [
    "---\n",
    "---"
   ]
  },
  {
   "cell_type": "markdown",
   "metadata": {},
   "source": [
    "### **Q4. Where and how are instance attributes created?**\n",
    "**Ans:** Instance attributes are created within the class's `__init__` method by assigning values to them using the `self` parameter. They are unique to each instance and store data specific to that instance. "
   ]
  },
  {
   "cell_type": "markdown",
   "metadata": {},
   "source": [
    "---\n",
    "---"
   ]
  },
  {
   "cell_type": "markdown",
   "metadata": {},
   "source": [
    "### **Q5. What does the term \"self\" in a Python class mean?**\n",
    "**Ans:** The term \"self\" refers to the instance of the class itself. It is a reference to the instance on which a method is being called, allowing access to its attributes and methods."
   ]
  },
  {
   "cell_type": "markdown",
   "metadata": {},
   "source": [
    "---\n",
    "---"
   ]
  },
  {
   "cell_type": "markdown",
   "metadata": {},
   "source": [
    "### **Q6. How does a Python class handle operator overloading?**\n",
    "**Ans:** In Python, operator overloading is handled by defining special methods in a class that correspond to specific operators. These methods are invoked when the corresponding operators are used on instances of the class. For example, to overload the `+` operator:\n",
    "\n",
    "1. Define a `__add__` method in the class.\n",
    "2. When you use the `+` operator on instances of that class, Python will call the `__add__` method."
   ]
  },
  {
   "cell_type": "code",
   "execution_count": 5,
   "metadata": {},
   "outputs": [
    {
     "name": "stdout",
     "output_type": "stream",
     "text": [
      "15\n"
     ]
    }
   ],
   "source": [
    "class MyClass:\n",
    "    def __init__(self, value):\n",
    "        self.value = value\n",
    "        \n",
    "    def __add__(self, other):\n",
    "        return MyClass(self.value + other.value)\n",
    "\n",
    "instance1 = MyClass(5)\n",
    "instance2 = MyClass(10)\n",
    "result_instance = instance1 + instance2  # Calls __add__ method\n",
    "\n",
    "print(result_instance.value)  # Output: 15"
   ]
  },
  {
   "cell_type": "markdown",
   "metadata": {},
   "source": [
    "---\n",
    "---"
   ]
  },
  {
   "cell_type": "markdown",
   "metadata": {},
   "source": [
    "### **Q7. When do you consider allowing operator overloading of your classes?**\n",
    "**Ans:** When we want to have different meaning for the same operator accroding to the context we use operator overloading."
   ]
  },
  {
   "cell_type": "markdown",
   "metadata": {},
   "source": [
    "---\n",
    "---"
   ]
  },
  {
   "cell_type": "markdown",
   "metadata": {},
   "source": [
    "### **Q8. What is the most popular form of operator overloading?**\n",
    "**Ans:** The most popular form of operator overloading in python is by special methods\n",
    "called `Magic methods`. Which usually beign and end with double underscore\n",
    "`__<method name>__`."
   ]
  },
  {
   "cell_type": "markdown",
   "metadata": {},
   "source": [
    "---\n",
    "---"
   ]
  },
  {
   "cell_type": "markdown",
   "metadata": {},
   "source": [
    "### **Q9. What are the two most important concepts to grasp in order to comprehend Python OOP code?**\n",
    "**Ans:** The two most important concepts to grasp for comprehending Python Object-Oriented Programming (OOP) code are:\n",
    "\n",
    "1. **Classes and Objects**: Understand the distinction between classes (blueprints) and objects (instances), how classes define attributes and methods, and how objects are created, manipulated, and used.\n",
    "\n",
    "2. **Inheritance and Polymorphism**: Grasp how classes can inherit attributes and methods from parent classes, creating hierarchies of classes. Also, understand polymorphism, where different classes can be treated as instances of a common base class, allowing code to work with various types of objects in a unified manner.\n"
   ]
  },
  {
   "cell_type": "markdown",
   "metadata": {},
   "source": [
    "---\n",
    "---"
   ]
  }
 ],
 "metadata": {
  "kernelspec": {
   "display_name": "base",
   "language": "python",
   "name": "python3"
  },
  "language_info": {
   "codemirror_mode": {
    "name": "ipython",
    "version": 3
   },
   "file_extension": ".py",
   "mimetype": "text/x-python",
   "name": "python",
   "nbconvert_exporter": "python",
   "pygments_lexer": "ipython3",
   "version": "3.11.3"
  },
  "orig_nbformat": 4
 },
 "nbformat": 4,
 "nbformat_minor": 2
}
