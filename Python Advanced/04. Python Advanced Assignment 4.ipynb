{
 "cells": [
  {
   "cell_type": "markdown",
   "metadata": {},
   "source": [
    "# **Assignment 4**"
   ]
  },
  {
   "cell_type": "markdown",
   "metadata": {},
   "source": [
    "### **QI. Which two operator overloading methods can you use in your classes to support iteration?**\n",
    "**Ans:** To support iteration in classes, we can use the following two operator overloading methods:\n",
    "\n",
    "1. `__iter__`: This method is used to define the iteration behavior when an instance is used in a loop. It should return an iterator object, often implemented by returning `self`.\n",
    "\n",
    "2. `__next__`: This method is used to retrieve the next value from the iterator. It should be defined within the iterator object returned by the `__iter__` method."
   ]
  },
  {
   "cell_type": "markdown",
   "metadata": {},
   "source": [
    "---\n",
    "---"
   ]
  },
  {
   "cell_type": "markdown",
   "metadata": {},
   "source": [
    "### **Q2. In what contexts do the two operator overloading methods manage printing?**\n",
    "**Ans:** The two operator overloading methods `__repr__()` and `__str__()` manage printing in the following contexts:\n",
    "\n",
    "* When an object is printed to the console using the `print()` function.\n",
    "* When an object is used in a string formatting operation, such as `\"{0}\".format(my_object)`.\n",
    "\n",
    "The `__repr__()` method is used to get the \"official\" string representation of an object. This string representation is typically used for debugging and introspection. The `__str__()` method is used to get the \"informal\" string representation of an object. This string representation is typically used for printing to the console or for use in string formatting operations."
   ]
  },
  {
   "cell_type": "code",
   "execution_count": 1,
   "metadata": {},
   "outputs": [
    {
     "name": "stdout",
     "output_type": "stream",
     "text": [
      "The data is [1, 2, 3]\n",
      "The data is The data is [1, 2, 3]\n"
     ]
    }
   ],
   "source": [
    "class MyClass:\n",
    "    def __init__(self, data):\n",
    "        self.data = data\n",
    "\n",
    "    def __repr__(self):\n",
    "        return \"MyClass({0})\".format(self.data)\n",
    "\n",
    "    def __str__(self):\n",
    "        return \"The data is {0}\".format(self.data)\n",
    "\n",
    "my_class = MyClass([1, 2, 3])\n",
    "\n",
    "print(my_class)\n",
    "\n",
    "print(\"The data is {0}\".format(my_class))"
   ]
  },
  {
   "cell_type": "markdown",
   "metadata": {},
   "source": [
    "---\n",
    "---"
   ]
  },
  {
   "cell_type": "markdown",
   "metadata": {},
   "source": [
    "### **Q3. In a class, how do you intercept slice operations?**\n",
    "**Ans:** To intercept slice operations in a class, you can implement the `__getitem__` method and handle the slicing logic within it. The `__getitem__` method allows you to customize the behavior of indexing and slicing operations on instances of your class."
   ]
  },
  {
   "cell_type": "code",
   "execution_count": 3,
   "metadata": {},
   "outputs": [
    {
     "name": "stdout",
     "output_type": "stream",
     "text": [
      "[2, 3]\n"
     ]
    }
   ],
   "source": [
    "class MyClass:\n",
    "    def __init__(self, data):\n",
    "        self.data = data\n",
    "\n",
    "    def __getitem__(self, slice_obj):\n",
    "        start = slice_obj.start\n",
    "        stop = slice_obj.stop\n",
    "        step = slice_obj.step\n",
    "\n",
    "        if step == None:\n",
    "            step = 1\n",
    "\n",
    "        if start is None:\n",
    "            start = 0\n",
    "\n",
    "        if stop is None:\n",
    "            stop = len(self.data)\n",
    "\n",
    "        return self.data[start:stop:step]\n",
    "\n",
    "my_class = MyClass([1, 2, 3, 4, 5])\n",
    "\n",
    "print(my_class[1:3])\n"
   ]
  },
  {
   "cell_type": "markdown",
   "metadata": {},
   "source": [
    "---\n",
    "---"
   ]
  },
  {
   "cell_type": "markdown",
   "metadata": {},
   "source": [
    "### **Q4. In a class, how do you capture in-place addition?**\n",
    "**Ans:** To capture in-place addition (+=) operations in a class, we can implement the `__iadd__` method. This method allows us to define the behavior of the `+=` operator when used on instances of your class. The `__iadd__` method should modify the instance's attributes to reflect the addition."
   ]
  },
  {
   "cell_type": "code",
   "execution_count": 4,
   "metadata": {},
   "outputs": [
    {
     "name": "stdout",
     "output_type": "stream",
     "text": [
      "15\n"
     ]
    }
   ],
   "source": [
    "class MyClass:\n",
    "    def __init__(self, value):\n",
    "        self.value = value\n",
    "\n",
    "    def __iadd__(self, other):\n",
    "        if isinstance(other, MyClass):\n",
    "            self.value += other.value\n",
    "        else:\n",
    "            self.value += other\n",
    "        return self\n",
    "\n",
    "# Creating instances\n",
    "obj1 = MyClass(10)\n",
    "obj2 = MyClass(5)\n",
    "\n",
    "# Using in-place addition\n",
    "obj1 += obj2  # Calls __iadd__ method\n",
    "print(obj1.value)  # Output: 15\n"
   ]
  },
  {
   "cell_type": "markdown",
   "metadata": {},
   "source": [
    "---\n",
    "---"
   ]
  },
  {
   "cell_type": "markdown",
   "metadata": {},
   "source": [
    "### **Q5. When is it appropriate to use operator overloading?**\n",
    "**Ans:** Operator overloading is appropriate when it enhances clarity, aligns with real-world semantics, and improves code readability by allowing instances of a class to work with standard operators in an intuitive and consistent manner."
   ]
  },
  {
   "cell_type": "markdown",
   "metadata": {},
   "source": [
    "---\n",
    "---"
   ]
  }
 ],
 "metadata": {
  "kernelspec": {
   "display_name": "base",
   "language": "python",
   "name": "python3"
  },
  "language_info": {
   "codemirror_mode": {
    "name": "ipython",
    "version": 3
   },
   "file_extension": ".py",
   "mimetype": "text/x-python",
   "name": "python",
   "nbconvert_exporter": "python",
   "pygments_lexer": "ipython3",
   "version": "3.11.3"
  },
  "orig_nbformat": 4
 },
 "nbformat": 4,
 "nbformat_minor": 2
}
