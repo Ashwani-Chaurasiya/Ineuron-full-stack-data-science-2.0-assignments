{
 "cells": [
  {
   "cell_type": "markdown",
   "metadata": {},
   "source": [
    "# **Assignment 3**"
   ]
  },
  {
   "cell_type": "markdown",
   "metadata": {},
   "source": [
    "### **1. What is the concept of an abstract superclass?**\n",
    "**Ans:** An abstract superclass is a class that cannot be instantiated. It is used to define a blueprint for other classes to inherit from. Abstract superclasses can contain abstract methods, which are methods that must be implemented by subclasses."
   ]
  },
  {
   "cell_type": "markdown",
   "metadata": {},
   "source": [
    "---\n",
    "---"
   ]
  },
  {
   "cell_type": "markdown",
   "metadata": {},
   "source": [
    "### **2. What happens when a class statement's top level contains a basic assignment statement?**\n",
    "**Ans:** A basic assignment statement in the top level of a class statement is ignored. This is because the top level of a class statement is reserved for class definitions and other top-level statements, such as import statements and function definitions.\""
   ]
  },
  {
   "cell_type": "code",
   "execution_count": 1,
   "metadata": {},
   "outputs": [],
   "source": [
    "class Animal:\n",
    "    def __init__(self, name):\n",
    "        self.name = name\n",
    "        self.species = \"mammal\"\n",
    "        self.a = 10"
   ]
  },
  {
   "cell_type": "markdown",
   "metadata": {},
   "source": [
    "---\n",
    "---"
   ]
  },
  {
   "cell_type": "markdown",
   "metadata": {},
   "source": [
    "### **3. Why does a class need to manually call a superclass's init method?**\n",
    "**Ans:** A class needs to manually call a superclass's `__init__` method to inherit the superclass's initialization behavior and ensure proper initialization of attributes and behavior in the subclass."
   ]
  },
  {
   "cell_type": "code",
   "execution_count": 2,
   "metadata": {},
   "outputs": [],
   "source": [
    "class Superclass:\n",
    "    def __init__(self, value):\n",
    "        self.value = value\n",
    "\n",
    "class Subclass(Superclass):\n",
    "    def __init__(self, value, additional_value):\n",
    "        super().__init__(value)  # Call superclass's __init__\n",
    "        self.additional_value = additional_value\n"
   ]
  },
  {
   "cell_type": "markdown",
   "metadata": {},
   "source": [
    "---\n",
    "---"
   ]
  },
  {
   "cell_type": "markdown",
   "metadata": {},
   "source": [
    "### **4. How can you augment, instead of completely replacing, an inherited method?**\n",
    "**Ans:** `super()` method can be used to argument, instead of completely replacing an inherited method."
   ]
  },
  {
   "cell_type": "code",
   "execution_count": 3,
   "metadata": {},
   "outputs": [
    {
     "name": "stdout",
     "output_type": "stream",
     "text": [
      "Superclass method\n",
      "Subclass method extension\n"
     ]
    }
   ],
   "source": [
    "class Superclass:\n",
    "    def method(self):\n",
    "        print(\"Superclass method\")\n",
    "\n",
    "class Subclass(Superclass):\n",
    "    def method(self):\n",
    "        super().method()  # Call superclass method\n",
    "        print(\"Subclass method extension\")\n",
    "\n",
    "obj = Subclass()\n",
    "obj.method()\n"
   ]
  },
  {
   "cell_type": "markdown",
   "metadata": {},
   "source": [
    "---\n",
    "---"
   ]
  },
  {
   "cell_type": "markdown",
   "metadata": {},
   "source": [
    "### **5. How is the local scope of a class different from that of a function?**\n",
    "**Ans:** The local scope of a class refers to the scope within methods and attributes of the class, allowing access to class-level attributes and methods. The local scope of a function refers to the scope within the function's block, where variables are created and accessible only within the function. Class methods can access both class-level and local scopes, while function variables are limited to the function's scope."
   ]
  },
  {
   "cell_type": "markdown",
   "metadata": {},
   "source": [
    "---\n",
    "---"
   ]
  }
 ],
 "metadata": {
  "kernelspec": {
   "display_name": "base",
   "language": "python",
   "name": "python3"
  },
  "language_info": {
   "codemirror_mode": {
    "name": "ipython",
    "version": 3
   },
   "file_extension": ".py",
   "mimetype": "text/x-python",
   "name": "python",
   "nbconvert_exporter": "python",
   "pygments_lexer": "ipython3",
   "version": "3.11.3"
  },
  "orig_nbformat": 4
 },
 "nbformat": 4,
 "nbformat_minor": 2
}
