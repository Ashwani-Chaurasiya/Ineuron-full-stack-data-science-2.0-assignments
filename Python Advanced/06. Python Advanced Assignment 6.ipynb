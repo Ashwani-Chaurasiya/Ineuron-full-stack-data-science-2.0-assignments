{
 "cells": [
  {
   "cell_type": "markdown",
   "metadata": {},
   "source": [
    "# **Assignment 6**"
   ]
  },
  {
   "cell_type": "markdown",
   "metadata": {},
   "source": [
    "### **QI. Describe three applications for exception processing.**\n",
    "**Ans:** Three applications for exception processing are:\n",
    "\n",
    "1. **Error Handling**: Catch and handle errors gracefully to prevent program crashes and provide recovery mechanisms.\n",
    "\n",
    "2. **Debugging**: Use exceptions to gather diagnostic information about errors, aiding in troubleshooting and identifying issues.\n",
    "\n",
    "3. **Resource Management**: Ensure proper cleanup of resources like files or memory, even when errors occur, to prevent leaks and maintain efficiency."
   ]
  },
  {
   "cell_type": "markdown",
   "metadata": {},
   "source": [
    "---\n",
    "---"
   ]
  },
  {
   "cell_type": "markdown",
   "metadata": {},
   "source": [
    "### **Q2. What happens if you don't do something extra to treat anexception? in short.**\n",
    "**Ans:** \n",
    "If we don't do something extra to treat an exception, the default behavior is that the program will crash. This is because the exception will propagate up the call stack until it reaches a handler that can handle it. If no handler can handle the exception, the program will terminate."
   ]
  },
  {
   "cell_type": "markdown",
   "metadata": {},
   "source": [
    "---\n",
    "---"
   ]
  },
  {
   "cell_type": "markdown",
   "metadata": {},
   "source": [
    "### **Q3. What are your options for recovering from an exception in your script?**\n",
    "**Ans:** Options for recovering from exceptions in a script include:\n",
    "\n",
    "1. **Try-Except**: Catch and handle specific exceptions to continue execution.\n",
    "2. **Try-Except-Else**: Execute code when no exceptions occur in the try block.\n",
    "3. **Try-Finally**: Ensure cleanup or resource release regardless of exceptions."
   ]
  },
  {
   "cell_type": "markdown",
   "metadata": {},
   "source": [
    "---\n",
    "---"
   ]
  },
  {
   "cell_type": "markdown",
   "metadata": {},
   "source": [
    "### **Q4. Describe two methods for triggering exceptions in your script ?**\n",
    "**Ans:** Two methods for triggering exceptions in our script:\n",
    "\n",
    "1. **Explicit Raise**: Use `raise` statement to create and raise an exception explicitly.\n",
    "\n",
    "2. **assert** will let the program to continue execution if condition provided to it turns out to be True else exception will be raised"
   ]
  },
  {
   "cell_type": "markdown",
   "metadata": {},
   "source": [
    "---\n",
    "---"
   ]
  },
  {
   "cell_type": "markdown",
   "metadata": {},
   "source": [
    "### **Q5. Identify two methods for specifying actions to be executed at termination time, regardless of whether or not an exception exists. in short.**\n",
    "**Ans:** Two methods for specifying actions to be executed at termination time, regardless of whether or not an exception exists:\n",
    "\n",
    "1. **Using `finally`**: Place code in a `finally` block after a `try` or `try-except` block. The code within the `finally` block will be executed no matter what, whether an exception occurred or not.\n",
    "\n",
    "2. **Context Managers (`with` statement)**: Use the `with` statement to define a context manager. You can specify actions to be taken when entering the context (using `__enter__`) and at the end, including exceptions (using `__exit__`). This is commonly used for resource management, like file closing.\n",
    "\n",
    "Both methods ensure that specified code will run regardless of whether an exception is raised or not."
   ]
  },
  {
   "cell_type": "markdown",
   "metadata": {},
   "source": [
    "---\n",
    "---"
   ]
  }
 ],
 "metadata": {
  "language_info": {
   "name": "python"
  },
  "orig_nbformat": 4
 },
 "nbformat": 4,
 "nbformat_minor": 2
}
