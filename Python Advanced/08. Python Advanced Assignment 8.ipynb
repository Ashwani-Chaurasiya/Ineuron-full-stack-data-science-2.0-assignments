{
 "cells": [
  {
   "cell_type": "markdown",
   "metadata": {},
   "source": [
    "# **Assignment 8**"
   ]
  },
  {
   "cell_type": "markdown",
   "metadata": {},
   "source": [
    "### **QI. What are the two latest user-defined exception constraints in Python 3.X?**\n",
    "**Ans:** `raise` and `assert` are the two user-defined exception constraints in Python 3.X."
   ]
  },
  {
   "cell_type": "markdown",
   "metadata": {},
   "source": [
    "---\n",
    "---"
   ]
  },
  {
   "cell_type": "markdown",
   "metadata": {},
   "source": [
    "### **Q2. How are class-based exceptions that have been raised matched to handlers?**\n",
    "**Ans:** Class-based exceptions that are raised are matched to handlers based on the order of inheritance. Python traverses the exception hierarchy from the most specific exception class to the most general, executing the first matching `except` block encountered."
   ]
  },
  {
   "cell_type": "code",
   "execution_count": 1,
   "metadata": {},
   "outputs": [
    {
     "name": "stdout",
     "output_type": "stream",
     "text": [
      "CustomError handler\n"
     ]
    }
   ],
   "source": [
    "class CustomError(Exception):\n",
    "    pass\n",
    "\n",
    "class SpecificError(CustomError):\n",
    "    pass\n",
    "\n",
    "try:\n",
    "    raise SpecificError(\"An error occurred\")\n",
    "except CustomError:\n",
    "    print(\"CustomError handler\")\n",
    "except SpecificError:\n",
    "    print(\"SpecificError handler\")"
   ]
  },
  {
   "cell_type": "markdown",
   "metadata": {},
   "source": [
    "---\n",
    "---"
   ]
  },
  {
   "cell_type": "markdown",
   "metadata": {},
   "source": [
    "### **Q3. Describe two methods for attaching context information to exception artefacts ?**\n",
    "**Ans:** Two methods for attaching context information to exception artifacts are:\n",
    "\n",
    "1. **Exception Arguments**: When raising an exception, we can pass additional information as arguments to the exception class. This can include values, messages, or objects that provide context about the exception.\n",
    "\n",
    "2. **Exception Chaining**: When catching one exception and raising another, we can chain the exceptions using the `from` keyword. This preserves the context of the original exception while creating a new one, allowing for more informative error messages.\n",
    "\n",
    "Both methods help in providing valuable context to exceptions, aiding in identifying the cause and facilitating debugging."
   ]
  },
  {
   "cell_type": "markdown",
   "metadata": {},
   "source": [
    "---\n",
    "---"
   ]
  },
  {
   "cell_type": "markdown",
   "metadata": {},
   "source": [
    "### **Q4. Describe two methods for specifying the text of an exception object's error message ?**\n",
    "**Ans:** Two methods for specifying the text of an exception object's error message:\n",
    "\n",
    "1. **Custom Exception Class**: Create a custom exception class by inheriting from a built-in exception class (e.g., `Exception`). Override the `__init__` method to accept arguments for the error message and use these arguments to set the error message attribute.\n",
    "\n",
    "2. **Using `raise` with `from` Clause**: When raising an exception, we can use the `from` clause to include the error message from a previously caught exception. This can help retain the original error message along with additional context.\n",
    "\n",
    "Both methods allow you to provide meaningful error messages that convey important information about the exception to aid in debugging and understanding the issue."
   ]
  },
  {
   "cell_type": "markdown",
   "metadata": {},
   "source": [
    "---\n",
    "---"
   ]
  },
  {
   "cell_type": "markdown",
   "metadata": {},
   "source": [
    "### **Q5. Why do you no longer use string-based exceptions?**\n",
    "**Ans:** String-based Exceptions doesn't inherit from Exceptions. so plain exceptions catch all exceptions and not only system."
   ]
  },
  {
   "cell_type": "markdown",
   "metadata": {},
   "source": [
    "---\n",
    "---"
   ]
  }
 ],
 "metadata": {
  "kernelspec": {
   "display_name": "base",
   "language": "python",
   "name": "python3"
  },
  "language_info": {
   "codemirror_mode": {
    "name": "ipython",
    "version": 3
   },
   "file_extension": ".py",
   "mimetype": "text/x-python",
   "name": "python",
   "nbconvert_exporter": "python",
   "pygments_lexer": "ipython3",
   "version": "3.11.3"
  },
  "orig_nbformat": 4
 },
 "nbformat": 4,
 "nbformat_minor": 2
}
