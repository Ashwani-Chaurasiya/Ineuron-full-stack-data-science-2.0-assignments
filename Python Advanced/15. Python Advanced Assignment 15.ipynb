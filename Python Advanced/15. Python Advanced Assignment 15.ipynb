{
 "cells": [
  {
   "cell_type": "markdown",
   "id": "73b3a980",
   "metadata": {},
   "source": [
    "# **Assignment 15**"
   ]
  },
  {
   "cell_type": "markdown",
   "id": "02d9ed9f",
   "metadata": {},
   "source": [
    "### **1.\tWhat are the new features added in Python 3.8 version?**\n",
    "**Ans:** Some New Features Added in Python 3.8 Version are:\n",
    "\n",
    "1. Assignment Expressions (Walrus Operator)\n",
    "2. Positional-only Parameters\n",
    "3. f-strings improvements (including '=' syntax)\n",
    "4. __future__ annotations for type hints\n",
    "5. Syntax warning improvements\n",
    "6. New math functions (e.g., `math.prod()`)\n",
    "7. `functools.cached_property` decorator\n",
    "8. Performance optimizations\n",
    "9. New built-in function: `math.dist()`\n",
    "10. Syntax enhancements"
   ]
  },
  {
   "cell_type": "markdown",
   "id": "bd599874",
   "metadata": {},
   "source": [
    "---\n",
    "---"
   ]
  },
  {
   "cell_type": "markdown",
   "id": "9b49a548",
   "metadata": {},
   "source": [
    "### **2.What is monkey patching in Python?**\n",
    "**Ans:** In Python, the term monkey patch refers to making dynamic (or run-time) modifications to a class or module. In Python, we can actually change the behavior of code at run-time."
   ]
  },
  {
   "cell_type": "code",
   "execution_count": 2,
   "id": "ee6fa7d3",
   "metadata": {},
   "outputs": [
    {
     "name": "stdout",
     "output_type": "stream",
     "text": [
      "monkey_f() is being called\n"
     ]
    }
   ],
   "source": [
    "class A:\n",
    "    def func(self):\n",
    "        print(\"func() is being called\")\n",
    "\n",
    "def monkey_f(self):\n",
    "    print(\"monkey_f() is being called\")\n",
    "\n",
    "A.func = monkey_f\n",
    "some_object = A()\n",
    "some_object.func()"
   ]
  },
  {
   "cell_type": "markdown",
   "id": "5e378706",
   "metadata": {},
   "source": [
    "---\n",
    "---"
   ]
  },
  {
   "cell_type": "markdown",
   "id": "430104b8",
   "metadata": {},
   "source": [
    "### **3.What is the difference between a shallow copy and deep copy?**\n",
    "**Ans:** The Differences between a Shallow Copy and deep copy are as follows: \n",
    "\n",
    "- Shallow Copy: Creates a new object, but doesn't duplicate nested objects; instead, it references the same nested objects as the original.\n",
    "\n",
    "- Deep Copy: Creates a new object and recursively duplicates all nested objects, resulting in a completely independent copy of the original data structure."
   ]
  },
  {
   "cell_type": "markdown",
   "id": "cf5c7e7c",
   "metadata": {},
   "source": [
    "---\n",
    "---"
   ]
  },
  {
   "cell_type": "markdown",
   "id": "b6b51b48",
   "metadata": {},
   "source": [
    "### **4.What is the maximum possible length of an identifier?**\n",
    "**Ans:** In Python, the highest possible length of an identifier is 79 characters. Python is a high level programming language. It’s also a complex form and a collector of waste.\n",
    "\n",
    "- Python, particularly when combined with identifiers, is case-sensitive.\n",
    "- When writing or using identifiers in Python, it has a maximum of 79 characters.\n",
    "- Unlikely, Python gives the identifiers unlimited length.\n",
    "- However, the layout of PEP-8 prevents the user from breaking the rules and includes a 79-character limit."
   ]
  },
  {
   "cell_type": "markdown",
   "id": "42307acb",
   "metadata": {},
   "source": [
    "---\n",
    "---"
   ]
  },
  {
   "cell_type": "markdown",
   "id": "726679fd",
   "metadata": {},
   "source": [
    "### **5.What is generator comprehension?**\n",
    "**Ans:** A generator comprehension is a single-line specification for defining a generator in Python. \n",
    "\n",
    "- It is absolutely essential to learn this syntax in order to write simple and readable code.\n",
    "- Generator comprehension uses round bracket unlike square bracket in list comprehension.\n",
    "- The generator yields one item at a time and generates item only when in demand. Whereas, in a list comprehension, Python reserves memory for the whole list. Thus we can say that the generator expressions are memory efficient than the lists."
   ]
  },
  {
   "cell_type": "code",
   "execution_count": 3,
   "id": "bf6781e1",
   "metadata": {},
   "outputs": [
    {
     "name": "stdout",
     "output_type": "stream",
     "text": [
      "[0, 1, 2, 3, 4, 5, 6, 7, 8, 9]\n",
      "<generator object <genexpr> at 0x00000289309D1F20>\n",
      "0 2 4 6 8 "
     ]
    }
   ],
   "source": [
    "in_list = [x for x in range(10)] # List Comprehension\n",
    "print(in_list)\n",
    "out_gen = (x for x in in_list if x%2 == 0) # Generator Comprehension\n",
    "print(out_gen) # Returns a Generator Object\n",
    "for ele in out_gen:\n",
    "    print(ele, end=\" \")"
   ]
  },
  {
   "cell_type": "markdown",
   "id": "6c238291",
   "metadata": {},
   "source": [
    "\n",
    "---\n",
    "---"
   ]
  }
 ],
 "metadata": {
  "kernelspec": {
   "display_name": "Python 3",
   "language": "python",
   "name": "python3"
  },
  "language_info": {
   "codemirror_mode": {
    "name": "ipython",
    "version": 3
   },
   "file_extension": ".py",
   "mimetype": "text/x-python",
   "name": "python",
   "nbconvert_exporter": "python",
   "pygments_lexer": "ipython3",
   "version": "3.11.3"
  }
 },
 "nbformat": 4,
 "nbformat_minor": 5
}
