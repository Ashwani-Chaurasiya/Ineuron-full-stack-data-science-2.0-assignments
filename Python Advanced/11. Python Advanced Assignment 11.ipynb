{
 "cells": [
  {
   "cell_type": "markdown",
   "metadata": {},
   "source": [
    "# **Assignment 11**"
   ]
  },
  {
   "cell_type": "markdown",
   "metadata": {},
   "source": [
    "### **Q1. What is the concept of a metaclass?**\n",
    "**Ans:** A metaclass is a class that defines the behavior and structure of other classes, often referred to as its instances. In object-oriented programming, classes are used as blueprints to create objects, and metaclasses are used to define the behavior and rules for creating those classes. Metaclasses allow you to customize class creation, attribute inheritance, method resolution, and other aspects of class behavior. They are a powerful tool for shaping the behavior of classes within a programming language's framework."
   ]
  },
  {
   "cell_type": "markdown",
   "metadata": {},
   "source": [
    "---\n",
    "---"
   ]
  },
  {
   "cell_type": "markdown",
   "metadata": {},
   "source": [
    "### **Q2. What is the best way to declare a class's metaclass?**\n",
    "**Ans:** The most common way to declare a class's metaclass is by using the `metaclass` attribute within the class definition. This attribute specifies the metaclass that should be used to create instances of the class."
   ]
  },
  {
   "cell_type": "code",
   "execution_count": 1,
   "metadata": {},
   "outputs": [],
   "source": [
    "class MyMeta(type):\n",
    "    pass\n",
    "\n",
    "class MyClass(metaclass=MyMeta):\n",
    "    pass\n"
   ]
  },
  {
   "cell_type": "markdown",
   "metadata": {},
   "source": [
    "---\n",
    "---"
   ]
  },
  {
   "cell_type": "markdown",
   "metadata": {},
   "source": [
    "### **Q3. How do class decorators overlap with metaclasses for handling classes ?**\n",
    "**Ans:** Class decorators and metaclasses both allow you to customize class behavior, but they operate at different levels:\n",
    "\n",
    "- **Class Decorators:** Modify individual classes directly. Applied using `@decorator` syntax. More localized and simpler to use.\n",
    "\n",
    "- **Metaclasses:** Define how classes themselves are created. Affect all instances of a class. Control global class behavior, but can be more complex.\n",
    "\n",
    "Both serve customization purposes, but class decorators are focused on specific classes, while metaclasses influence class creation and behavior globally."
   ]
  },
  {
   "cell_type": "markdown",
   "metadata": {},
   "source": [
    "---\n",
    "---"
   ]
  },
  {
   "cell_type": "markdown",
   "metadata": {},
   "source": [
    "### **Q4. How do class decorators overlap with metaclasses for handling instances?**\n",
    "**Ans:**  Both class decorators and metaclasses can indirectly impact instance behavior through their influence on class definitions and attributes. However, their main focus is on shaping class behavior rather than directly dealing with instances."
   ]
  },
  {
   "cell_type": "markdown",
   "metadata": {},
   "source": [
    "---\n",
    "---"
   ]
  }
 ],
 "metadata": {
  "kernelspec": {
   "display_name": "base",
   "language": "python",
   "name": "python3"
  },
  "language_info": {
   "codemirror_mode": {
    "name": "ipython",
    "version": 3
   },
   "file_extension": ".py",
   "mimetype": "text/x-python",
   "name": "python",
   "nbconvert_exporter": "python",
   "pygments_lexer": "ipython3",
   "version": "3.11.3"
  },
  "orig_nbformat": 4
 },
 "nbformat": 4,
 "nbformat_minor": 2
}
