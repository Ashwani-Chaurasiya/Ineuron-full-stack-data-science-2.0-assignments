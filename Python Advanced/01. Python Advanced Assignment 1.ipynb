{
 "cells": [
  {
   "cell_type": "markdown",
   "metadata": {},
   "source": [
    "# **Assignment 1**"
   ]
  },
  {
   "cell_type": "markdown",
   "metadata": {},
   "source": [
    "### **Q1. What is the purpose of Python's OOP?**\n",
    "**Ans:** OOP stands for Object Oriented Programming. The purpose of Python's OOP is to make programs easier to understand, maintain, and reuse. OOP does this by modeling real-world entities as software objects that have some data associated with them and can perform certain functions.\n",
    "\n",
    "The benefits of using OOP in Python:\n",
    "\n",
    "* **Reusability:** Objects can be reused in different programs, which can save time and effort.\n",
    "* **Abstraction:** OOP allows you to hide the implementation details of an object from the user, which makes the code easier to understand and maintain.\n",
    "* **Encapsulation:** OOP allows you to control how data is accessed, which can improve security and performance.\n",
    "* **Inheritance:** OOP allows you to create new classes that inherit the properties and methods of existing classes. This can save time and effort, and it can also make programs more modular and extensible.\n",
    "* **Polymorphism:** OOP allows you to create objects that can behave differently depending on their type. This can make programs more flexible and powerful.\n"
   ]
  },
  {
   "cell_type": "markdown",
   "metadata": {},
   "source": [
    "---\n",
    "---"
   ]
  },
  {
   "cell_type": "markdown",
   "metadata": {},
   "source": [
    "### **Q2. Where does an inheritance search look for an attribute?**\n",
    "**Ans:** In Python, during an inheritance search, the search for an attribute starts within the instance itself. If the attribute is not found in the instance, the search continues in the class of the instance. If still not found, the search moves up the class hierarchy, checking parent classes in the order they are defined until the attribute is found or the hierarchy is exhausted. This process is known as the \"Method Resolution Order\" (MRO) and is determined using the C3 linearization algorithm."
   ]
  },
  {
   "cell_type": "markdown",
   "metadata": {},
   "source": [
    "---\n",
    "---"
   ]
  },
  {
   "cell_type": "markdown",
   "metadata": {},
   "source": [
    "### **Q3. How do you distinguish between a class object and an instance\n",
    "object?**\n",
    "**Ans:** The differences between a class object and an instance object are:\n",
    "1. Class is a template for creating objects whereas object is an instance of class\n",
    "2. Seperate memory is allocated for each object whenever an object is created. but for\n",
    "a class this doesnot happens.\n",
    "3. A Class is created once. Many objects are created using a class.\n",
    "4. As Classes have no allocated memory. they can't be manipulated. but objects can be\n",
    "manipulated."
   ]
  },
  {
   "cell_type": "markdown",
   "metadata": {},
   "source": [
    "---\n",
    "---"
   ]
  },
  {
   "cell_type": "markdown",
   "metadata": {},
   "source": [
    "### **Q4. What makes the first argument in a class's method function special?**\n",
    "**Ans:** The first argument in a class's method function, conventionally named `self`, refers to the instance of the class itself. It allows access to the instance's attributes and methods, enabling manipulation of its data and behavior within the method."
   ]
  },
  {
   "cell_type": "markdown",
   "metadata": {},
   "source": [
    "---\n",
    "---"
   ]
  },
  {
   "cell_type": "markdown",
   "metadata": {},
   "source": [
    "### **Q5. What is the purpose of the init method?**\n",
    "**Ans:** The purpose of the `__init__` method is to initialize the attributes of an instance when it's created, allowing you to set its initial state and provide any necessary values."
   ]
  },
  {
   "cell_type": "markdown",
   "metadata": {},
   "source": [
    "---\n",
    "---"
   ]
  },
  {
   "cell_type": "markdown",
   "metadata": {},
   "source": [
    "### **Q6. What is the process for creating a class instance?**\n",
    "**Ans:** To create a class instance in Python, follow these steps:\n",
    "\n",
    "1. **Define the Class**: First, define the class blueprint with its attributes and methods.\n",
    "\n",
    "2. **Instantiate the Class**: Create an instance of the class by calling the class name followed by parentheses.\n",
    "\n",
    "3. **Initialization (Optional)**: If the class has an `__init__` method, it will be automatically called during instance creation, allowing you to initialize instance-specific attributes."
   ]
  },
  {
   "cell_type": "code",
   "execution_count": 1,
   "metadata": {},
   "outputs": [
    {
     "name": "stdout",
     "output_type": "stream",
     "text": [
      "42\n"
     ]
    }
   ],
   "source": [
    "# Step 1: Define the Class\n",
    "class MyClass:\n",
    "    def __init__(self, value):\n",
    "        self.value = value\n",
    "\n",
    "    def print_value(self):\n",
    "        print(self.value)\n",
    "\n",
    "# Step 2: Instantiate the Class\n",
    "instance = MyClass(42)  # Calls the __init__ method with value=42\n",
    "\n",
    "# Step 3: Access Attributes and Methods\n",
    "instance.print_value()  # Output: 42"
   ]
  },
  {
   "cell_type": "markdown",
   "metadata": {},
   "source": [
    "---\n",
    "---"
   ]
  },
  {
   "cell_type": "markdown",
   "metadata": {},
   "source": [
    "### **Q7. What is the process for creating a class?**\n",
    "**Ans:** Creating a class in Python involves defining a blueprint for objects with shared attributes and methods. Here's the process:\n",
    "\n",
    "1. **Class Declaration**: Use the `class` keyword to declare a new class and give it a meaningful name.\n",
    "\n",
    "2. **Attributes and Methods**: Within the class block, define attributes (variables) and methods (functions) that the class will possess.\n",
    "\n",
    "3. **Initialization Method (Optional)**: If you want to initialize instance-specific attributes when an object is created, define the `__init__` method within the class.\n",
    "\n",
    "4. **Instantiate Objects**: Create instances (objects) of the class using the class name followed by parentheses. If the `__init__` method is defined, provide any required arguments.\n"
   ]
  },
  {
   "cell_type": "code",
   "execution_count": 2,
   "metadata": {},
   "outputs": [
    {
     "name": "stdout",
     "output_type": "stream",
     "text": [
      "Buddy\n",
      "Max is barking!\n"
     ]
    }
   ],
   "source": [
    "# Step 1: Class Declaration\n",
    "class Dog:\n",
    "    # Step 2: Attributes and Methods\n",
    "    def __init__(self, name, age):\n",
    "        self.name = name\n",
    "        self.age = age\n",
    "\n",
    "    def bark(self):\n",
    "        print(f\"{self.name} is barking!\")\n",
    "\n",
    "# Step 4: Instantiate Objects\n",
    "dog1 = Dog(\"Buddy\", 3)\n",
    "dog2 = Dog(\"Max\", 5)\n",
    "\n",
    "# Access Attributes and Methods\n",
    "print(dog1.name)  # Output: Buddy\n",
    "dog2.bark()       # Output: Max is barking!"
   ]
  },
  {
   "cell_type": "markdown",
   "metadata": {},
   "source": [
    "---\n",
    "---"
   ]
  },
  {
   "cell_type": "markdown",
   "metadata": {},
   "source": [
    "### **Q8. How would you define the superclasses of a class?**\n",
    "**Ans:** The superclasses of a class are defined by listing them in parentheses after the class name when defining the class. This is done using inheritance.\n",
    "\n",
    "`class Subclass(Superclass1, Superclass2):`\n",
    "    # Class definition\n",
    "\n",
    "In this example, `Subclass` inherits attributes and methods from both `Superclass1` and `Superclass2`. "
   ]
  },
  {
   "cell_type": "markdown",
   "metadata": {},
   "source": [
    "---\n",
    "---"
   ]
  }
 ],
 "metadata": {
  "kernelspec": {
   "display_name": "base",
   "language": "python",
   "name": "python3"
  },
  "language_info": {
   "codemirror_mode": {
    "name": "ipython",
    "version": 3
   },
   "file_extension": ".py",
   "mimetype": "text/x-python",
   "name": "python",
   "nbconvert_exporter": "python",
   "pygments_lexer": "ipython3",
   "version": "3.11.3"
  },
  "orig_nbformat": 4
 },
 "nbformat": 4,
 "nbformat_minor": 2
}
