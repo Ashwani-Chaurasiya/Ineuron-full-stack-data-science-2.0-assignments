{
 "cells": [
  {
   "cell_type": "markdown",
   "metadata": {},
   "source": [
    "# **Assignment 12**"
   ]
  },
  {
   "cell_type": "markdown",
   "metadata": {},
   "source": [
    "### **QI. Does assigning a value to a string's indexed character violate Python's string immutability ?**\n",
    "**Ans:** Yes, assigning a value to a string's indexed character violates Python's string immutability. Strings in Python are immutable, which means that once they are created, their contents cannot be changed. Attempting to assign a value to a specific character at a particular index of a string will result in an error."
   ]
  },
  {
   "cell_type": "markdown",
   "metadata": {},
   "source": [
    "---\n",
    "---"
   ]
  },
  {
   "cell_type": "markdown",
   "metadata": {},
   "source": [
    "### **Q2. Does using the += operator to concatenate strings violate Python's string immutability? Why or why not ?**\n",
    "**Ans:** Using the `+=` operator to concatenate strings does not violate Python's string immutability. While strings themselves are immutable, the `+=` operation creates a new string by concatenating the original string with the new value. This new string is assigned to the same variable, effectively replacing the original string. So, while the original string remains unchanged, the variable now points to a new string containing the concatenated value."
   ]
  },
  {
   "cell_type": "code",
   "execution_count": 1,
   "metadata": {},
   "outputs": [
    {
     "name": "stdout",
     "output_type": "stream",
     "text": [
      "HelloWorld\n"
     ]
    }
   ],
   "source": [
    "str1 = \"Hello\"\n",
    "str2 = \"World\"\n",
    "\n",
    "str1 += str2\n",
    "\n",
    "print(str1)\n"
   ]
  },
  {
   "cell_type": "markdown",
   "metadata": {},
   "source": [
    "---\n",
    "---"
   ]
  },
  {
   "cell_type": "markdown",
   "metadata": {},
   "source": [
    "### **Q3. In Python, how many different ways are there to index a character?**\n",
    "**Ans:** A Character in string can be indexed using string name followed by index number of character in square bracket. `Positive Indexing` i.e. first index is 0 an so on, or `Negative Indexing` i.e. last letter is -1 and so on can be used to index a character."
   ]
  },
  {
   "cell_type": "code",
   "execution_count": 2,
   "metadata": {},
   "outputs": [
    {
     "name": "stdout",
     "output_type": "stream",
     "text": [
      "H\n",
      "o\n"
     ]
    }
   ],
   "source": [
    "str = \"Hello\"\n",
    "\n",
    "# Positive indexing\n",
    "char = str[0]\n",
    "print(char)  # h\n",
    "\n",
    "# Negative indexing\n",
    "char = str[-1]\n",
    "print(char)  # o"
   ]
  },
  {
   "cell_type": "markdown",
   "metadata": {},
   "source": [
    "---\n",
    "---"
   ]
  },
  {
   "cell_type": "markdown",
   "metadata": {},
   "source": [
    "### **Q4. What is the relationship between indexing and slicing?**\n",
    "**Ans:** Indexing deals with accessing a single element, while slicing deals with extracting a range of elements from a sequence."
   ]
  },
  {
   "cell_type": "code",
   "execution_count": 6,
   "metadata": {},
   "outputs": [
    {
     "name": "stdout",
     "output_type": "stream",
     "text": [
      "H\n",
      "Hel\n"
     ]
    }
   ],
   "source": [
    "str = \"Hello\"\n",
    "\n",
    "char = str[0]\n",
    "slice = str[0:3]\n",
    "print(char)  # 'Hel'\n",
    "print(slice)  # h\n"
   ]
  },
  {
   "cell_type": "markdown",
   "metadata": {},
   "source": [
    "---\n",
    "---"
   ]
  },
  {
   "cell_type": "markdown",
   "metadata": {},
   "source": [
    "### **Q5. What is an indexed character's exact data type? What is the data form of a slicing-generated substring?**\n",
    "**Ans:** Indexed characters and sliced substrings have datatype **String**."
   ]
  },
  {
   "cell_type": "code",
   "execution_count": 8,
   "metadata": {},
   "outputs": [
    {
     "name": "stdout",
     "output_type": "stream",
     "text": [
      "<class 'str'>\n",
      "<class 'str'>\n"
     ]
    }
   ],
   "source": [
    "my_string = \"Hello\"\n",
    "print(type( my_string[1]))  # This character has a data type of str\n",
    "print(type(my_string[1:4]))  # This substring has a data type of str"
   ]
  },
  {
   "cell_type": "markdown",
   "metadata": {},
   "source": [
    "---\n",
    "---"
   ]
  },
  {
   "cell_type": "markdown",
   "metadata": {},
   "source": [
    "### **Q6. What is the relationship between string and character \"types\" in Python?**\n",
    "**Ans:** Object that contains sequence of character datatypes are called string."
   ]
  },
  {
   "cell_type": "markdown",
   "metadata": {},
   "source": [
    "---\n",
    "---"
   ]
  },
  {
   "cell_type": "markdown",
   "metadata": {},
   "source": [
    "### **Q7. Identify at least two operators & one method that allow you to combine one or more smaller strings to create a larger string ?**\n",
    "**Ans:** Operators: \n",
    "1. `+` (Concatenation operator)\n",
    "2. `*` (Repetition operator)\n",
    "\n",
    "Method:\n",
    "1. `.join()` (String method for concatenating elements of an iterable)"
   ]
  },
  {
   "cell_type": "markdown",
   "metadata": {},
   "source": [
    "---\n",
    "---"
   ]
  },
  {
   "cell_type": "markdown",
   "metadata": {},
   "source": [
    "### **Q8. What is the benefit of first checking the target string with in or not in before using the index method to find a substring ?**\n",
    "**Ans:** Checking the target string with `in` or `not in` before using the `index` method to find a substring prevents potential errors or exceptions. It allows us to verify whether the substring exists within the string before attempting to find its index. This helps avoid the `ValueError` that `index` would raise if the substring is not present in the string."
   ]
  },
  {
   "cell_type": "markdown",
   "metadata": {},
   "source": [
    "---\n",
    "---"
   ]
  },
  {
   "cell_type": "markdown",
   "metadata": {},
   "source": [
    "### **Q9. Which operators and built-in string methods produce simple Boolean (true/false) results?**\n",
    "**Ans:** Operators:\n",
    "1. `==` (Equality operator)\n",
    "2. `!=` (Inequality operator)\n",
    "3. `in` (Membership operator)\n",
    "4. `not in` (Negated membership operator)\n",
    "\n",
    "Built-in String Methods:\n",
    "1. `.startswith()` (Checks if a string starts with a specified substring)\n",
    "2. `.endswith()` (Checks if a string ends with a specified substring)\n",
    "3. `.isalpha()` (Checks if all characters in a string are alphabetic)\n",
    "4. `.isdigit()` (Checks if all characters in a string are digits)\n",
    "5. `.isalnum()` (Checks if all characters in a string are alphanumeric)\n",
    "6. `.isspace()` (Checks if all characters in a string are whitespace)\n",
    "7. `.istitle()` (Checks if a string is titlecased)\n",
    "\n",
    "These operators and methods return Boolean (True or False) results based on the conditions they evaluate."
   ]
  },
  {
   "cell_type": "markdown",
   "metadata": {},
   "source": [
    "---\n",
    "---"
   ]
  }
 ],
 "metadata": {
  "kernelspec": {
   "display_name": "base",
   "language": "python",
   "name": "python3"
  },
  "language_info": {
   "codemirror_mode": {
    "name": "ipython",
    "version": 3
   },
   "file_extension": ".py",
   "mimetype": "text/x-python",
   "name": "python",
   "nbconvert_exporter": "python",
   "pygments_lexer": "ipython3",
   "version": "3.11.3"
  },
  "orig_nbformat": 4
 },
 "nbformat": 4,
 "nbformat_minor": 2
}
