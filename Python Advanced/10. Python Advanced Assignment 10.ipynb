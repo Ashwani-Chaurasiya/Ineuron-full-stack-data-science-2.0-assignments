{
 "cells": [
  {
   "cell_type": "markdown",
   "metadata": {},
   "source": [
    "# **Assignment 10**"
   ]
  },
  {
   "cell_type": "markdown",
   "metadata": {},
   "source": [
    "### **QI. What is the difference between `__getattr__` and `__getattribute__`?**\n",
    "**Ans:** The difference between `getattr` and `getattribute`:\n",
    "\n",
    "- **`getattr`**: A built-in function to retrieve attribute values with optional default values. It's used for dynamic attribute access.\n",
    "\n",
    "- **`getattribute`**: A special method in classes that controls attribute access behavior for instances. It's called for all attribute accesses and can be overridden to customize behavior."
   ]
  },
  {
   "cell_type": "markdown",
   "metadata": {},
   "source": [
    "---\n",
    "---"
   ]
  },
  {
   "cell_type": "markdown",
   "metadata": {},
   "source": [
    "### **Q2. What is the difference between properties and descriptors?**\n",
    "**Ans:** The difference between properties and descriptors:\n",
    "\n",
    "- **Properties**: Properties are a simple way to define computed attributes in a class. They are defined using the `@property` decorator and allow us to use methods as if they were attributes. They provide a clean interface for getting, setting, and deleting values without exposing the underlying methods.\n",
    "\n",
    "- **Descriptors**: Descriptors are a more powerful mechanism for controlling attribute access. They involve defining special methods (`__get__`, `__set__`, and `__delete__`) that allow us to customize how attribute access is handled. Descriptors can be applied to multiple attributes in a class and offer more control over behavior.\n",
    "\n",
    "In short, properties are a convenient way to create computed attributes, while descriptors provide finer control over attribute access behavior."
   ]
  },
  {
   "cell_type": "markdown",
   "metadata": {},
   "source": [
    "---\n",
    "---"
   ]
  },
  {
   "cell_type": "markdown",
   "metadata": {},
   "source": [
    "### **Q3. What are the key differences in functionality between `getattr` and `getattribute`, as well as properties and descriptors?**\n",
    "**Ans:** - **`getattr` vs. `getattribute`**:\n",
    "  - `getattr`: A built-in function used to retrieve attribute values with optional default values. Used for dynamic attribute access.\n",
    "  - `getattribute`: A dunder method in classes that controls all attribute access behavior. Can be overridden to customize attribute access behavior for instances.\n",
    "\n",
    "- **Properties vs. Descriptors**:\n",
    "  - **Properties**:\n",
    "    - Defined using `@property` decorator.\n",
    "    - Provide a simplified way to define computed attributes.\n",
    "    - Used to get, set, or delete values using methods that act like attributes.\n",
    "    - Suitable for straightforward attribute behavior.\n",
    "\n",
    "  - **Descriptors**:\n",
    "    - Defined by implementing `__get__`, `__set__`, or `__delete__` methods.\n",
    "    - Offer more control over attribute access behavior.\n",
    "    - Can be applied to multiple attributes in a class.\n",
    "    - Provide a powerful mechanism for fine-tuning attribute handling and validation.\n",
    "\n",
    "In summary, `getattr` and `getattribute` control attribute access behavior, with `getattribute` offering more customization. Properties simplify computed attributes, while descriptors provide advanced control over attribute behavior."
   ]
  },
  {
   "cell_type": "markdown",
   "metadata": {},
   "source": [
    "---\n",
    "---"
   ]
  }
 ],
 "metadata": {
  "language_info": {
   "name": "python"
  },
  "orig_nbformat": 4
 },
 "nbformat": 4,
 "nbformat_minor": 2
}
