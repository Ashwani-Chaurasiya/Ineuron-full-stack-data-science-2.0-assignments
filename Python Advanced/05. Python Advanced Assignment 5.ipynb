{
 "cells": [
  {
   "cell_type": "markdown",
   "metadata": {},
   "source": [
    "# **Assignment 5**"
   ]
  },
  {
   "cell_type": "markdown",
   "metadata": {},
   "source": [
    "### **QI. What is the meaning of multiple inheritance?**\n",
    "**Ans:** \n",
    "Multiple inheritance is a feature of object-oriented programming (OOP) languages that allows a class to inherit from multiple parent classes. This means that a class can inherit the properties and methods of its parent classes."
   ]
  },
  {
   "cell_type": "code",
   "execution_count": 1,
   "metadata": {},
   "outputs": [
    {
     "name": "stdout",
     "output_type": "stream",
     "text": [
      "I am an animal.\n",
      "Woof!\n",
      "Meow!\n"
     ]
    }
   ],
   "source": [
    "class Animal:\n",
    "    def speak(self):\n",
    "        print(\"I am an animal.\")\n",
    "\n",
    "class Dog(Animal):\n",
    "    def bark(self):\n",
    "        print(\"Woof!\")\n",
    "\n",
    "class Cat(Animal):\n",
    "    def meow(self):\n",
    "        print(\"Meow!\")\n",
    "\n",
    "class Mutt(Dog, Cat):\n",
    "    pass\n",
    "\n",
    "my_mutt = Mutt()\n",
    "\n",
    "my_mutt.speak()\n",
    "my_mutt.bark()\n",
    "my_mutt.meow()\n"
   ]
  },
  {
   "cell_type": "markdown",
   "metadata": {},
   "source": [
    "---\n",
    "---"
   ]
  },
  {
   "cell_type": "markdown",
   "metadata": {},
   "source": [
    "### **Q2. What is the concept of delegation?**\n",
    "**Ans:** Delegation is the act of passing on a responsibility or task to someone or something else. In object-oriented programming (OOP), delegation is a design pattern that allows one object to defer the handling of a request to another object."
   ]
  },
  {
   "cell_type": "code",
   "execution_count": 2,
   "metadata": {},
   "outputs": [
    {
     "name": "stdout",
     "output_type": "stream",
     "text": [
      "Working...\n",
      "Task executed\n"
     ]
    }
   ],
   "source": [
    "class TaskExecutor:\n",
    "    def execute_task(self):\n",
    "        print(\"Task executed\")\n",
    "\n",
    "class Worker:\n",
    "    def __init__(self):\n",
    "        self.task_executor = TaskExecutor()\n",
    "\n",
    "    def do_work(self):\n",
    "        print(\"Working...\")\n",
    "        self.task_executor.execute_task()\n",
    "\n",
    "worker = Worker()\n",
    "worker.do_work()  # Output: Working... Task executed\n"
   ]
  },
  {
   "cell_type": "markdown",
   "metadata": {},
   "source": [
    "---\n",
    "---"
   ]
  },
  {
   "cell_type": "markdown",
   "metadata": {},
   "source": [
    "### **Q3. What is the concept of composition?**\n",
    "**Ans:** \n",
    "In object-oriented programming (OOP), composition is a design pattern that allows one object to use the services of another object. This is in contrast to inheritance, where one object inherits the properties and methods of another object."
   ]
  },
  {
   "cell_type": "code",
   "execution_count": 3,
   "metadata": {},
   "outputs": [
    {
     "name": "stdout",
     "output_type": "stream",
     "text": [
      "The engine is starting.\n",
      "The engine is running.\n",
      "The engine is stopping.\n"
     ]
    }
   ],
   "source": [
    "class Car:\n",
    "    def __init__(self, engine):\n",
    "        self.engine = engine\n",
    "\n",
    "    def drive(self):\n",
    "        self.engine.start()\n",
    "        self.engine.run()\n",
    "        self.engine.stop()\n",
    "\n",
    "class Engine:\n",
    "    def start(self):\n",
    "        print(\"The engine is starting.\")\n",
    "\n",
    "    def run(self):\n",
    "        print(\"The engine is running.\")\n",
    "\n",
    "    def stop(self):\n",
    "        print(\"The engine is stopping.\")\n",
    "\n",
    "my_car = Car(Engine())\n",
    "\n",
    "my_car.drive()\n"
   ]
  },
  {
   "cell_type": "markdown",
   "metadata": {},
   "source": [
    "---\n",
    "---"
   ]
  },
  {
   "cell_type": "markdown",
   "metadata": {},
   "source": [
    "### **Q4. What are bound methods and how do we use them?**\n",
    "**Ans:** Bound method is a method that is associated with an object. Bound methods are created when you call a method on an object, and they contain a reference to the object that the method was called on."
   ]
  },
  {
   "cell_type": "code",
   "execution_count": 4,
   "metadata": {},
   "outputs": [
    {
     "name": "stdout",
     "output_type": "stream",
     "text": [
      "Hello\n"
     ]
    }
   ],
   "source": [
    "class MyClass:\n",
    "    def __init__(self, value):\n",
    "        self.value = value\n",
    "        \n",
    "    def print_value(self):\n",
    "        print(self.value)\n",
    "\n",
    "# Create an instance\n",
    "obj = MyClass(\"Hello\")\n",
    "\n",
    "# Call the bound method\n",
    "obj.print_value()  # Output: Hello"
   ]
  },
  {
   "cell_type": "markdown",
   "metadata": {},
   "source": [
    "---\n",
    "---"
   ]
  },
  {
   "cell_type": "markdown",
   "metadata": {},
   "source": [
    "### **Q5. What is the purpose of pseudoprivate attributes?**\n",
    "**Ans:** \n",
    "Pseudoprivate attributes are attributes that are prefixed with two underscores (`__`). These attributes are not truly private, but they are not accessible from outside the class. This can be useful for hiding implementation details from users of the class."
   ]
  },
  {
   "cell_type": "code",
   "execution_count": 5,
   "metadata": {},
   "outputs": [
    {
     "name": "stdout",
     "output_type": "stream",
     "text": [
      "42\n"
     ]
    }
   ],
   "source": [
    "class MyClass:\n",
    "    def __init__(self):\n",
    "        self.__private_attribute = 42\n",
    "\n",
    "obj = MyClass()\n",
    "print(obj._MyClass__private_attribute)  # Accessing pseudoprivate attribute"
   ]
  },
  {
   "cell_type": "markdown",
   "metadata": {},
   "source": [
    "---\n",
    "---"
   ]
  }
 ],
 "metadata": {
  "kernelspec": {
   "display_name": "base",
   "language": "python",
   "name": "python3"
  },
  "language_info": {
   "codemirror_mode": {
    "name": "ipython",
    "version": 3
   },
   "file_extension": ".py",
   "mimetype": "text/x-python",
   "name": "python",
   "nbconvert_exporter": "python",
   "pygments_lexer": "ipython3",
   "version": "3.11.3"
  },
  "orig_nbformat": 4
 },
 "nbformat": 4,
 "nbformat_minor": 2
}
