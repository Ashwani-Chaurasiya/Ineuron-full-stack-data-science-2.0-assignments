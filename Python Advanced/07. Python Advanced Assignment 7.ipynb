{
 "cells": [
  {
   "cell_type": "markdown",
   "metadata": {},
   "source": [
    "# **Assignment 7**"
   ]
  },
  {
   "cell_type": "markdown",
   "metadata": {},
   "source": [
    "### **Q1. What is the purpose of the try statement?**\n",
    "**Ans:** The purpose of the `try` statement is to execute a block of code that might raise exceptions, and to provide a way to catch and handle those exceptions, preventing program crashes and allowing for graceful error handling."
   ]
  },
  {
   "cell_type": "markdown",
   "metadata": {},
   "source": [
    "---\n",
    "---"
   ]
  },
  {
   "cell_type": "markdown",
   "metadata": {},
   "source": [
    "### **Q2. What are the two most popular try statement variations?**\n",
    "**Ans:** The two most popular variations of the `try` statement are:\n",
    "\n",
    "1. **`try-except`**: The basic form where you catch and handle specific exceptions raised in the `try` block using one or more `except` blocks.\n",
    "\n",
    "2. **`try-except-else`**: Adds an `else` block that is executed if no exceptions occur in the `try` block. It allows you to specify code that should run only when no exceptions are raised.\n",
    "\n",
    "These variations enhance our ability to handle exceptions and control the flow of your program based on whether exceptions were raised or not."
   ]
  },
  {
   "cell_type": "markdown",
   "metadata": {},
   "source": [
    "---\n",
    "---"
   ]
  },
  {
   "cell_type": "markdown",
   "metadata": {},
   "source": [
    "### **Q3. What is the purpose of the raise statement?**\n",
    "**Ans:** The purpose of the `raise` statement is to explicitly raise an exception in Python. It allows us to indicate that an exceptional situation has occurred within your code. We can provide a specific exception type or create custom exceptions, along with optional error messages, to signal errors or unexpected conditions during program execution."
   ]
  },
  {
   "cell_type": "markdown",
   "metadata": {},
   "source": [
    "---\n",
    "---"
   ]
  },
  {
   "cell_type": "markdown",
   "metadata": {},
   "source": [
    "### **Q4. What does the assert statement do, and what other statement is it like.**\n",
    "**Ans:** The `assert` statement is used for debugging purposes to check if a given condition is `True`. If the condition is `False`, an `AssertionError` exception is raised, stopping the program. It's similar to an \"automated comment\" that verifies assumptions in the code.\n",
    "\n",
    "The `assert` statement is somewhat similar to the `if` statement, but while the `if` statement allows you to handle different cases, the `assert` statement focuses on validating assumptions and is typically used during development and testing to catch errors early."
   ]
  },
  {
   "cell_type": "markdown",
   "metadata": {},
   "source": [
    "---\n",
    "---"
   ]
  },
  {
   "cell_type": "markdown",
   "metadata": {},
   "source": [
    "### **Q5. What is the purpose of the with/as argument, and what other statement is it like?**\n",
    "**Ans:** The `with/as` statement in Python is used in conjunction with context managers to manage resources like files, network connections, or database connections. It ensures that resources are properly acquired and released, even in the presence of exceptions.\n",
    "\n",
    "The `with/as` statement is similar to a `try/finally` block. It simplifies resource management by automatically taking care of the cleanup operations specified in the context manager's `__exit__` method. This makes code more readable and reduces the risk of resource leaks."
   ]
  },
  {
   "cell_type": "markdown",
   "metadata": {},
   "source": [
    "---\n",
    "---"
   ]
  }
 ],
 "metadata": {
  "language_info": {
   "name": "python"
  },
  "orig_nbformat": 4
 },
 "nbformat": 4,
 "nbformat_minor": 2
}
