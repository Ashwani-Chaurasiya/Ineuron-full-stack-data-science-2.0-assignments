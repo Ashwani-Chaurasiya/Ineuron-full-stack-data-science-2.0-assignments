{
 "cells": [
  {
   "cell_type": "markdown",
   "metadata": {},
   "source": [
    "# **Assignment 9**"
   ]
  },
  {
   "cell_type": "markdown",
   "metadata": {},
   "source": [
    "### **QI. In Python 3.X, what are the names and functions of string object types?**\n",
    "**Ans:** Answer: There are many string functions some of them are mentioned below isascii(),\n",
    "islower(), isdigit(), upper(), lower(), Istrip(). rstrip()\n",
    "\n",
    "basically after definign the string we can use (dot) and them tab in jupyter notebook or\n",
    "ctrl+space in colab to access these we don't need to remember them.\n",
    "\n",
    "I refer this link for help with strings functions\n",
    "\n",
    "https://www.w3schools.com/python/python_ref_string.asp"
   ]
  },
  {
   "cell_type": "markdown",
   "metadata": {},
   "source": [
    "---\n",
    "---"
   ]
  },
  {
   "cell_type": "markdown",
   "metadata": {},
   "source": [
    "### **Q2. How do the string forms in Python 3.X vary in terms of operations?**\n",
    "**Ans:** In Python 3 default format of strings in Unicode. Whereas in Python 2 we need to explicitly mention Unicode value using `u`."
   ]
  },
  {
   "cell_type": "markdown",
   "metadata": {},
   "source": [
    "---\n",
    "---"
   ]
  },
  {
   "cell_type": "markdown",
   "metadata": {},
   "source": [
    "### **Q3. In Python 3.X, how do you put non-ASCII Unicode characters in a string?**\n",
    "**Ans:** In Python 3.x, you can include non-ASCII Unicode characters in a string using their Unicode code points (using `\\u` or `\\U` escape sequences) or Unicode escape sequences (`\\N{name}`). Native Unicode support also allows you to include non-ASCII characters directly in strings."
   ]
  },
  {
   "cell_type": "markdown",
   "metadata": {},
   "source": [
    "---\n",
    "---"
   ]
  },
  {
   "cell_type": "markdown",
   "metadata": {},
   "source": [
    "### **Q4. In Python 3.X, what are the key differences between text-modeand binary-mode files?**\n",
    "**Ans:** The key differences between text-mode and binary-mode files in Python 3.X are:\n",
    "\n",
    "* **Text mode:** Text mode files are used to store text data. When we open a text mode file, Python will convert the data to Unicode characters. When we write to a text mode file, Python will convert the Unicode characters to bytes.\n",
    "* **Binary mode:** Binary mode files are used to store binary data. When we open a binary mode file, Python will not convert the data. When we write to a binary mode file, Python will not convert the data."
   ]
  },
  {
   "cell_type": "markdown",
   "metadata": {},
   "source": [
    "---\n",
    "---"
   ]
  },
  {
   "cell_type": "markdown",
   "metadata": {},
   "source": [
    "### **Q5. How can you interpret a Unicode text file containing text encoded in a different encoding than your platform's default?**\n",
    "**Ans:** Use of `encode()` and `decode()` method can be used to you interpret a\n",
    "Unicode text file containing text encoded in a different encoding than your platform's\n",
    "default, by default encoding parameter is `UTF-8`"
   ]
  },
  {
   "cell_type": "markdown",
   "metadata": {},
   "source": [
    "---\n",
    "---"
   ]
  },
  {
   "cell_type": "markdown",
   "metadata": {},
   "source": [
    "### **Q6. What is the best way to make a Unicode text file in a particular encoding format?**\n",
    "**Ans:** The best way to create a Unicode text file in a particular encoding format in Python is to use the `open()` function with the specified encoding mode. For example:"
   ]
  },
  {
   "cell_type": "code",
   "execution_count": 1,
   "metadata": {},
   "outputs": [],
   "source": [
    "# Create a Unicode text file in UTF-8 encoding\n",
    "with open(\"myfile.txt\", \"w\", encoding=\"utf-8\") as f:\n",
    "    f.write(\"Hello, 你好, नमस्ते\")"
   ]
  },
  {
   "cell_type": "markdown",
   "metadata": {},
   "source": [
    "Replacing `\"utf-8\"` with the desired encoding, such as `\"utf-16\"` or `\"latin-1\"`, depending on our requirements. The `with` statement ensures proper file closure and handling."
   ]
  },
  {
   "cell_type": "markdown",
   "metadata": {},
   "source": [
    "---\n",
    "---"
   ]
  },
  {
   "cell_type": "markdown",
   "metadata": {},
   "source": [
    "### **Q7. What qualifies ASCII text as a form of Unicode text?**\n",
    "**Ans:** ASCII text qualifies as a form of Unicode text because the ASCII character set is a subset of the Unicode character set. ASCII characters are encoded using the same values in Unicode, making ASCII text a valid representation within the Unicode standard."
   ]
  },
  {
   "cell_type": "markdown",
   "metadata": {},
   "source": [
    "---\n",
    "---"
   ]
  },
  {
   "cell_type": "markdown",
   "metadata": {},
   "source": [
    "### **Q8. How much of an effect does the change in string types in Python 3.X have on your code?**\n",
    "**Ans:** The change in string types from Python 2.x to 3.x can have a significant effect on your code, particularly if your codebase heavily relies on string handling, text encoding, and Unicode characters. You'll need to address differences in handling non-ASCII characters, string literals, file I/O, and other related areas to ensure proper compatibility and behavior."
   ]
  },
  {
   "cell_type": "markdown",
   "metadata": {},
   "source": [
    "---\n",
    "---"
   ]
  }
 ],
 "metadata": {
  "kernelspec": {
   "display_name": "base",
   "language": "python",
   "name": "python3"
  },
  "language_info": {
   "codemirror_mode": {
    "name": "ipython",
    "version": 3
   },
   "file_extension": ".py",
   "mimetype": "text/x-python",
   "name": "python",
   "nbconvert_exporter": "python",
   "pygments_lexer": "ipython3",
   "version": "3.11.3"
  },
  "orig_nbformat": 4
 },
 "nbformat": 4,
 "nbformat_minor": 2
}
